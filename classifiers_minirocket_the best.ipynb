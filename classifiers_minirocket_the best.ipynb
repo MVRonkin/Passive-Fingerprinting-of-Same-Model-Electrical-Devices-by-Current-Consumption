{
 "cells": [
  {
   "cell_type": "code",
   "execution_count": 1,
   "id": "7f85f211",
   "metadata": {},
   "outputs": [],
   "source": [
    "import matplotlib.pyplot as plt\n",
    "%matplotlib inline\n",
    "plt.style.use('seaborn-whitegrid')\n",
    "plt.rcParams.update({'font.size': 32})\n",
    "plt.rcParams[\"figure.figsize\"] = (12,8)\n",
    "import torch\n",
    "import numpy as np\n",
    "import scipy.signal\n",
    "import scipy.io\n",
    "import pandas as pd\n",
    "import itertools\n",
    "from itertools import product\n",
    "import os\n",
    "from tqdm.notebook import tqdm, trange"
   ]
  },
  {
   "cell_type": "code",
   "execution_count": 2,
   "id": "2b03d818",
   "metadata": {},
   "outputs": [],
   "source": [
    "from sklearn.model_selection import train_test_split\n",
    "from sklearn.metrics import mean_squared_error as MSE \n",
    "from sklearn.preprocessing import LabelEncoder, MinMaxScaler\n",
    "from sklearn.neighbors import KNeighborsClassifier\n",
    "from sklearn.svm import SVC\n",
    "from sklearn.ensemble import RandomForestClassifier, AdaBoostClassifier\n",
    "from sklearn.naive_bayes import GaussianNB\n",
    "from sklearn.discriminant_analysis import LinearDiscriminantAnalysis\n",
    "from sklearn.metrics import roc_curve, roc_auc_score, mean_squared_error as MSE, log_loss,r2_score\n",
    "import seaborn as sns\n",
    "import xgboost as xgb"
   ]
  },
  {
   "cell_type": "markdown",
   "id": "1574a73c",
   "metadata": {},
   "source": [
    "## DATASET"
   ]
  },
  {
   "cell_type": "code",
   "execution_count": 5,
   "id": "61992eda",
   "metadata": {},
   "outputs": [
    {
     "data": {
      "text/plain": [
       "['102.csv',\n",
       " '103.csv',\n",
       " 'columns.csv',\n",
       " 'EWT_features_test.json',\n",
       " 'EWT_features_test_aftx.json',\n",
       " 'EWT_features_test_x.json',\n",
       " 'EWT_features_train.json',\n",
       " 'EWT_features_train_aftx.json',\n",
       " 'EWT_features_train_x.json',\n",
       " 'kernels (1).json',\n",
       " 'kernels.json',\n",
       " 'minirocket2000_Best_test.csv',\n",
       " 'minirocket2000_Best_train.csv',\n",
       " 'minirocket2000_test.csv',\n",
       " 'minirocket2000_train.csv',\n",
       " 'minirocket2500_test.csv',\n",
       " 'minirocket2500_train.csv',\n",
       " 'minirocket3000_test.csv',\n",
       " 'minirocket3000_train.csv',\n",
       " 'tsfel_test.csv',\n",
       " 'tsfel_train.csv']"
      ]
     },
     "execution_count": 5,
     "metadata": {},
     "output_type": "execute_result"
    }
   ],
   "source": [
    "storage_patrh = os.path.join(os.getcwd(),'feature_storage')\n",
    "listfiles = os.listdir(storage_patrh)\n",
    "list_featurestorage = [fname for fname in listfiles if fname.endswith(('csv','json')) ]\n",
    "list_featurestorage"
   ]
  },
  {
   "cell_type": "code",
   "execution_count": 6,
   "id": "91fd627d",
   "metadata": {},
   "outputs": [],
   "source": [
    "train_features_path = os.path.join(storage_patrh, 'minirocket2000_Best_test.csv')\n",
    "test_features_path  = os.path.join(storage_patrh, 'minirocket2000_Best_train.csv')"
   ]
  },
  {
   "cell_type": "code",
   "execution_count": 7,
   "id": "c8c88add",
   "metadata": {},
   "outputs": [],
   "source": [
    "df_train = pd.read_csv(train_features_path)\n",
    "df_test  = pd.read_csv(test_features_path )"
   ]
  },
  {
   "cell_type": "code",
   "execution_count": 8,
   "id": "33f03998",
   "metadata": {},
   "outputs": [
    {
     "data": {
      "text/html": [
       "<div>\n",
       "<style scoped>\n",
       "    .dataframe tbody tr th:only-of-type {\n",
       "        vertical-align: middle;\n",
       "    }\n",
       "\n",
       "    .dataframe tbody tr th {\n",
       "        vertical-align: top;\n",
       "    }\n",
       "\n",
       "    .dataframe thead th {\n",
       "        text-align: right;\n",
       "    }\n",
       "</style>\n",
       "<table border=\"1\" class=\"dataframe\">\n",
       "  <thead>\n",
       "    <tr style=\"text-align: right;\">\n",
       "      <th></th>\n",
       "      <th>Unnamed: 0</th>\n",
       "      <th>0</th>\n",
       "      <th>1</th>\n",
       "      <th>2</th>\n",
       "      <th>3</th>\n",
       "      <th>4</th>\n",
       "      <th>5</th>\n",
       "      <th>6</th>\n",
       "      <th>7</th>\n",
       "      <th>8</th>\n",
       "      <th>...</th>\n",
       "      <th>1922</th>\n",
       "      <th>1923</th>\n",
       "      <th>1924</th>\n",
       "      <th>1925</th>\n",
       "      <th>1926</th>\n",
       "      <th>1927</th>\n",
       "      <th>1928</th>\n",
       "      <th>1929</th>\n",
       "      <th>1930</th>\n",
       "      <th>1931</th>\n",
       "    </tr>\n",
       "  </thead>\n",
       "  <tbody>\n",
       "    <tr>\n",
       "      <th>0</th>\n",
       "      <td>0</td>\n",
       "      <td>0.3773</td>\n",
       "      <td>0.7649</td>\n",
       "      <td>0.1459</td>\n",
       "      <td>0.3793</td>\n",
       "      <td>0.7615</td>\n",
       "      <td>0.1488</td>\n",
       "      <td>0.3868</td>\n",
       "      <td>0.7640</td>\n",
       "      <td>0.1463</td>\n",
       "      <td>...</td>\n",
       "      <td>0.000</td>\n",
       "      <td>0.0</td>\n",
       "      <td>0.000</td>\n",
       "      <td>0.000</td>\n",
       "      <td>0.0</td>\n",
       "      <td>0.000</td>\n",
       "      <td>0.000</td>\n",
       "      <td>0.0</td>\n",
       "      <td>1.0</td>\n",
       "      <td>0.000</td>\n",
       "    </tr>\n",
       "    <tr>\n",
       "      <th>1</th>\n",
       "      <td>1</td>\n",
       "      <td>0.3767</td>\n",
       "      <td>0.7653</td>\n",
       "      <td>0.1449</td>\n",
       "      <td>0.3737</td>\n",
       "      <td>0.7650</td>\n",
       "      <td>0.1489</td>\n",
       "      <td>0.3763</td>\n",
       "      <td>0.7704</td>\n",
       "      <td>0.1475</td>\n",
       "      <td>...</td>\n",
       "      <td>0.000</td>\n",
       "      <td>0.0</td>\n",
       "      <td>0.000</td>\n",
       "      <td>0.000</td>\n",
       "      <td>0.0</td>\n",
       "      <td>0.000</td>\n",
       "      <td>0.000</td>\n",
       "      <td>0.0</td>\n",
       "      <td>1.0</td>\n",
       "      <td>0.000</td>\n",
       "    </tr>\n",
       "    <tr>\n",
       "      <th>2</th>\n",
       "      <td>2</td>\n",
       "      <td>0.3805</td>\n",
       "      <td>0.7667</td>\n",
       "      <td>0.1450</td>\n",
       "      <td>0.3734</td>\n",
       "      <td>0.7681</td>\n",
       "      <td>0.1470</td>\n",
       "      <td>0.3804</td>\n",
       "      <td>0.7701</td>\n",
       "      <td>0.1462</td>\n",
       "      <td>...</td>\n",
       "      <td>0.000</td>\n",
       "      <td>0.0</td>\n",
       "      <td>0.000</td>\n",
       "      <td>0.000</td>\n",
       "      <td>0.0</td>\n",
       "      <td>0.000</td>\n",
       "      <td>0.000</td>\n",
       "      <td>0.0</td>\n",
       "      <td>1.0</td>\n",
       "      <td>0.000</td>\n",
       "    </tr>\n",
       "    <tr>\n",
       "      <th>3</th>\n",
       "      <td>3</td>\n",
       "      <td>0.3819</td>\n",
       "      <td>0.7658</td>\n",
       "      <td>0.1459</td>\n",
       "      <td>0.3802</td>\n",
       "      <td>0.7632</td>\n",
       "      <td>0.1492</td>\n",
       "      <td>0.3817</td>\n",
       "      <td>0.7657</td>\n",
       "      <td>0.1502</td>\n",
       "      <td>...</td>\n",
       "      <td>0.000</td>\n",
       "      <td>0.0</td>\n",
       "      <td>0.000</td>\n",
       "      <td>0.000</td>\n",
       "      <td>0.0</td>\n",
       "      <td>0.000</td>\n",
       "      <td>0.000</td>\n",
       "      <td>0.0</td>\n",
       "      <td>1.0</td>\n",
       "      <td>0.000</td>\n",
       "    </tr>\n",
       "    <tr>\n",
       "      <th>4</th>\n",
       "      <td>4</td>\n",
       "      <td>0.3803</td>\n",
       "      <td>0.7681</td>\n",
       "      <td>0.1468</td>\n",
       "      <td>0.3791</td>\n",
       "      <td>0.7644</td>\n",
       "      <td>0.1483</td>\n",
       "      <td>0.3854</td>\n",
       "      <td>0.7662</td>\n",
       "      <td>0.1474</td>\n",
       "      <td>...</td>\n",
       "      <td>0.000</td>\n",
       "      <td>0.0</td>\n",
       "      <td>0.000</td>\n",
       "      <td>0.000</td>\n",
       "      <td>0.0</td>\n",
       "      <td>0.000</td>\n",
       "      <td>0.000</td>\n",
       "      <td>0.0</td>\n",
       "      <td>1.0</td>\n",
       "      <td>0.000</td>\n",
       "    </tr>\n",
       "    <tr>\n",
       "      <th>...</th>\n",
       "      <td>...</td>\n",
       "      <td>...</td>\n",
       "      <td>...</td>\n",
       "      <td>...</td>\n",
       "      <td>...</td>\n",
       "      <td>...</td>\n",
       "      <td>...</td>\n",
       "      <td>...</td>\n",
       "      <td>...</td>\n",
       "      <td>...</td>\n",
       "      <td>...</td>\n",
       "      <td>...</td>\n",
       "      <td>...</td>\n",
       "      <td>...</td>\n",
       "      <td>...</td>\n",
       "      <td>...</td>\n",
       "      <td>...</td>\n",
       "      <td>...</td>\n",
       "      <td>...</td>\n",
       "      <td>...</td>\n",
       "      <td>...</td>\n",
       "    </tr>\n",
       "    <tr>\n",
       "      <th>49995</th>\n",
       "      <td>49995</td>\n",
       "      <td>0.4136</td>\n",
       "      <td>0.7279</td>\n",
       "      <td>0.1511</td>\n",
       "      <td>0.4258</td>\n",
       "      <td>0.6923</td>\n",
       "      <td>0.1806</td>\n",
       "      <td>0.4385</td>\n",
       "      <td>0.6710</td>\n",
       "      <td>0.2070</td>\n",
       "      <td>...</td>\n",
       "      <td>0.750</td>\n",
       "      <td>1.0</td>\n",
       "      <td>1.000</td>\n",
       "      <td>0.875</td>\n",
       "      <td>1.0</td>\n",
       "      <td>0.250</td>\n",
       "      <td>0.625</td>\n",
       "      <td>1.0</td>\n",
       "      <td>0.0</td>\n",
       "      <td>0.875</td>\n",
       "    </tr>\n",
       "    <tr>\n",
       "      <th>49996</th>\n",
       "      <td>49996</td>\n",
       "      <td>0.4104</td>\n",
       "      <td>0.7259</td>\n",
       "      <td>0.1524</td>\n",
       "      <td>0.4345</td>\n",
       "      <td>0.6913</td>\n",
       "      <td>0.1826</td>\n",
       "      <td>0.4368</td>\n",
       "      <td>0.6664</td>\n",
       "      <td>0.2127</td>\n",
       "      <td>...</td>\n",
       "      <td>0.125</td>\n",
       "      <td>1.0</td>\n",
       "      <td>0.875</td>\n",
       "      <td>0.250</td>\n",
       "      <td>1.0</td>\n",
       "      <td>0.375</td>\n",
       "      <td>0.125</td>\n",
       "      <td>1.0</td>\n",
       "      <td>0.0</td>\n",
       "      <td>0.750</td>\n",
       "    </tr>\n",
       "    <tr>\n",
       "      <th>49997</th>\n",
       "      <td>49997</td>\n",
       "      <td>0.4147</td>\n",
       "      <td>0.7247</td>\n",
       "      <td>0.1516</td>\n",
       "      <td>0.4293</td>\n",
       "      <td>0.6955</td>\n",
       "      <td>0.1783</td>\n",
       "      <td>0.4373</td>\n",
       "      <td>0.6705</td>\n",
       "      <td>0.2040</td>\n",
       "      <td>...</td>\n",
       "      <td>0.875</td>\n",
       "      <td>1.0</td>\n",
       "      <td>0.875</td>\n",
       "      <td>0.375</td>\n",
       "      <td>1.0</td>\n",
       "      <td>1.000</td>\n",
       "      <td>0.875</td>\n",
       "      <td>1.0</td>\n",
       "      <td>0.0</td>\n",
       "      <td>0.625</td>\n",
       "    </tr>\n",
       "    <tr>\n",
       "      <th>49998</th>\n",
       "      <td>49998</td>\n",
       "      <td>0.4156</td>\n",
       "      <td>0.7265</td>\n",
       "      <td>0.1496</td>\n",
       "      <td>0.4312</td>\n",
       "      <td>0.6965</td>\n",
       "      <td>0.1761</td>\n",
       "      <td>0.4345</td>\n",
       "      <td>0.6748</td>\n",
       "      <td>0.1998</td>\n",
       "      <td>...</td>\n",
       "      <td>0.875</td>\n",
       "      <td>1.0</td>\n",
       "      <td>0.875</td>\n",
       "      <td>0.125</td>\n",
       "      <td>1.0</td>\n",
       "      <td>0.750</td>\n",
       "      <td>1.000</td>\n",
       "      <td>1.0</td>\n",
       "      <td>0.0</td>\n",
       "      <td>1.000</td>\n",
       "    </tr>\n",
       "    <tr>\n",
       "      <th>49999</th>\n",
       "      <td>49999</td>\n",
       "      <td>0.4172</td>\n",
       "      <td>0.7176</td>\n",
       "      <td>0.1502</td>\n",
       "      <td>0.4291</td>\n",
       "      <td>0.6905</td>\n",
       "      <td>0.1811</td>\n",
       "      <td>0.4409</td>\n",
       "      <td>0.6696</td>\n",
       "      <td>0.2059</td>\n",
       "      <td>...</td>\n",
       "      <td>0.750</td>\n",
       "      <td>1.0</td>\n",
       "      <td>0.750</td>\n",
       "      <td>0.375</td>\n",
       "      <td>1.0</td>\n",
       "      <td>1.000</td>\n",
       "      <td>0.875</td>\n",
       "      <td>1.0</td>\n",
       "      <td>0.0</td>\n",
       "      <td>1.000</td>\n",
       "    </tr>\n",
       "  </tbody>\n",
       "</table>\n",
       "<p>50000 rows × 1933 columns</p>\n",
       "</div>"
      ],
      "text/plain": [
       "       Unnamed: 0       0       1       2       3       4       5       6  \\\n",
       "0               0  0.3773  0.7649  0.1459  0.3793  0.7615  0.1488  0.3868   \n",
       "1               1  0.3767  0.7653  0.1449  0.3737  0.7650  0.1489  0.3763   \n",
       "2               2  0.3805  0.7667  0.1450  0.3734  0.7681  0.1470  0.3804   \n",
       "3               3  0.3819  0.7658  0.1459  0.3802  0.7632  0.1492  0.3817   \n",
       "4               4  0.3803  0.7681  0.1468  0.3791  0.7644  0.1483  0.3854   \n",
       "...           ...     ...     ...     ...     ...     ...     ...     ...   \n",
       "49995       49995  0.4136  0.7279  0.1511  0.4258  0.6923  0.1806  0.4385   \n",
       "49996       49996  0.4104  0.7259  0.1524  0.4345  0.6913  0.1826  0.4368   \n",
       "49997       49997  0.4147  0.7247  0.1516  0.4293  0.6955  0.1783  0.4373   \n",
       "49998       49998  0.4156  0.7265  0.1496  0.4312  0.6965  0.1761  0.4345   \n",
       "49999       49999  0.4172  0.7176  0.1502  0.4291  0.6905  0.1811  0.4409   \n",
       "\n",
       "            7       8  ...   1922  1923   1924   1925  1926   1927   1928  \\\n",
       "0      0.7640  0.1463  ...  0.000   0.0  0.000  0.000   0.0  0.000  0.000   \n",
       "1      0.7704  0.1475  ...  0.000   0.0  0.000  0.000   0.0  0.000  0.000   \n",
       "2      0.7701  0.1462  ...  0.000   0.0  0.000  0.000   0.0  0.000  0.000   \n",
       "3      0.7657  0.1502  ...  0.000   0.0  0.000  0.000   0.0  0.000  0.000   \n",
       "4      0.7662  0.1474  ...  0.000   0.0  0.000  0.000   0.0  0.000  0.000   \n",
       "...       ...     ...  ...    ...   ...    ...    ...   ...    ...    ...   \n",
       "49995  0.6710  0.2070  ...  0.750   1.0  1.000  0.875   1.0  0.250  0.625   \n",
       "49996  0.6664  0.2127  ...  0.125   1.0  0.875  0.250   1.0  0.375  0.125   \n",
       "49997  0.6705  0.2040  ...  0.875   1.0  0.875  0.375   1.0  1.000  0.875   \n",
       "49998  0.6748  0.1998  ...  0.875   1.0  0.875  0.125   1.0  0.750  1.000   \n",
       "49999  0.6696  0.2059  ...  0.750   1.0  0.750  0.375   1.0  1.000  0.875   \n",
       "\n",
       "       1929  1930   1931  \n",
       "0       0.0   1.0  0.000  \n",
       "1       0.0   1.0  0.000  \n",
       "2       0.0   1.0  0.000  \n",
       "3       0.0   1.0  0.000  \n",
       "4       0.0   1.0  0.000  \n",
       "...     ...   ...    ...  \n",
       "49995   1.0   0.0  0.875  \n",
       "49996   1.0   0.0  0.750  \n",
       "49997   1.0   0.0  0.625  \n",
       "49998   1.0   0.0  1.000  \n",
       "49999   1.0   0.0  1.000  \n",
       "\n",
       "[50000 rows x 1933 columns]"
      ]
     },
     "execution_count": 8,
     "metadata": {},
     "output_type": "execute_result"
    }
   ],
   "source": [
    "df_test"
   ]
  },
  {
   "cell_type": "code",
   "execution_count": 9,
   "id": "f57d14f5",
   "metadata": {},
   "outputs": [],
   "source": [
    "X_train = df_train.astype('float32').values\n",
    "y_train = np.arange(40).repeat(1250)\n",
    "\n",
    "X_test = df_test.astype('float32').values\n",
    "y_test = np.arange(40).repeat(1250) "
   ]
  },
  {
   "cell_type": "code",
   "execution_count": 10,
   "id": "f39dbcb3",
   "metadata": {},
   "outputs": [],
   "source": [
    "scaler = MinMaxScaler()\n",
    "X_train = scaler.fit_transform(X_train)\n",
    "X_test  = scaler.transform(X_test)"
   ]
  },
  {
   "cell_type": "markdown",
   "id": "8a39a487",
   "metadata": {},
   "source": [
    "## MODELS"
   ]
  },
  {
   "cell_type": "code",
   "execution_count": null,
   "id": "a30537fc",
   "metadata": {},
   "outputs": [],
   "source": [
    "xgBoost = xgb.XGBClassifier(random_state=42)\n",
    "knn     = KNeighborsClassifier(n_neighbors=1)\n",
    "svc     = SVC(probability=True,random_state=42)\n",
    "randomForest  = RandomForestClassifier(random_state=42,n_estimators=100,max_depth=None)\n",
    "randomForest2 = RandomForestClassifier(random_state=42)\n",
    "\n",
    "adaBoost = AdaBoostClassifier(random_state=42)\n",
    "lda = LinearDiscriminantAnalysis(tol  = 1e-2)\n",
    "nb       = GaussianNB()\n",
    "\n",
    "from sklearn.linear_model import RidgeClassifierCV, LogisticRegression, LogisticRegressionCV\n",
    "lin = RidgeClassifierCV()\n",
    "logreg = LogisticRegression()\n",
    "\n",
    "models =  ((lda,\"Linear Discriminant Analysis\"),\n",
    "#     (xgBoost,\"XGBoost Classifier\"),\n",
    "           (knn,\"KNN Classifier\"),\n",
    "#            (svc,\"SVC Classifier\"),\n",
    "           (randomForest,\"Random Forest Classifier\"),\n",
    "#            (randomForest2,\"Random Forest Classifier 2\"),\n",
    "#            (adaBoost,\"AdaBoost Classifier\"),\n",
    "#            (lin,\"Linear Ridge Classifier CV\"),\n",
    "            (logregcv,\"Logistic Regression\"),\n",
    "           (nb,\"Naive Bayes Classifier\"))"
   ]
  },
  {
   "cell_type": "markdown",
   "id": "dcfae06d",
   "metadata": {},
   "source": [
    "## FULL FEATURE SPACE"
   ]
  },
  {
   "cell_type": "code",
   "execution_count": 11,
   "id": "21fadc13",
   "metadata": {},
   "outputs": [
    {
     "name": "stdout",
     "output_type": "stream",
     "text": [
      "Linear Discriminant Analysis\n",
      "Accuracy for test: Linear Discriminant Analysis:\t 0.8441,Accuracy for train: 1.0\n",
      "KNN Classifier\n",
      "Accuracy for test: KNN Classifier:\t 0.69262,Accuracy for train: 1.0\n",
      "Random Forest Classifier\n",
      "Accuracy for test: Random Forest Classifier:\t 0.79006,Accuracy for train: 0.99964\n",
      "Naive Bayes Classifier\n",
      "Accuracy for test: Naive Bayes Classifier:\t 0.68728,Accuracy for train: 0.98806\n"
     ]
    }
   ],
   "source": [
    "for model,name in models:\n",
    "    print(name)\n",
    "    model.fit(X_train,y_train)\n",
    "    print(f\"Accuracy for test: {name}:\\t {model.score(X_test,y_test)},Accuracy for train: {model.score(X_train,y_train)}\")"
   ]
  },
  {
   "cell_type": "code",
   "execution_count": 12,
   "id": "53dc5ce7",
   "metadata": {},
   "outputs": [
    {
     "name": "stdout",
     "output_type": "stream",
     "text": [
      "Accuracy of Linear Discriminant Analysis:\t 0.8441\n"
     ]
    },
    {
     "data": {
      "image/png": "[encoded data removed]",
      "text/plain": [
       "<Figure size 864x576 with 1 Axes>"
      ]
     },
     "metadata": {},
     "output_type": "display_data"
    }
   ],
   "source": [
    "clf_id = 0\n",
    "predicts = models[clf_id][0].predict(X_test)\n",
    "plt.plot(y_test)\n",
    "plt.plot(predicts)\n",
    "print(f\"Accuracy of {models[clf_id][1]}:\\t {models[0][0].score(X_test,y_test)}\")"
   ]
  },
  {
   "cell_type": "code",
   "execution_count": 13,
   "id": "8677c3e5",
   "metadata": {
    "scrolled": false
   },
   "outputs": [
    {
     "data": {
      "text/plain": [
       "[<matplotlib.lines.Line2D at 0x241016439e8>]"
      ]
     },
     "execution_count": 13,
     "metadata": {},
     "output_type": "execute_result"
    },
    {
     "data": {
      "image/png": "[encoded data removed]",
      "text/plain": [
       "<Figure size 864x576 with 1 Axes>"
      ]
     },
     "metadata": {},
     "output_type": "display_data"
    }
   ],
   "source": [
    "predicts = models[0][0].predict(X_train)\n",
    "plt.plot(y_train)\n",
    "plt.plot(predicts)"
   ]
  },
  {
   "cell_type": "markdown",
   "id": "d1f67250",
   "metadata": {},
   "source": [
    "## CORRELATION"
   ]
  },
  {
   "cell_type": "code",
   "execution_count": 14,
   "id": "acec9b1d",
   "metadata": {
    "scrolled": false
   },
   "outputs": [
    {
     "name": "stdout",
     "output_type": "stream",
     "text": [
      "(50000, 1933)\n"
     ]
    },
    {
     "name": "stderr",
     "output_type": "stream",
     "text": [
      "c:\\users\\ronkin\\appdata\\local\\programs\\python\\python37\\lib\\site-packages\\ipykernel_launcher.py:10: DeprecationWarning: `np.bool` is a deprecated alias for the builtin `bool`. To silence this warning, use `bool` by itself. Doing this will not modify any behavior and is safe. If you specifically wanted the numpy scalar type, use `np.bool_` here.\n",
      "Deprecated in NumPy 1.20; for more details and guidance: https://numpy.org/devdocs/release/1.20.0-notes.html#deprecations\n",
      "  # Remove the CWD from sys.path while we load stuff.\n"
     ]
    },
    {
     "name": "stdout",
     "output_type": "stream",
     "text": [
      "(50000, 435) (50000, 435)\n"
     ]
    }
   ],
   "source": [
    "df_all = df_train.copy()\n",
    "print(df_all.shape)\n",
    "\n",
    "if 'source' in df_all.columns:\n",
    "    df_all = df_all.drop(columns='source')\n",
    "\n",
    "# Create correlation matrix\n",
    "corr_matrix = df_all.corr().abs()\n",
    "# Select upper triangle of correlation matrix\n",
    "upper = corr_matrix.where(np.triu(np.ones(corr_matrix.shape), k=1).astype(np.bool))\n",
    "# Find features with correlation greater than 0.95\n",
    "to_drop = [column for column in upper.columns if any(upper[column] > 0.95)]\n",
    "# Drop features \n",
    "df_train.drop(to_drop, axis=1, inplace=True)\n",
    "df_test.drop(to_drop, axis=1, inplace=True)\n",
    "print(df_train.shape, df_test.shape,)"
   ]
  },
  {
   "cell_type": "code",
   "execution_count": 15,
   "id": "463fea01",
   "metadata": {},
   "outputs": [],
   "source": [
    "X_train_ = df_train.astype('float32').values\n",
    "X_test_ = df_test.astype('float32').values\n",
    "scaler = MinMaxScaler()\n",
    "X_train_ = scaler.fit_transform(X_train_)\n",
    "X_test_  = scaler.transform(X_test_)"
   ]
  },
  {
   "cell_type": "code",
   "execution_count": 16,
   "id": "827bdc6d",
   "metadata": {
    "scrolled": true
   },
   "outputs": [
    {
     "name": "stdout",
     "output_type": "stream",
     "text": [
      "Linear Discriminant Analysis\n",
      "Accuracy for test: Linear Discriminant Analysis:\t 0.80348,Accuracy for train: 1.0\n",
      "KNN Classifier\n",
      "Accuracy for test: KNN Classifier:\t 0.61456,Accuracy for train: 1.0\n",
      "Random Forest Classifier\n",
      "Accuracy for test: Random Forest Classifier:\t 0.76988,Accuracy for train: 0.99794\n",
      "Naive Bayes Classifier\n",
      "Accuracy for test: Naive Bayes Classifier:\t 0.70292,Accuracy for train: 0.98892\n"
     ]
    }
   ],
   "source": [
    "from copy import deepcopy\n",
    "models_ = deepcopy(models)\n",
    "\n",
    "for model,name in models_:\n",
    "    print(name)\n",
    "    model.fit(X_train_,y_train)\n",
    "    print(f\"Accuracy for test: {name}:\\t {model.score(X_test_,y_test)},Accuracy for train: {model.score(X_train_,y_train)}\")"
   ]
  },
  {
   "cell_type": "markdown",
   "id": "73d39339",
   "metadata": {},
   "source": [
    "## CORRELATION + RF FEATURE IMPORTANCE FEATURE SELECTION"
   ]
  },
  {
   "cell_type": "code",
   "execution_count": 17,
   "id": "458a04db",
   "metadata": {},
   "outputs": [
    {
     "name": "stdout",
     "output_type": "stream",
     "text": [
      "(435,)\n"
     ]
    }
   ],
   "source": [
    "featuresrf = models_[2][0].feature_importances_\n",
    "print(featuresrf.shape)"
   ]
  },
  {
   "cell_type": "code",
   "execution_count": 29,
   "id": "a16dcde8",
   "metadata": {},
   "outputs": [
    {
     "name": "stdout",
     "output_type": "stream",
     "text": [
      "(435,)\n",
      "(50000, 18)\n"
     ]
    }
   ],
   "source": [
    "featuresrf = models_[2][0].feature_importances_\n",
    "print(featuresrf.shape)\n",
    "idx4rest = np.where(featuresrf>0.2*featuresrf.max())#0.023=0.32\n",
    "# print(df_train.columns[:-1][idx4rest])\n",
    "X_train__ = X_train_[:,idx4rest[0]]\n",
    "X_test__  = X_test_ [:,idx4rest[0]]\n",
    "print(X_train__.shape)"
   ]
  },
  {
   "cell_type": "code",
   "execution_count": 30,
   "id": "b2556106",
   "metadata": {},
   "outputs": [
    {
     "name": "stdout",
     "output_type": "stream",
     "text": [
      "Linear Discriminant Analysis\n",
      "Accuracy for test: Linear Discriminant Analysis:\t 0.94206,Accuracy for train: 0.99878\n",
      "KNN Classifier\n",
      "Accuracy for test: KNN Classifier:\t 0.78046,Accuracy for train: 1.0\n",
      "Random Forest Classifier\n",
      "Accuracy for test: Random Forest Classifier:\t 0.90756,Accuracy for train: 0.99998\n",
      "Naive Bayes Classifier\n",
      "Accuracy for test: Naive Bayes Classifier:\t 0.85672,Accuracy for train: 0.99778\n"
     ]
    }
   ],
   "source": [
    "models__ = deepcopy(models)\n",
    "\n",
    "for model,name in models__:\n",
    "    print(name)\n",
    "    model.fit(X_train__,y_train)\n",
    "    print(f\"Accuracy for test: {name}:\\t {model.score(X_test__,y_test)},Accuracy for train: {model.score(X_train__,y_train)}\")"
   ]
  },
  {
   "cell_type": "code",
   "execution_count": 31,
   "id": "31ccc013",
   "metadata": {},
   "outputs": [
    {
     "name": "stdout",
     "output_type": "stream",
     "text": [
      "Accuracy of Random Forest Classifier:\t 0.90756\n"
     ]
    },
    {
     "data": {
      "image/png": "[encoded data removed]",
      "text/plain": [
       "<Figure size 864x576 with 1 Axes>"
      ]
     },
     "metadata": {},
     "output_type": "display_data"
    }
   ],
   "source": [
    "clf_id = 2\n",
    "predicts = models__[clf_id][0].predict(X_test__)\n",
    "plt.plot(y_test)\n",
    "plt.plot(predicts)\n",
    "print(f\"Accuracy of {models[clf_id][1]}:\\t {models__[clf_id][0].score(X_test__,y_test)}\")"
   ]
  },
  {
   "cell_type": "code",
   "execution_count": 32,
   "id": "f3ade274",
   "metadata": {},
   "outputs": [
    {
     "name": "stdout",
     "output_type": "stream",
     "text": [
      "Accuracy of Linear Discriminant Analysis:\t 0.94206\n"
     ]
    },
    {
     "data": {
      "image/png": "[encoded data removed]",
      "text/plain": [
       "<Figure size 864x576 with 1 Axes>"
      ]
     },
     "metadata": {},
     "output_type": "display_data"
    }
   ],
   "source": [
    "clf_id = 0\n",
    "predicts = models__[clf_id][0].predict(X_test__)\n",
    "plt.plot(y_test)\n",
    "plt.plot(predicts)\n",
    "print(f\"Accuracy of {models[clf_id][1]}:\\t {models__[clf_id][0].score(X_test__,y_test)}\")"
   ]
  },
  {
   "cell_type": "code",
   "execution_count": 33,
   "id": "f70f02a4",
   "metadata": {},
   "outputs": [],
   "source": [
    "df_minirocket_lda = pd.DataFrame(predicts)\n",
    "df_minirocket_lda.to_csv('minirocket_lda.csv')"
   ]
  },
  {
   "cell_type": "markdown",
   "id": "a40f514b",
   "metadata": {},
   "source": [
    "## RF FEATURE IMPORTANCE FEATURE SELECTION"
   ]
  },
  {
   "cell_type": "code",
   "execution_count": 21,
   "id": "3525ad5d",
   "metadata": {},
   "outputs": [
    {
     "name": "stdout",
     "output_type": "stream",
     "text": [
      "(1933,)\n",
      "(50000, 19)\n"
     ]
    }
   ],
   "source": [
    "featuresrf = models[2][0].feature_importances_\n",
    "print(featuresrf.shape)\n",
    "idx4rest = np.where(featuresrf>0.2*featuresrf.max())#0.023=0.32\n",
    "# print(df_train.columns[:-1][idx4rest])\n",
    "X_train__ = X_train[:,idx4rest[0]]\n",
    "X_test__  = X_test[:,idx4rest[0]]\n",
    "print(X_train__.shape)"
   ]
  },
  {
   "cell_type": "code",
   "execution_count": 22,
   "id": "cbc647b8",
   "metadata": {},
   "outputs": [
    {
     "name": "stdout",
     "output_type": "stream",
     "text": [
      "Linear Discriminant Analysis\n",
      "Accuracy for test: Linear Discriminant Analysis:\t 0.88334,Accuracy for train: 0.99868\n",
      "KNN Classifier\n",
      "Accuracy for test: KNN Classifier:\t 0.88866,Accuracy for train: 1.0\n",
      "Random Forest Classifier\n",
      "Accuracy for test: Random Forest Classifier:\t 0.92024,Accuracy for train: 0.99956\n",
      "Naive Bayes Classifier\n",
      "Accuracy for test: Naive Bayes Classifier:\t 0.90254,Accuracy for train: 0.99564\n"
     ]
    }
   ],
   "source": [
    "models__ = deepcopy(models)\n",
    "\n",
    "for model,name in models__:\n",
    "    print(name)\n",
    "    model.fit(X_train__,y_train)\n",
    "    print(f\"Accuracy for test: {name}:\\t {model.score(X_test__,y_test)},Accuracy for train: {model.score(X_train__,y_train)}\")"
   ]
  },
  {
   "cell_type": "code",
   "execution_count": 23,
   "id": "d98706a4",
   "metadata": {
    "scrolled": true
   },
   "outputs": [
    {
     "name": "stdout",
     "output_type": "stream",
     "text": [
      "Accuracy of Random Forest Classifier:\t 0.92024\n"
     ]
    },
    {
     "data": {
      "image/png": "[encoded data removed]",
      "text/plain": [
       "<Figure size 864x576 with 1 Axes>"
      ]
     },
     "metadata": {},
     "output_type": "display_data"
    }
   ],
   "source": [
    "clf_id = 2\n",
    "predicts = models__[clf_id][0].predict(X_test__)\n",
    "plt.plot(y_test)\n",
    "plt.plot(predicts)\n",
    "print(f\"Accuracy of {models[clf_id][1]}:\\t {models__[clf_id][0].score(X_test__,y_test)}\")"
   ]
  },
  {
   "cell_type": "markdown",
   "id": "12837f9c",
   "metadata": {},
   "source": [
    "## ANOVA"
   ]
  },
  {
   "cell_type": "code",
   "execution_count": 24,
   "id": "75f7ca73",
   "metadata": {},
   "outputs": [
    {
     "data": {
      "text/plain": [
       "SelectKBest(k=300)"
      ]
     },
     "execution_count": 24,
     "metadata": {},
     "output_type": "execute_result"
    }
   ],
   "source": [
    "from sklearn.feature_selection import SelectKBest, RFECV,RFE, VarianceThreshold, SelectFromModel\n",
    "from sklearn.feature_selection import f_classif,  chi2,  mutual_info_classif \n",
    "\n",
    "# Create an SelectKBest object to select features with two best ANOVA F-Values\n",
    "fselector = SelectKBest(chi2, k=10)\n",
    "fselector = SelectKBest(f_classif, k=300)\n",
    "# fselector = SelectKBest(mutual_info_classif, k=18)\n",
    "# fselector = VarianceThreshold(threshold=.034)\n",
    "# fselector = RFECV(estimator=models[0][0], step=1, scoring='neg_mean_squared_error')\n",
    "# fselector = RFE(estimator=models[0][0], step=1)\n",
    "# fselector = SelectFromModel(estimator=models[0][0],norm_order=1)\n",
    "\n",
    "# Apply the SelectKBest object to the features and target\n",
    "fselector.fit(X_train, y_train)\n"
   ]
  },
  {
   "cell_type": "code",
   "execution_count": 25,
   "id": "b8285c19",
   "metadata": {},
   "outputs": [
    {
     "data": {
      "text/plain": [
       "(50000, 300)"
      ]
     },
     "execution_count": 25,
     "metadata": {},
     "output_type": "execute_result"
    }
   ],
   "source": [
    "X_train_1 = fselector.transform(X_train)\n",
    "X_test_1  = fselector.transform(X_test)\n",
    "X_train_1.shape"
   ]
  },
  {
   "cell_type": "code",
   "execution_count": 26,
   "id": "7ef29b78",
   "metadata": {},
   "outputs": [
    {
     "name": "stdout",
     "output_type": "stream",
     "text": [
      "Linear Discriminant Analysis\n",
      "Accuracy for test: Linear Discriminant Analysis:\t 0.86038,Accuracy for train: 0.99998\n",
      "KNN Classifier\n"
     ]
    },
    {
     "ename": "KeyboardInterrupt",
     "evalue": "",
     "output_type": "error",
     "traceback": [
      "\u001b[1;31m---------------------------------------------------------------------------\u001b[0m",
      "\u001b[1;31mKeyboardInterrupt\u001b[0m                         Traceback (most recent call last)",
      "\u001b[1;32m<ipython-input-26-b5046f1d7506>\u001b[0m in \u001b[0;36m<module>\u001b[1;34m\u001b[0m\n\u001b[0;32m      4\u001b[0m     \u001b[0mprint\u001b[0m\u001b[1;33m(\u001b[0m\u001b[0mname\u001b[0m\u001b[1;33m)\u001b[0m\u001b[1;33m\u001b[0m\u001b[0m\n\u001b[0;32m      5\u001b[0m     \u001b[0mmodel\u001b[0m\u001b[1;33m.\u001b[0m\u001b[0mfit\u001b[0m\u001b[1;33m(\u001b[0m\u001b[0mX_train_1\u001b[0m\u001b[1;33m,\u001b[0m\u001b[0my_train\u001b[0m\u001b[1;33m)\u001b[0m\u001b[1;33m\u001b[0m\u001b[0m\n\u001b[1;32m----> 6\u001b[1;33m     \u001b[0mprint\u001b[0m\u001b[1;33m(\u001b[0m\u001b[1;34mf\"Accuracy for test: {name}:\\t {model.score(X_test_1,y_test)},Accuracy for train: {model.score(X_train_1,y_train)}\"\u001b[0m\u001b[1;33m)\u001b[0m\u001b[1;33m\u001b[0m\u001b[0m\n\u001b[0m",
      "\u001b[1;32mc:\\users\\ronkin\\appdata\\local\\programs\\python\\python37\\lib\\site-packages\\sklearn\\base.py\u001b[0m in \u001b[0;36mscore\u001b[1;34m(self, X, y, sample_weight)\u001b[0m\n\u001b[0;32m    649\u001b[0m         \u001b[1;32mfrom\u001b[0m \u001b[1;33m.\u001b[0m\u001b[0mmetrics\u001b[0m \u001b[1;32mimport\u001b[0m \u001b[0maccuracy_score\u001b[0m\u001b[1;33m\u001b[0m\u001b[0m\n\u001b[0;32m    650\u001b[0m \u001b[1;33m\u001b[0m\u001b[0m\n\u001b[1;32m--> 651\u001b[1;33m         \u001b[1;32mreturn\u001b[0m \u001b[0maccuracy_score\u001b[0m\u001b[1;33m(\u001b[0m\u001b[0my\u001b[0m\u001b[1;33m,\u001b[0m \u001b[0mself\u001b[0m\u001b[1;33m.\u001b[0m\u001b[0mpredict\u001b[0m\u001b[1;33m(\u001b[0m\u001b[0mX\u001b[0m\u001b[1;33m)\u001b[0m\u001b[1;33m,\u001b[0m \u001b[0msample_weight\u001b[0m\u001b[1;33m=\u001b[0m\u001b[0msample_weight\u001b[0m\u001b[1;33m)\u001b[0m\u001b[1;33m\u001b[0m\u001b[0m\n\u001b[0m\u001b[0;32m    652\u001b[0m \u001b[1;33m\u001b[0m\u001b[0m\n\u001b[0;32m    653\u001b[0m     \u001b[1;32mdef\u001b[0m \u001b[0m_more_tags\u001b[0m\u001b[1;33m(\u001b[0m\u001b[0mself\u001b[0m\u001b[1;33m)\u001b[0m\u001b[1;33m:\u001b[0m\u001b[1;33m\u001b[0m\u001b[0m\n",
      "\u001b[1;32mc:\\users\\ronkin\\appdata\\local\\programs\\python\\python37\\lib\\site-packages\\sklearn\\neighbors\\_classification.py\u001b[0m in \u001b[0;36mpredict\u001b[1;34m(self, X)\u001b[0m\n\u001b[0;32m    212\u001b[0m             \u001b[0mClass\u001b[0m \u001b[0mlabels\u001b[0m \u001b[1;32mfor\u001b[0m \u001b[0meach\u001b[0m \u001b[0mdata\u001b[0m \u001b[0msample\u001b[0m\u001b[1;33m.\u001b[0m\u001b[1;33m\u001b[0m\u001b[0m\n\u001b[0;32m    213\u001b[0m         \"\"\"\n\u001b[1;32m--> 214\u001b[1;33m         \u001b[0mneigh_dist\u001b[0m\u001b[1;33m,\u001b[0m \u001b[0mneigh_ind\u001b[0m \u001b[1;33m=\u001b[0m \u001b[0mself\u001b[0m\u001b[1;33m.\u001b[0m\u001b[0mkneighbors\u001b[0m\u001b[1;33m(\u001b[0m\u001b[0mX\u001b[0m\u001b[1;33m)\u001b[0m\u001b[1;33m\u001b[0m\u001b[0m\n\u001b[0m\u001b[0;32m    215\u001b[0m         \u001b[0mclasses_\u001b[0m \u001b[1;33m=\u001b[0m \u001b[0mself\u001b[0m\u001b[1;33m.\u001b[0m\u001b[0mclasses_\u001b[0m\u001b[1;33m\u001b[0m\u001b[0m\n\u001b[0;32m    216\u001b[0m         \u001b[0m_y\u001b[0m \u001b[1;33m=\u001b[0m \u001b[0mself\u001b[0m\u001b[1;33m.\u001b[0m\u001b[0m_y\u001b[0m\u001b[1;33m\u001b[0m\u001b[0m\n",
      "\u001b[1;32mc:\\users\\ronkin\\appdata\\local\\programs\\python\\python37\\lib\\site-packages\\sklearn\\neighbors\\_base.py\u001b[0m in \u001b[0;36mkneighbors\u001b[1;34m(self, X, n_neighbors, return_distance)\u001b[0m\n\u001b[0;32m    757\u001b[0m                     \u001b[0mmetric\u001b[0m\u001b[1;33m=\u001b[0m\u001b[0mself\u001b[0m\u001b[1;33m.\u001b[0m\u001b[0meffective_metric_\u001b[0m\u001b[1;33m,\u001b[0m\u001b[1;33m\u001b[0m\u001b[0m\n\u001b[0;32m    758\u001b[0m                     \u001b[0mn_jobs\u001b[0m\u001b[1;33m=\u001b[0m\u001b[0mn_jobs\u001b[0m\u001b[1;33m,\u001b[0m\u001b[1;33m\u001b[0m\u001b[0m\n\u001b[1;32m--> 759\u001b[1;33m                     \u001b[1;33m**\u001b[0m\u001b[0mkwds\u001b[0m\u001b[1;33m,\u001b[0m\u001b[1;33m\u001b[0m\u001b[0m\n\u001b[0m\u001b[0;32m    760\u001b[0m                 )\n\u001b[0;32m    761\u001b[0m             )\n",
      "\u001b[1;32mc:\\users\\ronkin\\appdata\\local\\programs\\python\\python37\\lib\\site-packages\\sklearn\\metrics\\pairwise.py\u001b[0m in \u001b[0;36mpairwise_distances_chunked\u001b[1;34m(X, Y, reduce_func, metric, n_jobs, working_memory, **kwds)\u001b[0m\n\u001b[0;32m   1724\u001b[0m         \u001b[1;32mif\u001b[0m \u001b[0mreduce_func\u001b[0m \u001b[1;32mis\u001b[0m \u001b[1;32mnot\u001b[0m \u001b[1;32mNone\u001b[0m\u001b[1;33m:\u001b[0m\u001b[1;33m\u001b[0m\u001b[0m\n\u001b[0;32m   1725\u001b[0m             \u001b[0mchunk_size\u001b[0m \u001b[1;33m=\u001b[0m \u001b[0mD_chunk\u001b[0m\u001b[1;33m.\u001b[0m\u001b[0mshape\u001b[0m\u001b[1;33m[\u001b[0m\u001b[1;36m0\u001b[0m\u001b[1;33m]\u001b[0m\u001b[1;33m\u001b[0m\u001b[0m\n\u001b[1;32m-> 1726\u001b[1;33m             \u001b[0mD_chunk\u001b[0m \u001b[1;33m=\u001b[0m \u001b[0mreduce_func\u001b[0m\u001b[1;33m(\u001b[0m\u001b[0mD_chunk\u001b[0m\u001b[1;33m,\u001b[0m \u001b[0msl\u001b[0m\u001b[1;33m.\u001b[0m\u001b[0mstart\u001b[0m\u001b[1;33m)\u001b[0m\u001b[1;33m\u001b[0m\u001b[0m\n\u001b[0m\u001b[0;32m   1727\u001b[0m             \u001b[0m_check_chunk_size\u001b[0m\u001b[1;33m(\u001b[0m\u001b[0mD_chunk\u001b[0m\u001b[1;33m,\u001b[0m \u001b[0mchunk_size\u001b[0m\u001b[1;33m)\u001b[0m\u001b[1;33m\u001b[0m\u001b[0m\n\u001b[0;32m   1728\u001b[0m         \u001b[1;32myield\u001b[0m \u001b[0mD_chunk\u001b[0m\u001b[1;33m\u001b[0m\u001b[0m\n",
      "\u001b[1;32mc:\\users\\ronkin\\appdata\\local\\programs\\python\\python37\\lib\\site-packages\\sklearn\\neighbors\\_base.py\u001b[0m in \u001b[0;36m_kneighbors_reduce_func\u001b[1;34m(self, dist, start, n_neighbors, return_distance)\u001b[0m\n\u001b[0;32m    632\u001b[0m         \"\"\"\n\u001b[0;32m    633\u001b[0m         \u001b[0msample_range\u001b[0m \u001b[1;33m=\u001b[0m \u001b[0mnp\u001b[0m\u001b[1;33m.\u001b[0m\u001b[0marange\u001b[0m\u001b[1;33m(\u001b[0m\u001b[0mdist\u001b[0m\u001b[1;33m.\u001b[0m\u001b[0mshape\u001b[0m\u001b[1;33m[\u001b[0m\u001b[1;36m0\u001b[0m\u001b[1;33m]\u001b[0m\u001b[1;33m)\u001b[0m\u001b[1;33m[\u001b[0m\u001b[1;33m:\u001b[0m\u001b[1;33m,\u001b[0m \u001b[1;32mNone\u001b[0m\u001b[1;33m]\u001b[0m\u001b[1;33m\u001b[0m\u001b[0m\n\u001b[1;32m--> 634\u001b[1;33m         \u001b[0mneigh_ind\u001b[0m \u001b[1;33m=\u001b[0m \u001b[0mnp\u001b[0m\u001b[1;33m.\u001b[0m\u001b[0margpartition\u001b[0m\u001b[1;33m(\u001b[0m\u001b[0mdist\u001b[0m\u001b[1;33m,\u001b[0m \u001b[0mn_neighbors\u001b[0m \u001b[1;33m-\u001b[0m \u001b[1;36m1\u001b[0m\u001b[1;33m,\u001b[0m \u001b[0maxis\u001b[0m\u001b[1;33m=\u001b[0m\u001b[1;36m1\u001b[0m\u001b[1;33m)\u001b[0m\u001b[1;33m\u001b[0m\u001b[0m\n\u001b[0m\u001b[0;32m    635\u001b[0m         \u001b[0mneigh_ind\u001b[0m \u001b[1;33m=\u001b[0m \u001b[0mneigh_ind\u001b[0m\u001b[1;33m[\u001b[0m\u001b[1;33m:\u001b[0m\u001b[1;33m,\u001b[0m \u001b[1;33m:\u001b[0m\u001b[0mn_neighbors\u001b[0m\u001b[1;33m]\u001b[0m\u001b[1;33m\u001b[0m\u001b[0m\n\u001b[0;32m    636\u001b[0m         \u001b[1;31m# argpartition doesn't guarantee sorted order, so we sort again\u001b[0m\u001b[1;33m\u001b[0m\u001b[1;33m\u001b[0m\u001b[0m\n",
      "\u001b[1;32m<__array_function__ internals>\u001b[0m in \u001b[0;36margpartition\u001b[1;34m(*args, **kwargs)\u001b[0m\n",
      "\u001b[1;32mc:\\users\\ronkin\\appdata\\local\\programs\\python\\python37\\lib\\site-packages\\numpy\\core\\fromnumeric.py\u001b[0m in \u001b[0;36margpartition\u001b[1;34m(a, kth, axis, kind, order)\u001b[0m\n\u001b[0;32m    837\u001b[0m \u001b[1;33m\u001b[0m\u001b[0m\n\u001b[0;32m    838\u001b[0m     \"\"\"\n\u001b[1;32m--> 839\u001b[1;33m     \u001b[1;32mreturn\u001b[0m \u001b[0m_wrapfunc\u001b[0m\u001b[1;33m(\u001b[0m\u001b[0ma\u001b[0m\u001b[1;33m,\u001b[0m \u001b[1;34m'argpartition'\u001b[0m\u001b[1;33m,\u001b[0m \u001b[0mkth\u001b[0m\u001b[1;33m,\u001b[0m \u001b[0maxis\u001b[0m\u001b[1;33m=\u001b[0m\u001b[0maxis\u001b[0m\u001b[1;33m,\u001b[0m \u001b[0mkind\u001b[0m\u001b[1;33m=\u001b[0m\u001b[0mkind\u001b[0m\u001b[1;33m,\u001b[0m \u001b[0morder\u001b[0m\u001b[1;33m=\u001b[0m\u001b[0morder\u001b[0m\u001b[1;33m)\u001b[0m\u001b[1;33m\u001b[0m\u001b[0m\n\u001b[0m\u001b[0;32m    840\u001b[0m \u001b[1;33m\u001b[0m\u001b[0m\n\u001b[0;32m    841\u001b[0m \u001b[1;33m\u001b[0m\u001b[0m\n",
      "\u001b[1;32mc:\\users\\ronkin\\appdata\\local\\programs\\python\\python37\\lib\\site-packages\\numpy\\core\\fromnumeric.py\u001b[0m in \u001b[0;36m_wrapfunc\u001b[1;34m(obj, method, *args, **kwds)\u001b[0m\n\u001b[0;32m     55\u001b[0m \u001b[1;33m\u001b[0m\u001b[0m\n\u001b[0;32m     56\u001b[0m     \u001b[1;32mtry\u001b[0m\u001b[1;33m:\u001b[0m\u001b[1;33m\u001b[0m\u001b[0m\n\u001b[1;32m---> 57\u001b[1;33m         \u001b[1;32mreturn\u001b[0m \u001b[0mbound\u001b[0m\u001b[1;33m(\u001b[0m\u001b[1;33m*\u001b[0m\u001b[0margs\u001b[0m\u001b[1;33m,\u001b[0m \u001b[1;33m**\u001b[0m\u001b[0mkwds\u001b[0m\u001b[1;33m)\u001b[0m\u001b[1;33m\u001b[0m\u001b[0m\n\u001b[0m\u001b[0;32m     58\u001b[0m     \u001b[1;32mexcept\u001b[0m \u001b[0mTypeError\u001b[0m\u001b[1;33m:\u001b[0m\u001b[1;33m\u001b[0m\u001b[0m\n\u001b[0;32m     59\u001b[0m         \u001b[1;31m# A TypeError occurs if the object does have such a method in its\u001b[0m\u001b[1;33m\u001b[0m\u001b[1;33m\u001b[0m\u001b[0m\n",
      "\u001b[1;31mKeyboardInterrupt\u001b[0m: "
     ]
    }
   ],
   "source": [
    "models_1 = deepcopy(models)\n",
    "\n",
    "for model,name in models_1:\n",
    "    print(name)\n",
    "    model.fit(X_train_1,y_train)\n",
    "    print(f\"Accuracy for test: {name}:\\t {model.score(X_test_1,y_test)},Accuracy for train: {model.score(X_train_1,y_train)}\")"
   ]
  },
  {
   "cell_type": "code",
   "execution_count": null,
   "id": "829c5bf0",
   "metadata": {},
   "outputs": [],
   "source": []
  },
  {
   "cell_type": "code",
   "execution_count": null,
   "id": "3451046f",
   "metadata": {},
   "outputs": [],
   "source": []
  }
 ],
 "metadata": {
  "kernelspec": {
   "display_name": "Python 3",
   "language": "python",
   "name": "python3"
  },
  "language_info": {
   "codemirror_mode": {
    "name": "ipython",
    "version": 3
   },
   "file_extension": ".py",
   "mimetype": "text/x-python",
   "name": "python",
   "nbconvert_exporter": "python",
   "pygments_lexer": "ipython3",
   "version": "3.7.0"
  },
  "toc": {
   "base_numbering": 1,
   "nav_menu": {},
   "number_sections": true,
   "sideBar": true,
   "skip_h1_title": false,
   "title_cell": "Table of Contents",
   "title_sidebar": "Contents",
   "toc_cell": false,
   "toc_position": {},
   "toc_section_display": true,
   "toc_window_display": false
  }
 },
 "nbformat": 4,
 "nbformat_minor": 5
}
