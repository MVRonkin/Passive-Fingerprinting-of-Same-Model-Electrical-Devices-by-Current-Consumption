{
 "cells": [
  {
   "cell_type": "code",
   "execution_count": 1,
   "id": "49bb8cef",
   "metadata": {},
   "outputs": [],
   "source": [
    "import matplotlib.pyplot as plt\n",
    "%matplotlib inline\n",
    "plt.style.use('seaborn-whitegrid')\n",
    "plt.rcParams.update({'font.size': 32})\n",
    "plt.rcParams[\"figure.figsize\"] = (12,8)\n",
    "import torch\n",
    "import numpy as np\n",
    "import scipy.signal\n",
    "import scipy.io\n",
    "import pandas as pd\n",
    "import itertools\n",
    "from itertools import product\n",
    "import os\n",
    "from tqdm.notebook import tqdm, trange"
   ]
  },
  {
   "cell_type": "code",
   "execution_count": 2,
   "id": "e6153473",
   "metadata": {},
   "outputs": [],
   "source": [
    "from sklearn.model_selection import train_test_split\n",
    "from sklearn.metrics import mean_squared_error as MSE \n",
    "from sklearn.preprocessing import LabelEncoder, MinMaxScaler\n",
    "from sklearn.neighbors import KNeighborsClassifier\n",
    "from sklearn.svm import SVC\n",
    "from sklearn.ensemble import RandomForestClassifier, AdaBoostClassifier\n",
    "from sklearn.naive_bayes import GaussianNB\n",
    "from sklearn.discriminant_analysis import LinearDiscriminantAnalysis\n",
    "from sklearn.metrics import roc_curve, roc_auc_score, mean_squared_error as MSE, log_loss,r2_score\n",
    "from sklearn.linear_model import RidgeClassifierCV, LogisticRegression, LogisticRegressionCV\n",
    "import seaborn as sns\n",
    "import xgboost as xgb"
   ]
  },
  {
   "cell_type": "markdown",
   "id": "25bfe61d",
   "metadata": {},
   "source": [
    "## DATASET"
   ]
  },
  {
   "cell_type": "code",
   "execution_count": 4,
   "id": "350154db",
   "metadata": {},
   "outputs": [
    {
     "data": {
      "text/plain": [
       "['kernels (1).json',\n",
       " 'minirocket2500_train.csv',\n",
       " 'minirocket2000_train.csv',\n",
       " 'minirocket2000_test.csv',\n",
       " 'minirocket2500_test.csv',\n",
       " 'tsfel_train.csv',\n",
       " '103.csv',\n",
       " '102.csv',\n",
       " 'EWT_features_train.json',\n",
       " 'EWT_features_test_x.json',\n",
       " 'tsfel_test.csv',\n",
       " 'minirocket2000_Best_train.csv',\n",
       " 'EWT_features_train_x.json',\n",
       " 'minirocket2000_Best_test.csv',\n",
       " 'EWT_features_test.json']"
      ]
     },
     "execution_count": 4,
     "metadata": {},
     "output_type": "execute_result"
    }
   ],
   "source": [
    "storage_patrh = os.path.join(os.getcwd(),'feature_storage')\n",
    "listfiles = os.listdir(storage_patrh)\n",
    "list_featurestorage = [fname for fname in listfiles if fname.endswith(('csv','json')) ]\n",
    "list_featurestorage"
   ]
  },
  {
   "cell_type": "code",
   "execution_count": 5,
   "id": "6af21fd7",
   "metadata": {},
   "outputs": [],
   "source": [
    "train_features_path = os.path.join(storage_patrh, 'EWT_features_train_x.json')\n",
    "test_features_path  = os.path.join(storage_patrh, 'EWT_features_test_x.json')"
   ]
  },
  {
   "cell_type": "code",
   "execution_count": 6,
   "id": "a574058c",
   "metadata": {
    "scrolled": true
   },
   "outputs": [],
   "source": [
    "df_train = pd.read_json(train_features_path, orient='values')\n",
    "df_test  = pd.read_json(test_features_path, orient='values' )"
   ]
  },
  {
   "cell_type": "code",
   "execution_count": 7,
   "id": "ab0027f5",
   "metadata": {
    "scrolled": true
   },
   "outputs": [
    {
     "data": {
      "text/html": [
       "<div>\n",
       "<style scoped>\n",
       "    .dataframe tbody tr th:only-of-type {\n",
       "        vertical-align: middle;\n",
       "    }\n",
       "\n",
       "    .dataframe tbody tr th {\n",
       "        vertical-align: top;\n",
       "    }\n",
       "\n",
       "    .dataframe thead th {\n",
       "        text-align: right;\n",
       "    }\n",
       "</style>\n",
       "<table border=\"1\" class=\"dataframe\">\n",
       "  <thead>\n",
       "    <tr style=\"text-align: right;\">\n",
       "      <th></th>\n",
       "      <th>0</th>\n",
       "      <th>1</th>\n",
       "      <th>2</th>\n",
       "      <th>3</th>\n",
       "      <th>4</th>\n",
       "      <th>5</th>\n",
       "      <th>6</th>\n",
       "      <th>7</th>\n",
       "      <th>8</th>\n",
       "      <th>9</th>\n",
       "      <th>...</th>\n",
       "      <th>2650</th>\n",
       "      <th>2651</th>\n",
       "      <th>2652</th>\n",
       "      <th>2653</th>\n",
       "      <th>2654</th>\n",
       "      <th>2655</th>\n",
       "      <th>2656</th>\n",
       "      <th>2657</th>\n",
       "      <th>2658</th>\n",
       "      <th>2659</th>\n",
       "    </tr>\n",
       "  </thead>\n",
       "  <tbody>\n",
       "    <tr>\n",
       "      <th>0</th>\n",
       "      <td>0.001019</td>\n",
       "      <td>0.000673</td>\n",
       "      <td>-1.100362</td>\n",
       "      <td>0.381450</td>\n",
       "      <td>0.000901</td>\n",
       "      <td>0.000328</td>\n",
       "      <td>0.001176</td>\n",
       "      <td>-1.024087</td>\n",
       "      <td>0.034677</td>\n",
       "      <td>0.000313</td>\n",
       "      <td>...</td>\n",
       "      <td>0.019093</td>\n",
       "      <td>0.000328</td>\n",
       "      <td>0.114211</td>\n",
       "      <td>4.932287</td>\n",
       "      <td>0.072332</td>\n",
       "      <td>-0.000416</td>\n",
       "      <td>{'imag': 0.001764995}</td>\n",
       "      <td>-0.999081</td>\n",
       "      <td>0.056813</td>\n",
       "      <td>0.000024</td>\n",
       "    </tr>\n",
       "    <tr>\n",
       "      <th>1</th>\n",
       "      <td>0.001066</td>\n",
       "      <td>0.000615</td>\n",
       "      <td>-0.398603</td>\n",
       "      <td>0.493984</td>\n",
       "      <td>0.001009</td>\n",
       "      <td>-0.000067</td>\n",
       "      <td>0.001229</td>\n",
       "      <td>-1.004608</td>\n",
       "      <td>-0.287171</td>\n",
       "      <td>0.000083</td>\n",
       "      <td>...</td>\n",
       "      <td>0.019098</td>\n",
       "      <td>-0.000067</td>\n",
       "      <td>0.113433</td>\n",
       "      <td>4.897280</td>\n",
       "      <td>-0.016554</td>\n",
       "      <td>-0.000258</td>\n",
       "      <td>{'imag': 0.0017411493}</td>\n",
       "      <td>-0.999097</td>\n",
       "      <td>0.056306</td>\n",
       "      <td>0.000023</td>\n",
       "    </tr>\n",
       "    <tr>\n",
       "      <th>2</th>\n",
       "      <td>0.001189</td>\n",
       "      <td>0.000910</td>\n",
       "      <td>-1.501692</td>\n",
       "      <td>0.206836</td>\n",
       "      <td>0.001028</td>\n",
       "      <td>-0.001002</td>\n",
       "      <td>0.001113</td>\n",
       "      <td>-1.545785</td>\n",
       "      <td>-0.017717</td>\n",
       "      <td>-0.001028</td>\n",
       "      <td>...</td>\n",
       "      <td>0.019047</td>\n",
       "      <td>-0.001002</td>\n",
       "      <td>0.113605</td>\n",
       "      <td>4.856965</td>\n",
       "      <td>-0.109053</td>\n",
       "      <td>-0.000311</td>\n",
       "      <td>{'imag': 0.0017036499}</td>\n",
       "      <td>-0.999065</td>\n",
       "      <td>0.056343</td>\n",
       "      <td>0.000024</td>\n",
       "    </tr>\n",
       "    <tr>\n",
       "      <th>3</th>\n",
       "      <td>0.001072</td>\n",
       "      <td>0.000586</td>\n",
       "      <td>-0.613070</td>\n",
       "      <td>0.088491</td>\n",
       "      <td>0.001086</td>\n",
       "      <td>-0.000237</td>\n",
       "      <td>0.001199</td>\n",
       "      <td>-1.225718</td>\n",
       "      <td>0.063591</td>\n",
       "      <td>-0.000240</td>\n",
       "      <td>...</td>\n",
       "      <td>0.019095</td>\n",
       "      <td>-0.000237</td>\n",
       "      <td>0.112926</td>\n",
       "      <td>4.651605</td>\n",
       "      <td>-0.009311</td>\n",
       "      <td>-0.000291</td>\n",
       "      <td>{'imag': 0.0015969529}</td>\n",
       "      <td>-0.999103</td>\n",
       "      <td>0.055909</td>\n",
       "      <td>0.000023</td>\n",
       "    </tr>\n",
       "    <tr>\n",
       "      <th>4</th>\n",
       "      <td>0.000907</td>\n",
       "      <td>0.000587</td>\n",
       "      <td>-0.486390</td>\n",
       "      <td>0.509356</td>\n",
       "      <td>0.000824</td>\n",
       "      <td>0.000198</td>\n",
       "      <td>0.001062</td>\n",
       "      <td>-0.783760</td>\n",
       "      <td>-0.040336</td>\n",
       "      <td>0.000304</td>\n",
       "      <td>...</td>\n",
       "      <td>0.019119</td>\n",
       "      <td>0.000198</td>\n",
       "      <td>0.112818</td>\n",
       "      <td>4.706476</td>\n",
       "      <td>0.051310</td>\n",
       "      <td>-0.000470</td>\n",
       "      <td>{'imag': 0.0014903081000000001}</td>\n",
       "      <td>-0.999103</td>\n",
       "      <td>0.055871</td>\n",
       "      <td>0.000023</td>\n",
       "    </tr>\n",
       "    <tr>\n",
       "      <th>...</th>\n",
       "      <td>...</td>\n",
       "      <td>...</td>\n",
       "      <td>...</td>\n",
       "      <td>...</td>\n",
       "      <td>...</td>\n",
       "      <td>...</td>\n",
       "      <td>...</td>\n",
       "      <td>...</td>\n",
       "      <td>...</td>\n",
       "      <td>...</td>\n",
       "      <td>...</td>\n",
       "      <td>...</td>\n",
       "      <td>...</td>\n",
       "      <td>...</td>\n",
       "      <td>...</td>\n",
       "      <td>...</td>\n",
       "      <td>...</td>\n",
       "      <td>...</td>\n",
       "      <td>...</td>\n",
       "      <td>...</td>\n",
       "      <td>...</td>\n",
       "    </tr>\n",
       "    <tr>\n",
       "      <th>49995</th>\n",
       "      <td>0.000934</td>\n",
       "      <td>0.000522</td>\n",
       "      <td>-0.309624</td>\n",
       "      <td>0.483219</td>\n",
       "      <td>0.000872</td>\n",
       "      <td>-0.000509</td>\n",
       "      <td>0.000941</td>\n",
       "      <td>-0.862055</td>\n",
       "      <td>0.281264</td>\n",
       "      <td>-0.000658</td>\n",
       "      <td>...</td>\n",
       "      <td>0.027109</td>\n",
       "      <td>-0.000509</td>\n",
       "      <td>0.092333</td>\n",
       "      <td>4.620426</td>\n",
       "      <td>-0.135283</td>\n",
       "      <td>0.000089</td>\n",
       "      <td>{'imag': 0.0045566121}</td>\n",
       "      <td>-0.995532</td>\n",
       "      <td>0.059053</td>\n",
       "      <td>0.000076</td>\n",
       "    </tr>\n",
       "    <tr>\n",
       "      <th>49996</th>\n",
       "      <td>0.001798</td>\n",
       "      <td>0.001122</td>\n",
       "      <td>-0.571744</td>\n",
       "      <td>0.373875</td>\n",
       "      <td>0.001767</td>\n",
       "      <td>0.001617</td>\n",
       "      <td>0.001370</td>\n",
       "      <td>-0.408444</td>\n",
       "      <td>-0.175270</td>\n",
       "      <td>0.001767</td>\n",
       "      <td>...</td>\n",
       "      <td>0.027114</td>\n",
       "      <td>0.001617</td>\n",
       "      <td>0.092927</td>\n",
       "      <td>4.697106</td>\n",
       "      <td>0.186402</td>\n",
       "      <td>-0.000067</td>\n",
       "      <td>{'imag': -0.0085728122}</td>\n",
       "      <td>-0.995725</td>\n",
       "      <td>0.059376</td>\n",
       "      <td>0.000074</td>\n",
       "    </tr>\n",
       "    <tr>\n",
       "      <th>49997</th>\n",
       "      <td>0.000916</td>\n",
       "      <td>0.000715</td>\n",
       "      <td>1.390481</td>\n",
       "      <td>1.156151</td>\n",
       "      <td>0.000817</td>\n",
       "      <td>0.000269</td>\n",
       "      <td>0.001131</td>\n",
       "      <td>0.146330</td>\n",
       "      <td>0.176279</td>\n",
       "      <td>0.000222</td>\n",
       "      <td>...</td>\n",
       "      <td>0.027122</td>\n",
       "      <td>0.000269</td>\n",
       "      <td>0.092717</td>\n",
       "      <td>4.708612</td>\n",
       "      <td>0.014174</td>\n",
       "      <td>-0.000008</td>\n",
       "      <td>{'imag': -0.0081013162}</td>\n",
       "      <td>-0.995521</td>\n",
       "      <td>0.059311</td>\n",
       "      <td>0.000077</td>\n",
       "    </tr>\n",
       "    <tr>\n",
       "      <th>49998</th>\n",
       "      <td>0.001622</td>\n",
       "      <td>0.001938</td>\n",
       "      <td>3.485100</td>\n",
       "      <td>1.997867</td>\n",
       "      <td>0.001009</td>\n",
       "      <td>-0.000923</td>\n",
       "      <td>0.002353</td>\n",
       "      <td>1.857543</td>\n",
       "      <td>-1.544369</td>\n",
       "      <td>-0.000089</td>\n",
       "      <td>...</td>\n",
       "      <td>0.027055</td>\n",
       "      <td>-0.000923</td>\n",
       "      <td>0.092848</td>\n",
       "      <td>4.705948</td>\n",
       "      <td>-0.165701</td>\n",
       "      <td>0.000020</td>\n",
       "      <td>{'imag': -0.0045986469}</td>\n",
       "      <td>-0.994649</td>\n",
       "      <td>0.059433</td>\n",
       "      <td>0.000092</td>\n",
       "    </tr>\n",
       "    <tr>\n",
       "      <th>49999</th>\n",
       "      <td>0.001303</td>\n",
       "      <td>0.001048</td>\n",
       "      <td>5.075768</td>\n",
       "      <td>1.999567</td>\n",
       "      <td>0.001092</td>\n",
       "      <td>-0.000369</td>\n",
       "      <td>0.001631</td>\n",
       "      <td>0.965374</td>\n",
       "      <td>-0.871275</td>\n",
       "      <td>-0.000307</td>\n",
       "      <td>...</td>\n",
       "      <td>0.027058</td>\n",
       "      <td>-0.000369</td>\n",
       "      <td>0.093681</td>\n",
       "      <td>4.725408</td>\n",
       "      <td>-0.047291</td>\n",
       "      <td>0.000302</td>\n",
       "      <td>{'imag': -0.0029241238}</td>\n",
       "      <td>-0.995971</td>\n",
       "      <td>0.059639</td>\n",
       "      <td>0.000071</td>\n",
       "    </tr>\n",
       "  </tbody>\n",
       "</table>\n",
       "<p>50000 rows × 2660 columns</p>\n",
       "</div>"
      ],
      "text/plain": [
       "           0         1         2         3         4         5         6     \\\n",
       "0      0.001019  0.000673 -1.100362  0.381450  0.000901  0.000328  0.001176   \n",
       "1      0.001066  0.000615 -0.398603  0.493984  0.001009 -0.000067  0.001229   \n",
       "2      0.001189  0.000910 -1.501692  0.206836  0.001028 -0.001002  0.001113   \n",
       "3      0.001072  0.000586 -0.613070  0.088491  0.001086 -0.000237  0.001199   \n",
       "4      0.000907  0.000587 -0.486390  0.509356  0.000824  0.000198  0.001062   \n",
       "...         ...       ...       ...       ...       ...       ...       ...   \n",
       "49995  0.000934  0.000522 -0.309624  0.483219  0.000872 -0.000509  0.000941   \n",
       "49996  0.001798  0.001122 -0.571744  0.373875  0.001767  0.001617  0.001370   \n",
       "49997  0.000916  0.000715  1.390481  1.156151  0.000817  0.000269  0.001131   \n",
       "49998  0.001622  0.001938  3.485100  1.997867  0.001009 -0.000923  0.002353   \n",
       "49999  0.001303  0.001048  5.075768  1.999567  0.001092 -0.000369  0.001631   \n",
       "\n",
       "           7         8         9     ...      2650      2651      2652  \\\n",
       "0     -1.024087  0.034677  0.000313  ...  0.019093  0.000328  0.114211   \n",
       "1     -1.004608 -0.287171  0.000083  ...  0.019098 -0.000067  0.113433   \n",
       "2     -1.545785 -0.017717 -0.001028  ...  0.019047 -0.001002  0.113605   \n",
       "3     -1.225718  0.063591 -0.000240  ...  0.019095 -0.000237  0.112926   \n",
       "4     -0.783760 -0.040336  0.000304  ...  0.019119  0.000198  0.112818   \n",
       "...         ...       ...       ...  ...       ...       ...       ...   \n",
       "49995 -0.862055  0.281264 -0.000658  ...  0.027109 -0.000509  0.092333   \n",
       "49996 -0.408444 -0.175270  0.001767  ...  0.027114  0.001617  0.092927   \n",
       "49997  0.146330  0.176279  0.000222  ...  0.027122  0.000269  0.092717   \n",
       "49998  1.857543 -1.544369 -0.000089  ...  0.027055 -0.000923  0.092848   \n",
       "49999  0.965374 -0.871275 -0.000307  ...  0.027058 -0.000369  0.093681   \n",
       "\n",
       "           2653      2654      2655                             2656  \\\n",
       "0      4.932287  0.072332 -0.000416            {'imag': 0.001764995}   \n",
       "1      4.897280 -0.016554 -0.000258           {'imag': 0.0017411493}   \n",
       "2      4.856965 -0.109053 -0.000311           {'imag': 0.0017036499}   \n",
       "3      4.651605 -0.009311 -0.000291           {'imag': 0.0015969529}   \n",
       "4      4.706476  0.051310 -0.000470  {'imag': 0.0014903081000000001}   \n",
       "...         ...       ...       ...                              ...   \n",
       "49995  4.620426 -0.135283  0.000089           {'imag': 0.0045566121}   \n",
       "49996  4.697106  0.186402 -0.000067          {'imag': -0.0085728122}   \n",
       "49997  4.708612  0.014174 -0.000008          {'imag': -0.0081013162}   \n",
       "49998  4.705948 -0.165701  0.000020          {'imag': -0.0045986469}   \n",
       "49999  4.725408 -0.047291  0.000302          {'imag': -0.0029241238}   \n",
       "\n",
       "           2657      2658      2659  \n",
       "0     -0.999081  0.056813  0.000024  \n",
       "1     -0.999097  0.056306  0.000023  \n",
       "2     -0.999065  0.056343  0.000024  \n",
       "3     -0.999103  0.055909  0.000023  \n",
       "4     -0.999103  0.055871  0.000023  \n",
       "...         ...       ...       ...  \n",
       "49995 -0.995532  0.059053  0.000076  \n",
       "49996 -0.995725  0.059376  0.000074  \n",
       "49997 -0.995521  0.059311  0.000077  \n",
       "49998 -0.994649  0.059433  0.000092  \n",
       "49999 -0.995971  0.059639  0.000071  \n",
       "\n",
       "[50000 rows x 2660 columns]"
      ]
     },
     "execution_count": 7,
     "metadata": {},
     "output_type": "execute_result"
    }
   ],
   "source": [
    "df_test"
   ]
  },
  {
   "cell_type": "code",
   "execution_count": 8,
   "id": "ba1a798e",
   "metadata": {},
   "outputs": [
    {
     "data": {
      "text/plain": [
       "RangeIndex(start=0, stop=2660, step=1)"
      ]
     },
     "execution_count": 8,
     "metadata": {},
     "output_type": "execute_result"
    }
   ],
   "source": [
    "df_train.columns"
   ]
  },
  {
   "cell_type": "code",
   "execution_count": 9,
   "id": "4d49d7c0",
   "metadata": {
    "scrolled": true
   },
   "outputs": [],
   "source": [
    "idx2remove = [df_train.shape[1]-1]\n",
    "\n",
    "for d in df_train.columns :\n",
    "    if df_train[d].dtype == object:\n",
    "        idx2remove +=[d]\n",
    "        \n",
    "df_train = df_train.drop(columns = idx2remove)\n",
    "df_test  = df_test.drop(columns = idx2remove)"
   ]
  },
  {
   "cell_type": "code",
   "execution_count": 10,
   "id": "e0519c03",
   "metadata": {},
   "outputs": [
    {
     "data": {
      "text/plain": [
       "[2659,\n",
       " 10,\n",
       " 24,\n",
       " 38,\n",
       " 52,\n",
       " 66,\n",
       " 80,\n",
       " 94,\n",
       " 108,\n",
       " 122,\n",
       " 136,\n",
       " 150,\n",
       " 164,\n",
       " 178,\n",
       " 192,\n",
       " 206,\n",
       " 220,\n",
       " 234,\n",
       " 248,\n",
       " 262,\n",
       " 276,\n",
       " 290,\n",
       " 304,\n",
       " 318,\n",
       " 332,\n",
       " 346,\n",
       " 360,\n",
       " 374,\n",
       " 388,\n",
       " 402,\n",
       " 416,\n",
       " 430,\n",
       " 444,\n",
       " 458,\n",
       " 472,\n",
       " 486,\n",
       " 500,\n",
       " 514,\n",
       " 528,\n",
       " 542,\n",
       " 556,\n",
       " 570,\n",
       " 584,\n",
       " 598,\n",
       " 612,\n",
       " 626,\n",
       " 640,\n",
       " 654,\n",
       " 668,\n",
       " 682,\n",
       " 696,\n",
       " 710,\n",
       " 724,\n",
       " 738,\n",
       " 752,\n",
       " 766,\n",
       " 780,\n",
       " 794,\n",
       " 808,\n",
       " 822,\n",
       " 836,\n",
       " 850,\n",
       " 864,\n",
       " 878,\n",
       " 892,\n",
       " 906,\n",
       " 920,\n",
       " 934,\n",
       " 948,\n",
       " 962,\n",
       " 976,\n",
       " 990,\n",
       " 1004,\n",
       " 1018,\n",
       " 1032,\n",
       " 1046,\n",
       " 1060,\n",
       " 1074,\n",
       " 1088,\n",
       " 1102,\n",
       " 1116,\n",
       " 1130,\n",
       " 1144,\n",
       " 1158,\n",
       " 1172,\n",
       " 1186,\n",
       " 1200,\n",
       " 1214,\n",
       " 1228,\n",
       " 1242,\n",
       " 1256,\n",
       " 1270,\n",
       " 1284,\n",
       " 1298,\n",
       " 1312,\n",
       " 1326,\n",
       " 1340,\n",
       " 1354,\n",
       " 1368,\n",
       " 1382,\n",
       " 1396,\n",
       " 1410,\n",
       " 1424,\n",
       " 1438,\n",
       " 1452,\n",
       " 1466,\n",
       " 1480,\n",
       " 1494,\n",
       " 1508,\n",
       " 1522,\n",
       " 1536,\n",
       " 1550,\n",
       " 1564,\n",
       " 1578,\n",
       " 1592,\n",
       " 1606,\n",
       " 1620,\n",
       " 1634,\n",
       " 1648,\n",
       " 1662,\n",
       " 1676,\n",
       " 1690,\n",
       " 1704,\n",
       " 1718,\n",
       " 1732,\n",
       " 1746,\n",
       " 1760,\n",
       " 1774,\n",
       " 1788,\n",
       " 1802,\n",
       " 1816,\n",
       " 1830,\n",
       " 1844,\n",
       " 1858,\n",
       " 1872,\n",
       " 1886,\n",
       " 1900,\n",
       " 1914,\n",
       " 1928,\n",
       " 1942,\n",
       " 1956,\n",
       " 1970,\n",
       " 1984,\n",
       " 1998,\n",
       " 2012,\n",
       " 2026,\n",
       " 2040,\n",
       " 2054,\n",
       " 2068,\n",
       " 2082,\n",
       " 2096,\n",
       " 2110,\n",
       " 2124,\n",
       " 2138,\n",
       " 2152,\n",
       " 2166,\n",
       " 2180,\n",
       " 2194,\n",
       " 2208,\n",
       " 2222,\n",
       " 2236,\n",
       " 2250,\n",
       " 2264,\n",
       " 2278,\n",
       " 2292,\n",
       " 2306,\n",
       " 2320,\n",
       " 2334,\n",
       " 2348,\n",
       " 2362,\n",
       " 2376,\n",
       " 2390,\n",
       " 2404,\n",
       " 2418,\n",
       " 2432,\n",
       " 2446,\n",
       " 2460,\n",
       " 2474,\n",
       " 2488,\n",
       " 2502,\n",
       " 2516,\n",
       " 2530,\n",
       " 2544,\n",
       " 2558,\n",
       " 2572,\n",
       " 2586,\n",
       " 2600,\n",
       " 2614,\n",
       " 2628,\n",
       " 2642,\n",
       " 2656]"
      ]
     },
     "execution_count": 10,
     "metadata": {},
     "output_type": "execute_result"
    }
   ],
   "source": [
    "idx2remove"
   ]
  },
  {
   "cell_type": "code",
   "execution_count": 11,
   "id": "4a68f7ff",
   "metadata": {},
   "outputs": [],
   "source": [
    "X_train = df_train.values.real\n",
    "y_train = np.arange(40).repeat(1250)\n",
    "\n",
    "X_test = df_test.values.real\n",
    "y_test = np.arange(40).repeat(1250) "
   ]
  },
  {
   "cell_type": "code",
   "execution_count": 12,
   "id": "ebde93e1",
   "metadata": {
    "scrolled": true
   },
   "outputs": [
    {
     "data": {
      "text/html": [
       "<div>\n",
       "<style scoped>\n",
       "    .dataframe tbody tr th:only-of-type {\n",
       "        vertical-align: middle;\n",
       "    }\n",
       "\n",
       "    .dataframe tbody tr th {\n",
       "        vertical-align: top;\n",
       "    }\n",
       "\n",
       "    .dataframe thead th {\n",
       "        text-align: right;\n",
       "    }\n",
       "</style>\n",
       "<table border=\"1\" class=\"dataframe\">\n",
       "  <thead>\n",
       "    <tr style=\"text-align: right;\">\n",
       "      <th></th>\n",
       "      <th>0</th>\n",
       "      <th>1</th>\n",
       "      <th>2</th>\n",
       "      <th>3</th>\n",
       "      <th>4</th>\n",
       "      <th>5</th>\n",
       "      <th>6</th>\n",
       "      <th>7</th>\n",
       "      <th>8</th>\n",
       "      <th>9</th>\n",
       "      <th>...</th>\n",
       "      <th>2648</th>\n",
       "      <th>2649</th>\n",
       "      <th>2650</th>\n",
       "      <th>2651</th>\n",
       "      <th>2652</th>\n",
       "      <th>2653</th>\n",
       "      <th>2654</th>\n",
       "      <th>2655</th>\n",
       "      <th>2657</th>\n",
       "      <th>2658</th>\n",
       "    </tr>\n",
       "  </thead>\n",
       "  <tbody>\n",
       "    <tr>\n",
       "      <th>0</th>\n",
       "      <td>0.000570</td>\n",
       "      <td>0.000334</td>\n",
       "      <td>-0.934421</td>\n",
       "      <td>0.294847</td>\n",
       "      <td>0.000486</td>\n",
       "      <td>0.000065</td>\n",
       "      <td>0.000658</td>\n",
       "      <td>-0.969982</td>\n",
       "      <td>-0.220200</td>\n",
       "      <td>0.000200</td>\n",
       "      <td>...</td>\n",
       "      <td>3.012099</td>\n",
       "      <td>2.129846</td>\n",
       "      <td>0.019226</td>\n",
       "      <td>0.000065</td>\n",
       "      <td>0.114660</td>\n",
       "      <td>4.275787</td>\n",
       "      <td>-0.002670</td>\n",
       "      <td>0.000067</td>\n",
       "      <td>-0.998896</td>\n",
       "      <td>0.054714</td>\n",
       "    </tr>\n",
       "    <tr>\n",
       "      <th>1</th>\n",
       "      <td>0.000704</td>\n",
       "      <td>0.000369</td>\n",
       "      <td>-0.818785</td>\n",
       "      <td>-0.039975</td>\n",
       "      <td>0.000784</td>\n",
       "      <td>0.000199</td>\n",
       "      <td>0.000769</td>\n",
       "      <td>-1.446871</td>\n",
       "      <td>-0.003455</td>\n",
       "      <td>0.000183</td>\n",
       "      <td>...</td>\n",
       "      <td>3.133376</td>\n",
       "      <td>2.153052</td>\n",
       "      <td>0.019275</td>\n",
       "      <td>0.000199</td>\n",
       "      <td>0.114781</td>\n",
       "      <td>4.377378</td>\n",
       "      <td>0.007706</td>\n",
       "      <td>0.000117</td>\n",
       "      <td>-0.998945</td>\n",
       "      <td>0.054818</td>\n",
       "    </tr>\n",
       "    <tr>\n",
       "      <th>2</th>\n",
       "      <td>0.000575</td>\n",
       "      <td>0.000280</td>\n",
       "      <td>-0.871813</td>\n",
       "      <td>-0.043394</td>\n",
       "      <td>0.000610</td>\n",
       "      <td>-0.000082</td>\n",
       "      <td>0.000634</td>\n",
       "      <td>-1.382252</td>\n",
       "      <td>0.031358</td>\n",
       "      <td>-0.000115</td>\n",
       "      <td>...</td>\n",
       "      <td>2.860940</td>\n",
       "      <td>2.099128</td>\n",
       "      <td>0.019271</td>\n",
       "      <td>-0.000082</td>\n",
       "      <td>0.113995</td>\n",
       "      <td>4.134662</td>\n",
       "      <td>-0.044672</td>\n",
       "      <td>0.000020</td>\n",
       "      <td>-0.998924</td>\n",
       "      <td>0.054266</td>\n",
       "    </tr>\n",
       "    <tr>\n",
       "      <th>3</th>\n",
       "      <td>0.000687</td>\n",
       "      <td>0.000332</td>\n",
       "      <td>-0.914894</td>\n",
       "      <td>-0.224000</td>\n",
       "      <td>0.000720</td>\n",
       "      <td>0.000024</td>\n",
       "      <td>0.000762</td>\n",
       "      <td>-1.430748</td>\n",
       "      <td>0.112679</td>\n",
       "      <td>0.000027</td>\n",
       "      <td>...</td>\n",
       "      <td>2.859101</td>\n",
       "      <td>2.098889</td>\n",
       "      <td>0.019252</td>\n",
       "      <td>0.000024</td>\n",
       "      <td>0.113958</td>\n",
       "      <td>4.133286</td>\n",
       "      <td>0.019480</td>\n",
       "      <td>0.000020</td>\n",
       "      <td>-0.998892</td>\n",
       "      <td>0.054265</td>\n",
       "    </tr>\n",
       "    <tr>\n",
       "      <th>4</th>\n",
       "      <td>0.000587</td>\n",
       "      <td>0.000363</td>\n",
       "      <td>-1.048808</td>\n",
       "      <td>0.347204</td>\n",
       "      <td>0.000518</td>\n",
       "      <td>0.000204</td>\n",
       "      <td>0.000660</td>\n",
       "      <td>-1.362465</td>\n",
       "      <td>0.188041</td>\n",
       "      <td>-0.000033</td>\n",
       "      <td>...</td>\n",
       "      <td>2.953392</td>\n",
       "      <td>2.116472</td>\n",
       "      <td>0.019213</td>\n",
       "      <td>0.000204</td>\n",
       "      <td>0.114261</td>\n",
       "      <td>4.216110</td>\n",
       "      <td>0.026695</td>\n",
       "      <td>-0.000179</td>\n",
       "      <td>-0.998907</td>\n",
       "      <td>0.054464</td>\n",
       "    </tr>\n",
       "  </tbody>\n",
       "</table>\n",
       "<p>5 rows × 2469 columns</p>\n",
       "</div>"
      ],
      "text/plain": [
       "       0         1         2         3         4         5         6     \\\n",
       "0  0.000570  0.000334 -0.934421  0.294847  0.000486  0.000065  0.000658   \n",
       "1  0.000704  0.000369 -0.818785 -0.039975  0.000784  0.000199  0.000769   \n",
       "2  0.000575  0.000280 -0.871813 -0.043394  0.000610 -0.000082  0.000634   \n",
       "3  0.000687  0.000332 -0.914894 -0.224000  0.000720  0.000024  0.000762   \n",
       "4  0.000587  0.000363 -1.048808  0.347204  0.000518  0.000204  0.000660   \n",
       "\n",
       "       7         8         9     ...      2648      2649      2650      2651  \\\n",
       "0 -0.969982 -0.220200  0.000200  ...  3.012099  2.129846  0.019226  0.000065   \n",
       "1 -1.446871 -0.003455  0.000183  ...  3.133376  2.153052  0.019275  0.000199   \n",
       "2 -1.382252  0.031358 -0.000115  ...  2.860940  2.099128  0.019271 -0.000082   \n",
       "3 -1.430748  0.112679  0.000027  ...  2.859101  2.098889  0.019252  0.000024   \n",
       "4 -1.362465  0.188041 -0.000033  ...  2.953392  2.116472  0.019213  0.000204   \n",
       "\n",
       "       2652      2653      2654      2655      2657      2658  \n",
       "0  0.114660  4.275787 -0.002670  0.000067 -0.998896  0.054714  \n",
       "1  0.114781  4.377378  0.007706  0.000117 -0.998945  0.054818  \n",
       "2  0.113995  4.134662 -0.044672  0.000020 -0.998924  0.054266  \n",
       "3  0.113958  4.133286  0.019480  0.000020 -0.998892  0.054265  \n",
       "4  0.114261  4.216110  0.026695 -0.000179 -0.998907  0.054464  \n",
       "\n",
       "[5 rows x 2469 columns]"
      ]
     },
     "execution_count": 12,
     "metadata": {},
     "output_type": "execute_result"
    }
   ],
   "source": [
    "df_train.head()"
   ]
  },
  {
   "cell_type": "code",
   "execution_count": 13,
   "id": "19ca3c53",
   "metadata": {},
   "outputs": [
    {
     "data": {
      "text/html": [
       "<div>\n",
       "<style scoped>\n",
       "    .dataframe tbody tr th:only-of-type {\n",
       "        vertical-align: middle;\n",
       "    }\n",
       "\n",
       "    .dataframe tbody tr th {\n",
       "        vertical-align: top;\n",
       "    }\n",
       "\n",
       "    .dataframe thead th {\n",
       "        text-align: right;\n",
       "    }\n",
       "</style>\n",
       "<table border=\"1\" class=\"dataframe\">\n",
       "  <thead>\n",
       "    <tr style=\"text-align: right;\">\n",
       "      <th></th>\n",
       "      <th>0</th>\n",
       "      <th>1</th>\n",
       "      <th>2</th>\n",
       "      <th>3</th>\n",
       "      <th>4</th>\n",
       "      <th>5</th>\n",
       "      <th>6</th>\n",
       "      <th>7</th>\n",
       "      <th>8</th>\n",
       "      <th>9</th>\n",
       "      <th>...</th>\n",
       "      <th>2648</th>\n",
       "      <th>2649</th>\n",
       "      <th>2650</th>\n",
       "      <th>2651</th>\n",
       "      <th>2652</th>\n",
       "      <th>2653</th>\n",
       "      <th>2654</th>\n",
       "      <th>2655</th>\n",
       "      <th>2657</th>\n",
       "      <th>2658</th>\n",
       "    </tr>\n",
       "  </thead>\n",
       "  <tbody>\n",
       "    <tr>\n",
       "      <th>0</th>\n",
       "      <td>0.001019</td>\n",
       "      <td>0.000673</td>\n",
       "      <td>-1.100362</td>\n",
       "      <td>0.381450</td>\n",
       "      <td>0.000901</td>\n",
       "      <td>0.000328</td>\n",
       "      <td>0.001176</td>\n",
       "      <td>-1.024087</td>\n",
       "      <td>0.034677</td>\n",
       "      <td>0.000313</td>\n",
       "      <td>...</td>\n",
       "      <td>3.715882</td>\n",
       "      <td>2.275501</td>\n",
       "      <td>0.019093</td>\n",
       "      <td>0.000328</td>\n",
       "      <td>0.114211</td>\n",
       "      <td>4.932287</td>\n",
       "      <td>0.072332</td>\n",
       "      <td>-0.000416</td>\n",
       "      <td>-0.999081</td>\n",
       "      <td>0.056813</td>\n",
       "    </tr>\n",
       "    <tr>\n",
       "      <th>1</th>\n",
       "      <td>0.001066</td>\n",
       "      <td>0.000615</td>\n",
       "      <td>-0.398603</td>\n",
       "      <td>0.493984</td>\n",
       "      <td>0.001009</td>\n",
       "      <td>-0.000067</td>\n",
       "      <td>0.001229</td>\n",
       "      <td>-1.004608</td>\n",
       "      <td>-0.287171</td>\n",
       "      <td>0.000083</td>\n",
       "      <td>...</td>\n",
       "      <td>3.707687</td>\n",
       "      <td>2.267965</td>\n",
       "      <td>0.019098</td>\n",
       "      <td>-0.000067</td>\n",
       "      <td>0.113433</td>\n",
       "      <td>4.897280</td>\n",
       "      <td>-0.016554</td>\n",
       "      <td>-0.000258</td>\n",
       "      <td>-0.999097</td>\n",
       "      <td>0.056306</td>\n",
       "    </tr>\n",
       "    <tr>\n",
       "      <th>2</th>\n",
       "      <td>0.001189</td>\n",
       "      <td>0.000910</td>\n",
       "      <td>-1.501692</td>\n",
       "      <td>0.206836</td>\n",
       "      <td>0.001028</td>\n",
       "      <td>-0.001002</td>\n",
       "      <td>0.001113</td>\n",
       "      <td>-1.545785</td>\n",
       "      <td>-0.017717</td>\n",
       "      <td>-0.001028</td>\n",
       "      <td>...</td>\n",
       "      <td>3.659752</td>\n",
       "      <td>2.258741</td>\n",
       "      <td>0.019047</td>\n",
       "      <td>-0.001002</td>\n",
       "      <td>0.113605</td>\n",
       "      <td>4.856965</td>\n",
       "      <td>-0.109053</td>\n",
       "      <td>-0.000311</td>\n",
       "      <td>-0.999065</td>\n",
       "      <td>0.056343</td>\n",
       "    </tr>\n",
       "    <tr>\n",
       "      <th>3</th>\n",
       "      <td>0.001072</td>\n",
       "      <td>0.000586</td>\n",
       "      <td>-0.613070</td>\n",
       "      <td>0.088491</td>\n",
       "      <td>0.001086</td>\n",
       "      <td>-0.000237</td>\n",
       "      <td>0.001199</td>\n",
       "      <td>-1.225718</td>\n",
       "      <td>0.063591</td>\n",
       "      <td>-0.000240</td>\n",
       "      <td>...</td>\n",
       "      <td>3.419193</td>\n",
       "      <td>2.216091</td>\n",
       "      <td>0.019095</td>\n",
       "      <td>-0.000237</td>\n",
       "      <td>0.112926</td>\n",
       "      <td>4.651605</td>\n",
       "      <td>-0.009311</td>\n",
       "      <td>-0.000291</td>\n",
       "      <td>-0.999103</td>\n",
       "      <td>0.055909</td>\n",
       "    </tr>\n",
       "    <tr>\n",
       "      <th>4</th>\n",
       "      <td>0.000907</td>\n",
       "      <td>0.000587</td>\n",
       "      <td>-0.486390</td>\n",
       "      <td>0.509356</td>\n",
       "      <td>0.000824</td>\n",
       "      <td>0.000198</td>\n",
       "      <td>0.001062</td>\n",
       "      <td>-0.783760</td>\n",
       "      <td>-0.040336</td>\n",
       "      <td>0.000304</td>\n",
       "      <td>...</td>\n",
       "      <td>3.494924</td>\n",
       "      <td>2.227151</td>\n",
       "      <td>0.019119</td>\n",
       "      <td>0.000198</td>\n",
       "      <td>0.112818</td>\n",
       "      <td>4.706476</td>\n",
       "      <td>0.051310</td>\n",
       "      <td>-0.000470</td>\n",
       "      <td>-0.999103</td>\n",
       "      <td>0.055871</td>\n",
       "    </tr>\n",
       "  </tbody>\n",
       "</table>\n",
       "<p>5 rows × 2469 columns</p>\n",
       "</div>"
      ],
      "text/plain": [
       "       0         1         2         3         4         5         6     \\\n",
       "0  0.001019  0.000673 -1.100362  0.381450  0.000901  0.000328  0.001176   \n",
       "1  0.001066  0.000615 -0.398603  0.493984  0.001009 -0.000067  0.001229   \n",
       "2  0.001189  0.000910 -1.501692  0.206836  0.001028 -0.001002  0.001113   \n",
       "3  0.001072  0.000586 -0.613070  0.088491  0.001086 -0.000237  0.001199   \n",
       "4  0.000907  0.000587 -0.486390  0.509356  0.000824  0.000198  0.001062   \n",
       "\n",
       "       7         8         9     ...      2648      2649      2650      2651  \\\n",
       "0 -1.024087  0.034677  0.000313  ...  3.715882  2.275501  0.019093  0.000328   \n",
       "1 -1.004608 -0.287171  0.000083  ...  3.707687  2.267965  0.019098 -0.000067   \n",
       "2 -1.545785 -0.017717 -0.001028  ...  3.659752  2.258741  0.019047 -0.001002   \n",
       "3 -1.225718  0.063591 -0.000240  ...  3.419193  2.216091  0.019095 -0.000237   \n",
       "4 -0.783760 -0.040336  0.000304  ...  3.494924  2.227151  0.019119  0.000198   \n",
       "\n",
       "       2652      2653      2654      2655      2657      2658  \n",
       "0  0.114211  4.932287  0.072332 -0.000416 -0.999081  0.056813  \n",
       "1  0.113433  4.897280 -0.016554 -0.000258 -0.999097  0.056306  \n",
       "2  0.113605  4.856965 -0.109053 -0.000311 -0.999065  0.056343  \n",
       "3  0.112926  4.651605 -0.009311 -0.000291 -0.999103  0.055909  \n",
       "4  0.112818  4.706476  0.051310 -0.000470 -0.999103  0.055871  \n",
       "\n",
       "[5 rows x 2469 columns]"
      ]
     },
     "execution_count": 13,
     "metadata": {},
     "output_type": "execute_result"
    }
   ],
   "source": [
    "df_test.head()"
   ]
  },
  {
   "cell_type": "code",
   "execution_count": 14,
   "id": "b7d238ff",
   "metadata": {},
   "outputs": [],
   "source": [
    "scaler = MinMaxScaler()\n",
    "X_train = scaler.fit_transform(X_train)\n",
    "X_test  = scaler.transform(X_test)"
   ]
  },
  {
   "cell_type": "markdown",
   "id": "07a36cc7",
   "metadata": {},
   "source": [
    "## MODELS"
   ]
  },
  {
   "cell_type": "code",
   "execution_count": 16,
   "id": "12077965",
   "metadata": {},
   "outputs": [
    {
     "name": "stdout",
     "output_type": "stream",
     "text": [
      "tol=0.0000: Accuracy for test: 0.891,Accuracy for train_:1.000, val:0.9393, train:0.95748\n",
      "tol=0.0001: Accuracy for test: 0.886,Accuracy for train_:1.000, val:0.9491, train:0.96432\n",
      "tol=0.0002: Accuracy for test: 0.894,Accuracy for train_:1.000, val:0.9521, train:0.96648\n",
      "tol=0.0003: Accuracy for test: 0.900,Accuracy for train_:1.000, val:0.9482, train:0.96372\n",
      "tol=0.0004: Accuracy for test: 0.903,Accuracy for train_:1.000, val:0.9489, train:0.96424\n",
      "tol=0.0005: Accuracy for test: 0.902,Accuracy for train_:1.000, val:0.9498, train:0.96482\n",
      "tol=0.0006: Accuracy for test: 0.901,Accuracy for train_:1.000, val:0.9499, train:0.96494\n",
      "tol=0.0007: Accuracy for test: 0.901,Accuracy for train_:1.000, val:0.9459, train:0.96208\n",
      "tol=0.0008: Accuracy for test: 0.901,Accuracy for train_:1.000, val:0.9455, train:0.96182\n",
      "tol=0.0009: Accuracy for test: 0.902,Accuracy for train_:1.000, val:0.9461, train:0.96224\n",
      "tol=0.0010: Accuracy for test: 0.904,Accuracy for train_:1.000, val:0.9459, train:0.96208\n",
      "tol=0.0020: Accuracy for test: 0.903,Accuracy for train_:1.000, val:0.9459, train:0.96214\n",
      "tol=0.0030: Accuracy for test: 0.908,Accuracy for train_:1.000, val:0.9543, train:0.96802\n",
      "tol=0.0040: Accuracy for test: 0.911,Accuracy for train_:1.000, val:0.9543, train:0.96796\n",
      "tol=0.0050: Accuracy for test: 0.911,Accuracy for train_:1.000, val:0.9545, train:0.96810\n",
      "tol=0.0060: Accuracy for test: 0.912,Accuracy for train_:1.000, val:0.9651, train:0.97556\n",
      "tol=0.0070: Accuracy for test: 0.911,Accuracy for train_:1.000, val:0.9619, train:0.97334\n",
      "tol=0.0080: Accuracy for test: 0.911,Accuracy for train_:1.000, val:0.9628, train:0.97394\n",
      "tol=0.0090: Accuracy for test: 0.912,Accuracy for train_:1.000, val:0.9666, train:0.97658\n",
      "tol=0.0100: Accuracy for test: 0.910,Accuracy for train_:1.000, val:0.9634, train:0.97434\n",
      "tol=0.0200: Accuracy for test: 0.941,Accuracy for train_:1.000, val:0.9587, train:0.97106\n",
      "tol=0.0300: Accuracy for test: 0.946,Accuracy for train_:1.000, val:0.9569, train:0.96978\n",
      "tol=0.0400: Accuracy for test: 0.949,Accuracy for train_:1.000, val:0.9809, train:0.98658\n",
      "tol=0.0500: Accuracy for test: 0.949,Accuracy for train_:1.000, val:0.9875, train:0.99126\n",
      "tol=0.0600: Accuracy for test: 0.932,Accuracy for train_:1.000, val:0.9916, train:0.99410\n",
      "tol=0.0700: Accuracy for test: 0.921,Accuracy for train_:1.000, val:0.9568, train:0.96976\n",
      "tol=0.0800: Accuracy for test: 0.922,Accuracy for train_:1.000, val:0.9542, train:0.96790\n",
      "tol=0.0900: Accuracy for test: 0.926,Accuracy for train_:1.000, val:0.9565, train:0.96954\n",
      "tol=0.1000: Accuracy for test: 0.928,Accuracy for train_:1.000, val:0.9564, train:0.96942\n",
      "tol=0.1500: Accuracy for test: 0.947,Accuracy for train_:1.000, val:0.9507, train:0.96544\n",
      "tol=0.2000: Accuracy for test: 0.949,Accuracy for train_:1.000, val:0.9504, train:0.96524\n",
      "tol=0.2500: Accuracy for test: 0.949,Accuracy for train_:1.000, val:0.9542, train:0.96782\n",
      "tol=0.3000: Accuracy for test: 0.949,Accuracy for train_:1.000, val:0.9571, train:0.96988\n",
      "tol=0.3500: Accuracy for test: 0.948,Accuracy for train_:0.998, val:0.9595, train:0.97104\n",
      "tol=0.4000: Accuracy for test: 0.943,Accuracy for train_:0.998, val:0.9583, train:0.97026\n",
      "tol=0.4500: Accuracy for test: 0.932,Accuracy for train_:0.997, val:0.9765, train:0.98270\n",
      "tol=0.5000: Accuracy for test: 0.924,Accuracy for train_:0.996, val:0.9684, train:0.97668\n",
      "tol=0.5500: Accuracy for test: 0.916,Accuracy for train_:0.991, val:0.9692, train:0.97590\n",
      "tol=0.6000: Accuracy for test: 0.914,Accuracy for train_:0.989, val:0.9692, train:0.97516\n",
      "tol=0.6500: Accuracy for test: 0.883,Accuracy for train_:0.987, val:0.9670, train:0.97308\n",
      "tol=0.7000: Accuracy for test: 0.887,Accuracy for train_:0.987, val:0.9694, train:0.97460\n",
      "tol=0.7500: Accuracy for test: 0.667,Accuracy for train_:0.784, val:0.7131, train:0.73444\n",
      "tol=0.8000: Accuracy for test: 0.659,Accuracy for train_:0.844, val:0.7771, train:0.79700\n",
      "tol=0.8500: Accuracy for test: 0.656,Accuracy for train_:0.832, val:0.7713, train:0.78934\n",
      "tol=0.9000: Accuracy for test: 0.570,Accuracy for train_:0.752, val:0.6910, train:0.70942\n",
      "tol=0.9500: Accuracy for test: 0.605,Accuracy for train_:0.756, val:0.7069, train:0.72148\n",
      "max_val_score 0.9916, best tol = 0.060000000000000005\n"
     ]
    }
   ],
   "source": [
    "def balanced_split(X,y,train_ratio = 0.1):\n",
    "    arg_idx = np.argsort(y)\n",
    "    y = np.atleast_2d(y[arg_idx]).T\n",
    "    X = X[arg_idx]\n",
    "    \n",
    "    clss, counts = np.unique(y, return_counts = True)\n",
    "    \n",
    "    n_vals  = (counts*(1-train_ratio)).astype(int)\n",
    "    n_tarin = (counts*train_ratio).astype(int)\n",
    "    \n",
    "    x_val   = np.zeros((np.sum(n_vals),  X.shape[1]))\n",
    "    x_train = np.zeros((np.sum(n_tarin), X.shape[1]))\n",
    "    y_val   = np.zeros((np.sum(n_vals),  y.shape[1]))\n",
    "    y_train = np.zeros((np.sum(n_tarin), y.shape[1]))    \n",
    "\n",
    "    counts_  = np.concatenate([[0], np.cumsum(counts)])\n",
    "    n_vals_  = np.concatenate([[0], np.cumsum(n_vals)])\n",
    "    n_tarin_ = np.concatenate([[0], np.cumsum(n_tarin)])\n",
    "\n",
    "    idxs_train = np.column_stack((counts_[:-1],\n",
    "                                  counts_[1:]-n_vals,\n",
    "                                  n_tarin_[:-1],\n",
    "                                  n_tarin_[1:]))\n",
    "    \n",
    "    idxs_val   = np.column_stack((counts_[:-1]+n_tarin,\n",
    "                                  counts_[1:],\n",
    "                                  n_vals_[:-1],\n",
    "                                  n_vals_[1:]))\n",
    "\n",
    "    for i in range(counts.size):\n",
    "        x_val  [idxs_val  [i,2]:idxs_val  [i,3],:] = X[idxs_val  [i,0]:idxs_val[i,1],:]\n",
    "        x_train[idxs_train[i,2]:idxs_train[i,3],:] = X[idxs_train[i,0]:idxs_train[i,1],:]\n",
    "        y_val  [idxs_val  [i,2]:idxs_val  [i,3],:] = y[idxs_val  [i,0]:idxs_val[i,1],:]\n",
    "        y_train[idxs_train[i,2]:idxs_train[i,3],:] = y[idxs_train[i,0]:idxs_train[i,1],:]        \n",
    "    \n",
    "    return x_train, x_val, y_train.squeeze(), y_val.squeeze()\n",
    "\n",
    "X_train_, X_val_, y_train_, y_val_ = balanced_split(X_train,y_train,train_ratio = 0.3)\n",
    "X_train_.shape, X_val_.shape, y_train_.shape, y_val_.shape\n",
    "\n",
    "tols = np.concatenate([np.arange(0,1e-3,1e-4), np.arange(1e-3,1e-2,1e-3), np.arange(1e-2,1e-1,1e-2), np.arange(1e-1,1e-0,0.5e-1)])\n",
    "val_score = np.zeros(tols.size)\n",
    "train_score = np.zeros(tols.size)\n",
    "train_1_score = np.zeros(tols.size)\n",
    "test_score = np.zeros(tols.size)\n",
    "\n",
    "for i,tol in enumerate(tols):\n",
    "    model = LinearDiscriminantAnalysis(solver='svd',\n",
    "                                       shrinkage=None,\n",
    "                                       priors=None,\n",
    "                                       n_components=None,\n",
    "                                       store_covariance=100,\n",
    "                                       tol=tol,\n",
    "                                       covariance_estimator=None,)\n",
    "    model.fit(X_train_,y_train_)\n",
    "    val_score[i]     = model.score(X_val_,y_val_)\n",
    "    train_score[i]   = model.score(X_train_,y_train_)\n",
    "    train_1_score[i] = model.score(X_train,y_train)\n",
    "    test_score[i]    = model.score(X_test,y_test)\n",
    "    \n",
    "    print(f\"tol={tol:.4f}: Accuracy for test: {test_score[i]:.3f}, train_:{train_score[i]:.3f}, val:{val_score[i]:.4f}, train:{train_1_score[i]:.5f}\")\n",
    "    \n",
    "    \n",
    "tol = tols[np.argmax(val_score)]\n",
    "print(f'max_val_score {val_score[np.argmax(val_score)]}, best tol = {tol}')"
   ]
  },
  {
   "cell_type": "code",
   "execution_count": 18,
   "id": "79fa741a",
   "metadata": {},
   "outputs": [],
   "source": [
    "\n",
    "knn     = KNeighborsClassifier(n_neighbors=1)\n",
    "\n",
    "randomForest  = RandomForestClassifier(random_state=42,n_estimators=100,max_depth=None,)\n",
    "adaBoost = AdaBoostClassifier(random_state=42)\n",
    "lda = LinearDiscriminantAnalysis(tol  = tol)\n",
    "nb       = GaussianNB()\n",
    "\n",
    "logreg = LogisticRegression()\n",
    "\n",
    "models =  ((lda,\"Linear Discriminant Analysis\"),\n",
    "           (logreg,\"Logistic Regression\"),\n",
    "           (nb,\"Naive Bayes Classifier\"),\n",
    "#            (knn,\"KNN Classifier\"),\n",
    "           (randomForest,\"Random Forest Classifier\"),)"
   ]
  },
  {
   "cell_type": "markdown",
   "id": "e4570366",
   "metadata": {},
   "source": [
    "## FULL MODEL"
   ]
  },
  {
   "cell_type": "code",
   "execution_count": 19,
   "id": "e370efb0",
   "metadata": {
    "scrolled": false
   },
   "outputs": [
    {
     "name": "stdout",
     "output_type": "stream",
     "text": [
      "Linear Discriminant Analysis\n",
      "Accuracy for test: Linear Discriminant Analysis:\t 0.94936,Accuracy for train: 0.99848\n",
      "Logistic Regression\n"
     ]
    },
    {
     "name": "stderr",
     "output_type": "stream",
     "text": [
      "/opt/anaconda3/lib/python3.9/site-packages/sklearn/linear_model/_logistic.py:444: ConvergenceWarning: lbfgs failed to converge (status=1):\n",
      "STOP: TOTAL NO. of ITERATIONS REACHED LIMIT.\n",
      "\n",
      "Increase the number of iterations (max_iter) or scale the data as shown in:\n",
      "    https://scikit-learn.org/stable/modules/preprocessing.html\n",
      "Please also refer to the documentation for alternative solver options:\n",
      "    https://scikit-learn.org/stable/modules/linear_model.html#logistic-regression\n",
      "  n_iter_i = _check_optimize_result(\n"
     ]
    },
    {
     "name": "stdout",
     "output_type": "stream",
     "text": [
      "Accuracy for test: Logistic Regression:\t 0.65444,Accuracy for train: 0.9933\n",
      "Naive Bayes Classifier\n",
      "Accuracy for test: Naive Bayes Classifier:\t 0.81382,Accuracy for train: 0.98536\n",
      "Random Forest Classifier\n",
      "Accuracy for test: Random Forest Classifier:\t 0.8829,Accuracy for train: 1.0\n"
     ]
    }
   ],
   "source": [
    "for model,name in models:\n",
    "    print(name)\n",
    "    model.fit(X_train,y_train)\n",
    "    print(f\"Accuracy for test: {name}:\\t {model.score(X_test,y_test)},Accuracy for train: {model.score(X_train,y_train)}\")"
   ]
  },
  {
   "cell_type": "code",
   "execution_count": 59,
   "id": "e06c6408",
   "metadata": {
    "scrolled": true
   },
   "outputs": [
    {
     "name": "stdout",
     "output_type": "stream",
     "text": [
      "Accuracy of Linear Discriminant Analysis:\t 0.94936\n"
     ]
    },
    {
     "data": {
      "image/png": "[encoded data removed]",
      "text/plain": [
       "<Figure size 864x576 with 1 Axes>"
      ]
     },
     "metadata": {},
     "output_type": "display_data"
    }
   ],
   "source": [
    "clf_id = 0\n",
    "predicts = models[clf_id][0].predict(X_test)\n",
    "\n",
    "plt.plot(y_test)\n",
    "plt.plot(predicts)\n",
    "print(f\"Accuracy of {models[clf_id][1]}:\\t {models[clf_id][0].score(X_test,y_test)}\")"
   ]
  },
  {
   "cell_type": "code",
   "execution_count": 61,
   "id": "a51d8cb4",
   "metadata": {},
   "outputs": [],
   "source": [
    "df_ewt_lda = pd.DataFrame(predicts)\n",
    "df_ewt_lda.to_csv('EWT_LDA_TOLx.csv')"
   ]
  },
  {
   "cell_type": "code",
   "execution_count": 21,
   "id": "6498284b",
   "metadata": {
    "scrolled": false
   },
   "outputs": [
    {
     "data": {
      "text/plain": [
       "[<matplotlib.lines.Line2D at 0x7fb0e5ab3ee0>]"
      ]
     },
     "execution_count": 21,
     "metadata": {},
     "output_type": "execute_result"
    },
    {
     "data": {
      "image/png": "[encoded data removed]",
      "text/plain": [
       "<Figure size 864x576 with 1 Axes>"
      ]
     },
     "metadata": {},
     "output_type": "display_data"
    }
   ],
   "source": [
    "predicts = models[0][0].predict(X_train)\n",
    "plt.plot(y_train)\n",
    "plt.plot(predicts)"
   ]
  },
  {
   "cell_type": "markdown",
   "id": "614dfe11",
   "metadata": {},
   "source": [
    "## CORRELATION BASED FEATURE SELECTION"
   ]
  },
  {
   "cell_type": "code",
   "execution_count": 22,
   "id": "35b6654e",
   "metadata": {
    "scrolled": false
   },
   "outputs": [
    {
     "name": "stdout",
     "output_type": "stream",
     "text": [
      "(50000, 2469)\n"
     ]
    },
    {
     "name": "stderr",
     "output_type": "stream",
     "text": [
      "/var/folders/dh/w_5f2j092jx9x__dkcvvrpw80000gn/T/ipykernel_38634/2613237418.py:10: DeprecationWarning: `np.bool` is a deprecated alias for the builtin `bool`. To silence this warning, use `bool` by itself. Doing this will not modify any behavior and is safe. If you specifically wanted the numpy scalar type, use `np.bool_` here.\n",
      "Deprecated in NumPy 1.20; for more details and guidance: https://numpy.org/devdocs/release/1.20.0-notes.html#deprecations\n",
      "  upper = corr_matrix.where(np.triu(np.ones(corr_matrix.shape), k=1).astype(np.bool))\n"
     ]
    },
    {
     "name": "stdout",
     "output_type": "stream",
     "text": [
      "(50000, 781) (50000, 781)\n"
     ]
    }
   ],
   "source": [
    "df_all = df_train.copy()\n",
    "print(df_all.shape)\n",
    "\n",
    "if 'source' in df_all.columns:\n",
    "    df_all = df_all.drop(columns='source')\n",
    "\n",
    "# Create correlation matrix\n",
    "corr_matrix = df_all.corr().abs()\n",
    "# Select upper triangle of correlation matrix\n",
    "upper = corr_matrix.where(np.triu(np.ones(corr_matrix.shape), k=1).astype(np.bool))\n",
    "# Find features with correlation greater than 0.95\n",
    "to_drop = [column for column in upper.columns if any(upper[column] > 0.95)]\n",
    "# Drop features \n",
    "df_train.drop(to_drop, axis=1, inplace=True)\n",
    "df_test.drop(to_drop, axis=1, inplace=True)\n",
    "print(df_train.shape, df_test.shape,)"
   ]
  },
  {
   "cell_type": "code",
   "execution_count": 23,
   "id": "ae6fd6f0",
   "metadata": {},
   "outputs": [],
   "source": [
    "X_train_ = df_train.astype('float32').values\n",
    "X_test_ = df_test.astype('float32').values\n",
    "scaler = MinMaxScaler()\n",
    "X_train_ = scaler.fit_transform(X_train_)\n",
    "X_test_  = scaler.transform(X_test_)"
   ]
  },
  {
   "cell_type": "code",
   "execution_count": 24,
   "id": "4ce7032c",
   "metadata": {
    "scrolled": true
   },
   "outputs": [
    {
     "name": "stdout",
     "output_type": "stream",
     "text": [
      "Linear Discriminant Analysis\n",
      "Accuracy for test: Linear Discriminant Analysis:\t 0.93158,Accuracy for train: 0.9979\n",
      "Logistic Regression\n"
     ]
    },
    {
     "name": "stderr",
     "output_type": "stream",
     "text": [
      "/opt/anaconda3/lib/python3.9/site-packages/sklearn/linear_model/_logistic.py:444: ConvergenceWarning: lbfgs failed to converge (status=1):\n",
      "STOP: TOTAL NO. of ITERATIONS REACHED LIMIT.\n",
      "\n",
      "Increase the number of iterations (max_iter) or scale the data as shown in:\n",
      "    https://scikit-learn.org/stable/modules/preprocessing.html\n",
      "Please also refer to the documentation for alternative solver options:\n",
      "    https://scikit-learn.org/stable/modules/linear_model.html#logistic-regression\n",
      "  n_iter_i = _check_optimize_result(\n"
     ]
    },
    {
     "name": "stdout",
     "output_type": "stream",
     "text": [
      "Accuracy for test: Logistic Regression:\t 0.51378,Accuracy for train: 0.98534\n",
      "Naive Bayes Classifier\n",
      "Accuracy for test: Naive Bayes Classifier:\t 0.63946,Accuracy for train: 0.94466\n",
      "Random Forest Classifier\n",
      "Accuracy for test: Random Forest Classifier:\t 0.68352,Accuracy for train: 1.0\n"
     ]
    }
   ],
   "source": [
    "from copy import deepcopy\n",
    "models_ = deepcopy(models)\n",
    "\n",
    "for model,name in models_:\n",
    "    print(name)\n",
    "    model.fit(X_train_,y_train)\n",
    "    print(f\"Accuracy for test: {name}:\\t {model.score(X_test_,y_test)},Accuracy for train: {model.score(X_train_,y_train)}\")"
   ]
  },
  {
   "cell_type": "markdown",
   "id": "b2695486",
   "metadata": {},
   "source": [
    "## CORRELATION + RF FEATURE IMPORTANCE BASED FEATURE SELECTION "
   ]
  },
  {
   "cell_type": "code",
   "execution_count": 25,
   "id": "e3a6b859",
   "metadata": {},
   "outputs": [
    {
     "name": "stdout",
     "output_type": "stream",
     "text": [
      "(781,)\n"
     ]
    }
   ],
   "source": [
    "featuresrf = models_[-1][0].feature_importances_\n",
    "print(featuresrf.shape)"
   ]
  },
  {
   "cell_type": "code",
   "execution_count": 26,
   "id": "ce5f0101",
   "metadata": {
    "scrolled": true
   },
   "outputs": [
    {
     "name": "stdout",
     "output_type": "stream",
     "text": [
      "(781,)\n",
      "(50000, 17)\n"
     ]
    }
   ],
   "source": [
    "featuresrf = models_[-1][0].feature_importances_\n",
    "print(featuresrf.shape)\n",
    "idx4rest = np.where(featuresrf>0.2*featuresrf.max())#0.023=0.32\n",
    "# print(df_train.columns[:-1][idx4rest])\n",
    "X_train__ = X_train_[:,idx4rest[0]]\n",
    "X_test__  = X_test_ [:,idx4rest[0]]\n",
    "print(X_train__.shape)"
   ]
  },
  {
   "cell_type": "code",
   "execution_count": 27,
   "id": "c24320c2",
   "metadata": {
    "scrolled": true
   },
   "outputs": [
    {
     "name": "stdout",
     "output_type": "stream",
     "text": [
      "Linear Discriminant Analysis\n",
      "Accuracy for test: Linear Discriminant Analysis:\t 0.91026,Accuracy for train: 0.98586\n",
      "Logistic Regression\n"
     ]
    },
    {
     "name": "stderr",
     "output_type": "stream",
     "text": [
      "/opt/anaconda3/lib/python3.9/site-packages/sklearn/linear_model/_logistic.py:444: ConvergenceWarning: lbfgs failed to converge (status=1):\n",
      "STOP: TOTAL NO. of ITERATIONS REACHED LIMIT.\n",
      "\n",
      "Increase the number of iterations (max_iter) or scale the data as shown in:\n",
      "    https://scikit-learn.org/stable/modules/preprocessing.html\n",
      "Please also refer to the documentation for alternative solver options:\n",
      "    https://scikit-learn.org/stable/modules/linear_model.html#logistic-regression\n",
      "  n_iter_i = _check_optimize_result(\n"
     ]
    },
    {
     "name": "stdout",
     "output_type": "stream",
     "text": [
      "Accuracy for test: Logistic Regression:\t 0.67066,Accuracy for train: 0.96172\n",
      "Naive Bayes Classifier\n",
      "Accuracy for test: Naive Bayes Classifier:\t 0.88844,Accuracy for train: 0.98744\n",
      "Random Forest Classifier\n",
      "Accuracy for test: Random Forest Classifier:\t 0.87822,Accuracy for train: 1.0\n"
     ]
    }
   ],
   "source": [
    "models__ = deepcopy(models)\n",
    "\n",
    "for model,name in models__:\n",
    "    print(name)\n",
    "    model.fit(X_train__,y_train)\n",
    "    print(f\"Accuracy for test: {name}:\\t {model.score(X_test__,y_test)},Accuracy for train: {model.score(X_train__,y_train)}\")"
   ]
  },
  {
   "cell_type": "markdown",
   "id": "e9451453",
   "metadata": {},
   "source": [
    "## RF FEATURE IMPORTANCE BASED FEATURE SELECTION "
   ]
  },
  {
   "cell_type": "code",
   "execution_count": 28,
   "id": "2080b31f",
   "metadata": {
    "scrolled": true
   },
   "outputs": [
    {
     "name": "stdout",
     "output_type": "stream",
     "text": [
      "(2469,)\n",
      "(50000, 133)\n"
     ]
    }
   ],
   "source": [
    "featuresrf = models[-1][0].feature_importances_\n",
    "print(featuresrf.shape)\n",
    "idx4rest = np.where(featuresrf>0.2*featuresrf.max())#0.023=0.32\n",
    "# print(df_train.columns[:-1][idx4rest])\n",
    "X_train__ = X_train[:,idx4rest[0]]\n",
    "X_test__  = X_test[:,idx4rest[0]]\n",
    "print(X_train__.shape)"
   ]
  },
  {
   "cell_type": "code",
   "execution_count": 29,
   "id": "9ee10968",
   "metadata": {},
   "outputs": [
    {
     "name": "stdout",
     "output_type": "stream",
     "text": [
      "Linear Discriminant Analysis\n",
      "Accuracy for test: Linear Discriminant Analysis:\t 0.93074,Accuracy for train: 0.99776\n",
      "Logistic Regression\n"
     ]
    },
    {
     "name": "stderr",
     "output_type": "stream",
     "text": [
      "/opt/anaconda3/lib/python3.9/site-packages/sklearn/linear_model/_logistic.py:444: ConvergenceWarning: lbfgs failed to converge (status=1):\n",
      "STOP: TOTAL NO. of ITERATIONS REACHED LIMIT.\n",
      "\n",
      "Increase the number of iterations (max_iter) or scale the data as shown in:\n",
      "    https://scikit-learn.org/stable/modules/preprocessing.html\n",
      "Please also refer to the documentation for alternative solver options:\n",
      "    https://scikit-learn.org/stable/modules/linear_model.html#logistic-regression\n",
      "  n_iter_i = _check_optimize_result(\n"
     ]
    },
    {
     "name": "stdout",
     "output_type": "stream",
     "text": [
      "Accuracy for test: Logistic Regression:\t 0.87954,Accuracy for train: 0.98698\n",
      "Naive Bayes Classifier\n",
      "Accuracy for test: Naive Bayes Classifier:\t 0.91534,Accuracy for train: 0.995\n",
      "Random Forest Classifier\n",
      "Accuracy for test: Random Forest Classifier:\t 0.919,Accuracy for train: 1.0\n"
     ]
    }
   ],
   "source": [
    "models__ = deepcopy(models)\n",
    "\n",
    "for model,name in models__:\n",
    "    print(name)\n",
    "    model.fit(X_train__,y_train)\n",
    "    print(f\"Accuracy for test: {name}:\\t {model.score(X_test__,y_test)},Accuracy for train: {model.score(X_train__,y_train)}\")"
   ]
  },
  {
   "cell_type": "code",
   "execution_count": 30,
   "id": "59ed02ad",
   "metadata": {
    "scrolled": true
   },
   "outputs": [
    {
     "name": "stdout",
     "output_type": "stream",
     "text": [
      "Accuracy of Random Forest Classifier:\t 0.919\n"
     ]
    },
    {
     "data": {
      "image/png": "[encoded data removed]",
      "text/plain": [
       "<Figure size 864x576 with 1 Axes>"
      ]
     },
     "metadata": {},
     "output_type": "display_data"
    }
   ],
   "source": [
    "clf_id = -1\n",
    "predicts = models__[clf_id][0].predict(X_test__)\n",
    "plt.plot(y_test)\n",
    "plt.plot(predicts)\n",
    "print(f\"Accuracy of {models[clf_id][1]}:\\t {models__[clf_id][0].score(X_test__,y_test)}\")"
   ]
  },
  {
   "cell_type": "code",
   "execution_count": 31,
   "id": "735c43cd",
   "metadata": {},
   "outputs": [
    {
     "name": "stdout",
     "output_type": "stream",
     "text": [
      "Accuracy of Naive Bayes Classifier:\t 0.91534\n"
     ]
    },
    {
     "data": {
      "image/png": "[encoded data removed]",
      "text/plain": [
       "<Figure size 864x576 with 1 Axes>"
      ]
     },
     "metadata": {},
     "output_type": "display_data"
    }
   ],
   "source": [
    "clf_id = -2\n",
    "predicts = models__[clf_id][0].predict(X_test__)\n",
    "plt.plot(y_test)\n",
    "plt.plot(predicts)\n",
    "print(f\"Accuracy of {models[clf_id][1]}:\\t {models__[clf_id][0].score(X_test__,y_test)}\")"
   ]
  },
  {
   "cell_type": "code",
   "execution_count": 32,
   "id": "ffcf7c9f",
   "metadata": {
    "scrolled": true
   },
   "outputs": [
    {
     "name": "stdout",
     "output_type": "stream",
     "text": [
      "Accuracy of Logistic Regression:\t 0.87954\n"
     ]
    },
    {
     "data": {
      "image/png": "[encoded data removed]",
      "text/plain": [
       "<Figure size 864x576 with 1 Axes>"
      ]
     },
     "metadata": {},
     "output_type": "display_data"
    }
   ],
   "source": [
    "clf_id = -3\n",
    "predicts = models__[clf_id][0].predict(X_test__)\n",
    "plt.plot(y_test)\n",
    "plt.plot(predicts)\n",
    "print(f\"Accuracy of {models[clf_id][1]}:\\t {models__[clf_id][0].score(X_test__,y_test)}\")"
   ]
  },
  {
   "cell_type": "code",
   "execution_count": 33,
   "id": "50cabf2a",
   "metadata": {
    "scrolled": true
   },
   "outputs": [
    {
     "name": "stdout",
     "output_type": "stream",
     "text": [
      "Accuracy of Linear Discriminant Analysis:\t 0.93074\n"
     ]
    },
    {
     "data": {
      "image/png": "[encoded data removed]",
      "text/plain": [
       "<Figure size 864x576 with 1 Axes>"
      ]
     },
     "metadata": {},
     "output_type": "display_data"
    }
   ],
   "source": [
    "clf_id = -4\n",
    "predicts = models__[clf_id][0].predict(X_test__)\n",
    "plt.plot(y_test)\n",
    "plt.plot(predicts)\n",
    "print(f\"Accuracy of {models[clf_id][1]}:\\t {models__[clf_id][0].score(X_test__,y_test)}\")"
   ]
  },
  {
   "cell_type": "markdown",
   "id": "5d6c98d1",
   "metadata": {},
   "source": [
    "## ANOVA AND OTHER"
   ]
  },
  {
   "cell_type": "code",
   "execution_count": 35,
   "id": "7f768a0e",
   "metadata": {},
   "outputs": [
    {
     "name": "stderr",
     "output_type": "stream",
     "text": [
      "/opt/anaconda3/lib/python3.9/site-packages/sklearn/feature_selection/_univariate_selection.py:112: UserWarning: Features [122 135 174 213] are constant.\n",
      "  warnings.warn(\"Features %s are constant.\" % constant_features_idx, UserWarning)\n",
      "/opt/anaconda3/lib/python3.9/site-packages/sklearn/feature_selection/_univariate_selection.py:113: RuntimeWarning: invalid value encountered in true_divide\n",
      "  f = msb / msw\n"
     ]
    },
    {
     "data": {
      "text/html": [
       "<style>#sk-container-id-1 {color: black;background-color: white;}#sk-container-id-1 pre{padding: 0;}#sk-container-id-1 div.sk-toggleable {background-color: white;}#sk-container-id-1 label.sk-toggleable__label {cursor: pointer;display: block;width: 100%;margin-bottom: 0;padding: 0.3em;box-sizing: border-box;text-align: center;}#sk-container-id-1 label.sk-toggleable__label-arrow:before {content: \"▸\";float: left;margin-right: 0.25em;color: #696969;}#sk-container-id-1 label.sk-toggleable__label-arrow:hover:before {color: black;}#sk-container-id-1 div.sk-estimator:hover label.sk-toggleable__label-arrow:before {color: black;}#sk-container-id-1 div.sk-toggleable__content {max-height: 0;max-width: 0;overflow: hidden;text-align: left;background-color: #f0f8ff;}#sk-container-id-1 div.sk-toggleable__content pre {margin: 0.2em;color: black;border-radius: 0.25em;background-color: #f0f8ff;}#sk-container-id-1 input.sk-toggleable__control:checked~div.sk-toggleable__content {max-height: 200px;max-width: 100%;overflow: auto;}#sk-container-id-1 input.sk-toggleable__control:checked~label.sk-toggleable__label-arrow:before {content: \"▾\";}#sk-container-id-1 div.sk-estimator input.sk-toggleable__control:checked~label.sk-toggleable__label {background-color: #d4ebff;}#sk-container-id-1 div.sk-label input.sk-toggleable__control:checked~label.sk-toggleable__label {background-color: #d4ebff;}#sk-container-id-1 input.sk-hidden--visually {border: 0;clip: rect(1px 1px 1px 1px);clip: rect(1px, 1px, 1px, 1px);height: 1px;margin: -1px;overflow: hidden;padding: 0;position: absolute;width: 1px;}#sk-container-id-1 div.sk-estimator {font-family: monospace;background-color: #f0f8ff;border: 1px dotted black;border-radius: 0.25em;box-sizing: border-box;margin-bottom: 0.5em;}#sk-container-id-1 div.sk-estimator:hover {background-color: #d4ebff;}#sk-container-id-1 div.sk-parallel-item::after {content: \"\";width: 100%;border-bottom: 1px solid gray;flex-grow: 1;}#sk-container-id-1 div.sk-label:hover label.sk-toggleable__label {background-color: #d4ebff;}#sk-container-id-1 div.sk-serial::before {content: \"\";position: absolute;border-left: 1px solid gray;box-sizing: border-box;top: 0;bottom: 0;left: 50%;z-index: 0;}#sk-container-id-1 div.sk-serial {display: flex;flex-direction: column;align-items: center;background-color: white;padding-right: 0.2em;padding-left: 0.2em;position: relative;}#sk-container-id-1 div.sk-item {position: relative;z-index: 1;}#sk-container-id-1 div.sk-parallel {display: flex;align-items: stretch;justify-content: center;background-color: white;position: relative;}#sk-container-id-1 div.sk-item::before, #sk-container-id-1 div.sk-parallel-item::before {content: \"\";position: absolute;border-left: 1px solid gray;box-sizing: border-box;top: 0;bottom: 0;left: 50%;z-index: -1;}#sk-container-id-1 div.sk-parallel-item {display: flex;flex-direction: column;z-index: 1;position: relative;background-color: white;}#sk-container-id-1 div.sk-parallel-item:first-child::after {align-self: flex-end;width: 50%;}#sk-container-id-1 div.sk-parallel-item:last-child::after {align-self: flex-start;width: 50%;}#sk-container-id-1 div.sk-parallel-item:only-child::after {width: 0;}#sk-container-id-1 div.sk-dashed-wrapped {border: 1px dashed gray;margin: 0 0.4em 0.5em 0.4em;box-sizing: border-box;padding-bottom: 0.4em;background-color: white;}#sk-container-id-1 div.sk-label label {font-family: monospace;font-weight: bold;display: inline-block;line-height: 1.2em;}#sk-container-id-1 div.sk-label-container {text-align: center;}#sk-container-id-1 div.sk-container {/* jupyter's `normalize.less` sets `[hidden] { display: none; }` but bootstrap.min.css set `[hidden] { display: none !important; }` so we also need the `!important` here to be able to override the default hidden behavior on the sphinx rendered scikit-learn.org. See: https://github.com/scikit-learn/scikit-learn/issues/21755 */display: inline-block !important;position: relative;}#sk-container-id-1 div.sk-text-repr-fallback {display: none;}</style><div id=\"sk-container-id-1\" class=\"sk-top-container\"><div class=\"sk-text-repr-fallback\"><pre>SelectKBest(k=1851)</pre><b>In a Jupyter environment, please rerun this cell to show the HTML representation or trust the notebook. <br />On GitHub, the HTML representation is unable to render, please try loading this page with nbviewer.org.</b></div><div class=\"sk-container\" hidden><div class=\"sk-item\"><div class=\"sk-estimator sk-toggleable\"><input class=\"sk-toggleable__control sk-hidden--visually\" id=\"sk-estimator-id-1\" type=\"checkbox\" checked><label for=\"sk-estimator-id-1\" class=\"sk-toggleable__label sk-toggleable__label-arrow\">SelectKBest</label><div class=\"sk-toggleable__content\"><pre>SelectKBest(k=1851)</pre></div></div></div></div></div>"
      ],
      "text/plain": [
       "SelectKBest(k=1851)"
      ]
     },
     "execution_count": 35,
     "metadata": {},
     "output_type": "execute_result"
    }
   ],
   "source": [
    "from sklearn.feature_selection import SelectKBest, RFECV,RFE, VarianceThreshold, SelectFromModel\n",
    "from sklearn.feature_selection import f_classif,  chi2,  mutual_info_classif \n",
    "\n",
    "# Create an SelectKBest object to select features with two best ANOVA F-Values\n",
    "fselector = SelectKBest(chi2, k=10)\n",
    "fselector = SelectKBest(f_classif, k=int(X_train.shape[1]*0.75))\n",
    "# fselector = SelectKBest(mutual_info_classif, k=18)\n",
    "# fselector = VarianceThreshold(threshold=.034)\n",
    "# fselector = RFECV(estimator=models[0][0], step=1, scoring='neg_mean_squared_error')\n",
    "# fselector = RFE(estimator=models[0][0], step=1)\n",
    "# fselector = SelectFromModel(estimator=models[0][0],norm_order=25)\n",
    "\n",
    "# Apply the SelectKBest object to the features and target\n",
    "fselector.fit(X_train, y_train)\n"
   ]
  },
  {
   "cell_type": "code",
   "execution_count": 36,
   "id": "4ed1f228",
   "metadata": {},
   "outputs": [
    {
     "data": {
      "text/plain": [
       "(50000, 1851)"
      ]
     },
     "execution_count": 36,
     "metadata": {},
     "output_type": "execute_result"
    }
   ],
   "source": [
    "X_train_1 = fselector.transform(X_train)\n",
    "X_test_1  = fselector.transform(X_test)\n",
    "X_train_1.shape"
   ]
  },
  {
   "cell_type": "code",
   "execution_count": 37,
   "id": "c4be99b7",
   "metadata": {},
   "outputs": [
    {
     "name": "stdout",
     "output_type": "stream",
     "text": [
      "Linear Discriminant Analysis\n",
      "Accuracy for test: Linear Discriminant Analysis:\t 0.94436,Accuracy for train: 0.99852\n",
      "Logistic Regression\n"
     ]
    },
    {
     "name": "stderr",
     "output_type": "stream",
     "text": [
      "/opt/anaconda3/lib/python3.9/site-packages/sklearn/linear_model/_logistic.py:444: ConvergenceWarning: lbfgs failed to converge (status=1):\n",
      "STOP: TOTAL NO. of ITERATIONS REACHED LIMIT.\n",
      "\n",
      "Increase the number of iterations (max_iter) or scale the data as shown in:\n",
      "    https://scikit-learn.org/stable/modules/preprocessing.html\n",
      "Please also refer to the documentation for alternative solver options:\n",
      "    https://scikit-learn.org/stable/modules/linear_model.html#logistic-regression\n",
      "  n_iter_i = _check_optimize_result(\n"
     ]
    },
    {
     "name": "stdout",
     "output_type": "stream",
     "text": [
      "Accuracy for test: Logistic Regression:\t 0.6747,Accuracy for train: 0.98954\n",
      "Naive Bayes Classifier\n",
      "Accuracy for test: Naive Bayes Classifier:\t 0.82874,Accuracy for train: 0.98564\n",
      "Random Forest Classifier\n",
      "Accuracy for test: Random Forest Classifier:\t 0.88398,Accuracy for train: 1.0\n"
     ]
    }
   ],
   "source": [
    "models_1 = deepcopy(models)\n",
    "\n",
    "for model,name in models_1:\n",
    "    print(name)\n",
    "    model.fit(X_train_1,y_train)\n",
    "    print(f\"Accuracy for test: {name}:\\t {model.score(X_test_1,y_test)},Accuracy for train: {model.score(X_train_1,y_train)}\")"
   ]
  },
  {
   "cell_type": "code",
   "execution_count": 38,
   "id": "66a251bf",
   "metadata": {},
   "outputs": [
    {
     "data": {
      "text/plain": [
       "(array([  13,   14,   17,   19,   25,   26,   27,   30,   32,   38,   43,\n",
       "          45,   51,  234,  247,  248,  251,  253,  259,  260,  261,  263,\n",
       "         264,  266,  267,  272,  273,  274,  277,  285,  481,  482,  485,\n",
       "         487,  488,  493,  495,  497,  498,  500,  501,  507,  703,  706,\n",
       "         708,  709,  715,  716,  719,  745,  909,  910,  911,  914,  916,\n",
       "         923,  927,  940, 1106, 1118, 1122, 1135, 1148, 1287, 1291, 1300,\n",
       "        1304, 1313, 1317, 1456, 1460, 1469, 1473, 1475, 1486, 1499, 1612,\n",
       "        1616, 1625, 1629, 1755, 1759, 1768, 1772, 1785, 1885, 1889, 1898,\n",
       "        1902, 1915, 2002, 2006, 2015, 2019, 2021, 2028, 2032, 2106, 2110,\n",
       "        2119, 2123, 2136, 2197, 2201, 2210, 2214, 2227, 2275, 2279, 2288,\n",
       "        2292, 2301, 2305, 2340, 2344, 2353, 2357, 2366, 2370, 2392, 2396,\n",
       "        2405, 2409, 2418, 2422, 2431, 2435, 2444, 2448, 2454, 2457, 2461,\n",
       "        2467]),)"
      ]
     },
     "execution_count": 38,
     "metadata": {},
     "output_type": "execute_result"
    }
   ],
   "source": [
    "idx4rest"
   ]
  },
  {
   "cell_type": "code",
   "execution_count": 39,
   "id": "43ff6165",
   "metadata": {},
   "outputs": [
    {
     "name": "stdout",
     "output_type": "stream",
     "text": [
      "(2469,)\n",
      "(50000, 133)\n"
     ]
    }
   ],
   "source": [
    "featuresrf = models[-1][0].feature_importances_\n",
    "print(featuresrf.shape)\n",
    "idx4rest = np.where(featuresrf>0.4*featuresrf.max())#0.023=0.32\n",
    "# print(df_train.columns[:-1][idx4rest])\n",
    "X_train__2 = X_train[:,idx4rest[0]]\n",
    "X_test__2  = X_test[:,idx4rest[0]]\n",
    "print(X_train__.shape)"
   ]
  },
  {
   "cell_type": "code",
   "execution_count": 40,
   "id": "e2f7e9f8",
   "metadata": {
    "scrolled": true
   },
   "outputs": [
    {
     "name": "stdout",
     "output_type": "stream",
     "text": [
      "Linear Discriminant Analysis\n",
      "Accuracy for test: Linear Discriminant Analysis:\t 0.92992,Accuracy for train: 0.99608\n",
      "Logistic Regression\n"
     ]
    },
    {
     "name": "stderr",
     "output_type": "stream",
     "text": [
      "/opt/anaconda3/lib/python3.9/site-packages/sklearn/linear_model/_logistic.py:444: ConvergenceWarning: lbfgs failed to converge (status=1):\n",
      "STOP: TOTAL NO. of ITERATIONS REACHED LIMIT.\n",
      "\n",
      "Increase the number of iterations (max_iter) or scale the data as shown in:\n",
      "    https://scikit-learn.org/stable/modules/preprocessing.html\n",
      "Please also refer to the documentation for alternative solver options:\n",
      "    https://scikit-learn.org/stable/modules/linear_model.html#logistic-regression\n",
      "  n_iter_i = _check_optimize_result(\n"
     ]
    },
    {
     "name": "stdout",
     "output_type": "stream",
     "text": [
      "Accuracy for test: Logistic Regression:\t 0.90948,Accuracy for train: 0.99232\n",
      "Naive Bayes Classifier\n",
      "Accuracy for test: Naive Bayes Classifier:\t 0.91852,Accuracy for train: 0.99506\n",
      "Random Forest Classifier\n",
      "Accuracy for test: Random Forest Classifier:\t 0.91926,Accuracy for train: 1.0\n"
     ]
    }
   ],
   "source": [
    "models__2 = deepcopy(models)\n",
    "\n",
    "for model,name in models__2:\n",
    "    print(name)\n",
    "    model.fit(X_train__2,y_train)\n",
    "    print(f\"Accuracy for test: {name}:\\t {model.score(X_test__2,y_test)},Accuracy for train: {model.score(X_train__2,y_train)}\")"
   ]
  },
  {
   "cell_type": "code",
   "execution_count": 41,
   "id": "4dfd3fa4",
   "metadata": {},
   "outputs": [
    {
     "name": "stdout",
     "output_type": "stream",
     "text": [
      "Accuracy of Linear Discriminant Analysis:\t 0.92992\n"
     ]
    },
    {
     "data": {
      "image/png": "[encoded data removed]",
      "text/plain": [
       "<Figure size 864x576 with 1 Axes>"
      ]
     },
     "metadata": {},
     "output_type": "display_data"
    }
   ],
   "source": [
    "clf_id = -4\n",
    "predicts = models__2[clf_id][0].predict(X_test__2)\n",
    "plt.plot(y_test)\n",
    "plt.plot(predicts)\n",
    "print(f\"Accuracy of {models[clf_id][1]}:\\t {models__2[clf_id][0].score(X_test__2,y_test)}\")"
   ]
  },
  {
   "cell_type": "code",
   "execution_count": 42,
   "id": "b879a6b3",
   "metadata": {},
   "outputs": [
    {
     "name": "stdout",
     "output_type": "stream",
     "text": [
      "(2469,)\n",
      "(50000, 220)\n",
      "Linear Discriminant Analysis\n",
      "Accuracy for test: Linear Discriminant Analysis:\t 0.91544,Accuracy for train: 0.99784\n",
      "Logistic Regression\n"
     ]
    },
    {
     "name": "stderr",
     "output_type": "stream",
     "text": [
      "/opt/anaconda3/lib/python3.9/site-packages/sklearn/linear_model/_logistic.py:444: ConvergenceWarning: lbfgs failed to converge (status=1):\n",
      "STOP: TOTAL NO. of ITERATIONS REACHED LIMIT.\n",
      "\n",
      "Increase the number of iterations (max_iter) or scale the data as shown in:\n",
      "    https://scikit-learn.org/stable/modules/preprocessing.html\n",
      "Please also refer to the documentation for alternative solver options:\n",
      "    https://scikit-learn.org/stable/modules/linear_model.html#logistic-regression\n",
      "  n_iter_i = _check_optimize_result(\n"
     ]
    },
    {
     "name": "stdout",
     "output_type": "stream",
     "text": [
      "Accuracy for test: Logistic Regression:\t 0.78844,Accuracy for train: 0.98134\n",
      "Naive Bayes Classifier\n",
      "Accuracy for test: Naive Bayes Classifier:\t 0.91038,Accuracy for train: 0.9935\n",
      "Random Forest Classifier\n",
      "Accuracy for test: Random Forest Classifier:\t 0.91448,Accuracy for train: 1.0\n"
     ]
    }
   ],
   "source": [
    "featuresrf = models[-1][0].feature_importances_\n",
    "print(featuresrf.shape)\n",
    "idx4rest = np.where(featuresrf>0.1*featuresrf.max())#0.023=0.32\n",
    "# print(df_train.columns[:-1][idx4rest])\n",
    "X_train__2 = X_train[:,idx4rest[0]]\n",
    "X_test__2  = X_test[:,idx4rest[0]]\n",
    "print(X_train__2.shape)\n",
    "models__2 = deepcopy(models)\n",
    "\n",
    "for model,name in models__2:\n",
    "    print(name)\n",
    "    model.fit(X_train__2,y_train)\n",
    "    print(f\"Accuracy for test: {name}:\\t {model.score(X_test__2,y_test)},Accuracy for train: {model.score(X_train__2,y_train)}\")"
   ]
  },
  {
   "cell_type": "code",
   "execution_count": 48,
   "id": "6bf3a79b",
   "metadata": {
    "scrolled": true
   },
   "outputs": [
    {
     "name": "stdout",
     "output_type": "stream",
     "text": [
      "Accuracy of Linear Discriminant Analysis:\t 0.91544\n"
     ]
    },
    {
     "data": {
      "image/png": "[encoded data removed]",
      "text/plain": [
       "<Figure size 864x576 with 1 Axes>"
      ]
     },
     "metadata": {},
     "output_type": "display_data"
    }
   ],
   "source": [
    "clf_id = 0\n",
    "predicts = models__2[clf_id][0].predict(X_test__2)\n",
    "plt.plot(y_test)\n",
    "plt.plot(predicts)\n",
    "print(f\"Accuracy of {models[clf_id][1]}:\\t {models__2[clf_id][0].score(X_test__2,y_test)}\")"
   ]
  },
  {
   "cell_type": "code",
   "execution_count": 74,
   "id": "ec6b6621",
   "metadata": {
    "scrolled": false
   },
   "outputs": [
    {
     "name": "stdout",
     "output_type": "stream",
     "text": [
      "Accuracy of Naive Bayes Classifier:\t 0.91038\n"
     ]
    },
    {
     "data": {
      "image/png": "[encoded data removed]",
      "text/plain": [
       "<Figure size 864x576 with 1 Axes>"
      ]
     },
     "metadata": {},
     "output_type": "display_data"
    }
   ],
   "source": [
    "clf_id = -2\n",
    "predicts = models__2[clf_id][0].predict(X_test__2)\n",
    "plt.plot(y_test)\n",
    "plt.plot(predicts)\n",
    "print(f\"Accuracy of {models[clf_id][1]}:\\t {models__2[clf_id][0].score(X_test__2,y_test)}\")"
   ]
  },
  {
   "cell_type": "code",
   "execution_count": 56,
   "id": "5324267f",
   "metadata": {},
   "outputs": [],
   "source": [
    "from sklearn.ensemble import VotingClassifier, StackingClassifier"
   ]
  },
  {
   "cell_type": "code",
   "execution_count": 53,
   "id": "ca723d8d",
   "metadata": {},
   "outputs": [
    {
     "name": "stdout",
     "output_type": "stream",
     "text": [
      "Accuracy for test:\t 0.91346,Accuracy for train: 0.99812\n"
     ]
    }
   ],
   "source": [
    "model = VotingClassifier(estimators=[('rf', models__2[-1][0]), \n",
    "                                     ('lda', models__2[0][0]), \n",
    "                                     ('nb', models__2[-2][0])],\n",
    "                         voting = 'soft'\n",
    "                        )\n",
    "model.fit(X_train__2,y_train)\n",
    "print(f\"Accuracy for test:\\t {model.score(X_test__2,y_test)},Accuracy for train: {model.score(X_train__2,y_train)}\")"
   ]
  },
  {
   "cell_type": "code",
   "execution_count": 82,
   "id": "1f27b918",
   "metadata": {
    "scrolled": true
   },
   "outputs": [
    {
     "name": "stdout",
     "output_type": "stream",
     "text": [
      "Accuracy for test:\t 0.9129,Accuracy for train: 0.99848\n"
     ]
    }
   ],
   "source": [
    "# model = StackingClassifier(estimators=[('rf', models__2[-1][0]), \n",
    "#                                      ('lda', models__2[0][0]), \n",
    "#                                      ('nb', models__2[-2][0])],\n",
    "#                            final_estimator=LinearDiscriminantAnalysis()\n",
    "#                         )\n",
    "def stacking(x,y):\n",
    "    data = np.column_stack((\n",
    "                    models__2[-1][0].predict(x),\n",
    "                    models__2[-2][0].predict(x),\n",
    "                    models__2[0 ][0].predict(x),\n",
    "                    ))\n",
    "    model = LinearDiscriminantAnalysis(tol = 1e-3)\n",
    "#     model = RandomForestClassifier()\n",
    "    model.fit(x,y)\n",
    "    return model\n",
    "model = stacking(X_train__2,y_train)\n",
    "print(f\"Accuracy for test:\\t {model.score(X_test__2,y_test)},Accuracy for train: {model.score(X_train__2,y_train)}\")"
   ]
  },
  {
   "cell_type": "code",
   "execution_count": 83,
   "id": "3ec8ca67",
   "metadata": {},
   "outputs": [
    {
     "name": "stdout",
     "output_type": "stream",
     "text": [
      "Accuracy :\t 0.9129\n"
     ]
    },
    {
     "data": {
      "image/png": "[encoded data removed]",
      "text/plain": [
       "<Figure size 864x576 with 1 Axes>"
      ]
     },
     "metadata": {},
     "output_type": "display_data"
    }
   ],
   "source": [
    "predicts = model.predict(X_test__2)\n",
    "plt.plot(y_test)\n",
    "plt.plot(predicts)\n",
    "print(f\"Accuracy :\\t {model.score(X_test__2,y_test)}\")"
   ]
  },
  {
   "cell_type": "code",
   "execution_count": 45,
   "id": "8b615f98",
   "metadata": {},
   "outputs": [
    {
     "data": {
      "text/plain": [
       "(array([  13,   14,   17,   19,   25,   26,   27,   30,   32,   38,   39,\n",
       "          40,   43,   45,   51,  220,  225,  234,  238,  244,  247,  248,\n",
       "         251,  253,  259,  260,  261,  263,  264,  266,  267,  272,  273,\n",
       "         274,  277,  279,  285,  401,  468,  472,  478,  480,  481,  482,\n",
       "         484,  485,  487,  488,  493,  494,  495,  497,  498,  500,  501,\n",
       "         506,  507,  513,  699,  701,  702,  703,  706,  708,  709,  714,\n",
       "         715,  716,  719,  721,  722,  728,  732,  741,  745,  758,  909,\n",
       "         910,  911,  914,  916,  917,  923,  924,  927,  929,  930,  936,\n",
       "         940,  951,  966, 1105, 1106, 1111, 1118, 1119, 1122, 1131, 1133,\n",
       "        1135, 1148, 1286, 1287, 1288, 1289, 1291, 1300, 1304, 1306, 1313,\n",
       "        1317, 1455, 1456, 1460, 1462, 1469, 1473, 1475, 1482, 1486, 1499,\n",
       "        1611, 1612, 1616, 1625, 1629, 1638, 1642, 1754, 1755, 1756, 1759,\n",
       "        1768, 1772, 1781, 1785, 1798, 1884, 1885, 1889, 1898, 1899, 1902,\n",
       "        1904, 1911, 1915, 2002, 2003, 2006, 2015, 2019, 2021, 2028, 2032,\n",
       "        2034, 2103, 2105, 2106, 2110, 2112, 2116, 2119, 2120, 2123, 2125,\n",
       "        2132, 2136, 2149, 2196, 2197, 2198, 2201, 2210, 2214, 2223, 2227,\n",
       "        2240, 2274, 2275, 2279, 2281, 2288, 2289, 2292, 2301, 2305, 2318,\n",
       "        2331, 2340, 2341, 2344, 2353, 2354, 2357, 2365, 2366, 2367, 2370,\n",
       "        2383, 2389, 2392, 2393, 2396, 2405, 2409, 2411, 2418, 2419, 2422,\n",
       "        2428, 2430, 2431, 2435, 2444, 2448, 2450, 2454, 2457, 2461, 2467]),)"
      ]
     },
     "execution_count": 45,
     "metadata": {},
     "output_type": "execute_result"
    }
   ],
   "source": [
    "idx4rest"
   ]
  },
  {
   "cell_type": "code",
   "execution_count": null,
   "id": "d2d955cd",
   "metadata": {},
   "outputs": [],
   "source": []
  },
  {
   "cell_type": "code",
   "execution_count": 46,
   "id": "ffa0b62f",
   "metadata": {},
   "outputs": [
    {
     "data": {
      "image/png": "[encoded data removed]",
      "text/plain": [
       "<Figure size 864x576 with 1 Axes>"
      ]
     },
     "metadata": {},
     "output_type": "display_data"
    }
   ],
   "source": [
    "feat_imp = pd.DataFrame({'importance':models__2[-1][0].feature_importances_}) \n",
    "\n",
    "# feat_imp['feature'] = df_train.columns[:-1]\n",
    "\n",
    "# feat_imp = feat_imp.set_index('feature', drop=True)\n",
    "\n",
    "feat_imp.plot.barh(color='grey')\n",
    "# plt.title(\"XGBoost feature importance\")\n",
    "plt.xlabel('Feature Importance Score', fontsize = 32)\n",
    "plt.ylabel('Feature Name', fontsize = 32)\n",
    "# plt.savefig('XGB_feautre_importance.pdf', dpi=120, format='pdf', bbox_inches='tight')\n",
    "plt.show()"
   ]
  },
  {
   "cell_type": "code",
   "execution_count": null,
   "id": "f31b53b0",
   "metadata": {},
   "outputs": [],
   "source": []
  },
  {
   "cell_type": "code",
   "execution_count": null,
   "id": "031e839c",
   "metadata": {},
   "outputs": [],
   "source": []
  },
  {
   "cell_type": "code",
   "execution_count": null,
   "id": "1b93b09b",
   "metadata": {},
   "outputs": [],
   "source": []
  }
 ],
 "metadata": {
  "kernelspec": {
   "display_name": "Python 3",
   "language": "python",
   "name": "python3"
  },
  "language_info": {
   "codemirror_mode": {
    "name": "ipython",
    "version": 3
   },
   "file_extension": ".py",
   "mimetype": "text/x-python",
   "name": "python",
   "nbconvert_exporter": "python",
   "pygments_lexer": "ipython3",
   "version": "3.7.0"
  },
  "toc": {
   "base_numbering": 1,
   "nav_menu": {},
   "number_sections": true,
   "sideBar": true,
   "skip_h1_title": false,
   "title_cell": "Table of Contents",
   "title_sidebar": "Contents",
   "toc_cell": false,
   "toc_position": {},
   "toc_section_display": true,
   "toc_window_display": false
  }
 },
 "nbformat": 4,
 "nbformat_minor": 5
}
