{
 "cells": [
  {
   "cell_type": "markdown",
   "id": "9d535933",
   "metadata": {
    "id": "cf9fb5e1"
   },
   "source": [
    "## Import"
   ]
  },
  {
   "cell_type": "code",
   "execution_count": 1,
   "id": "620ac45f",
   "metadata": {
    "id": "d8d02fc0"
   },
   "outputs": [],
   "source": [
    "import matplotlib.pyplot as plt\n",
    "%matplotlib inline\n",
    "import numpy as np\n",
    "import h5py"
   ]
  },
  {
   "cell_type": "code",
   "execution_count": 7,
   "id": "4e13880a",
   "metadata": {
    "id": "3da24b40"
   },
   "outputs": [],
   "source": [
    "FS = 50e3\n",
    "fs = FS # SAMPLING FREQUENCY"
   ]
  },
  {
   "cell_type": "code",
   "execution_count": 42,
   "id": "29d1671a",
   "metadata": {
    "id": "dfab740a"
   },
   "outputs": [],
   "source": [
    "class H5Dataset:\n",
    "    '''\n",
    "    Class for open dataset in HDF5 format.\n",
    "\n",
    "    Parameters:\n",
    "    -----------\n",
    "    h5dataset: h5py._hl.files.File,\n",
    "        is the HDF5 dataset file.\n",
    "    segment_size: int,\n",
    "        is the size of segments we are using.\n",
    "\n",
    "    Attributes:\n",
    "    -----------   \n",
    "    ds_parts: list[str],\n",
    "        list of dataset parts, for instance \n",
    "        [x_train_1,x_train_2,x_test_1,x_test_2]\n",
    "    \n",
    "    Example:\n",
    "    --------\n",
    "        hdf5_file_path = 'dataset_.hdf5'\n",
    "        dataset = h5py.File(hdf5_file_path, 'r')\n",
    "        ds = H5Dataset(dataset, segment_size=int(10e3))\n",
    "        ds.inspect()\n",
    "        # >> Name x_test_1,  Type <class 'h5py._hl.dataset.Dataset'> Shape (20, 12500000), DType float32 N segments 1250\n",
    "        # >> Name x_test_2,  Type <class 'h5py._hl.dataset.Dataset'> Shape (20, 12500000), DType float32 N segments 1250\n",
    "        # >> Name x_train_1, Type <class 'h5py._hl.dataset.Dataset'> Shape (20, 12500000), DType float32 N segments 1250\n",
    "        # >> Name x_train_2, Type <class 'h5py._hl.dataset.Dataset'> Shape (20, 12500000), DType float32 N segments 1250\n",
    "\n",
    "        range_ = ds.get_range('x_test_1')\n",
    "        print(range_.shape)\n",
    "        # >>  (20, 12500000) # Get all time series form the part \n",
    "\n",
    "        range_ = ds.get_range('x_test_1',(0,2)) # Get specific time series form the part \n",
    "        print(range_.shape)\n",
    "        # >> (2, 12500000)\n",
    "\n",
    "        source_no = 0 # Source Number\n",
    "        x_,y_ = ds.get_source('x_test_1',0) # Get time series from specific source \n",
    "                                            # divided by segments \n",
    "                                            # and corresponding source number.\n",
    "        print(x_.shape, y_.shape)\n",
    "        # >> (1250, 10000) (1250,)\n",
    "\n",
    "        # example of plot source\n",
    "        segment_no = 0\n",
    "        plt.figure(figsize = (4,2), dpi = 125)\n",
    "        plt.plot(x_[segment_no],'k'); \n",
    "        plt.title(f'segment № {segment_no} of source № {source_no}', fontsize = 18); \n",
    "        plt.xlabel('n, (points)', fontsize = 18)\n",
    "        plt.ylabel('Amplitude (A)', fontsize = 18)\n",
    "        plt.show()    \n",
    "\n",
    "    '''\n",
    "    def __init__(self, h5dataset, segment_size = 1):\n",
    "        self.dataset  = h5dataset\n",
    "        self.ds_parts = list(self.dataset.keys())\n",
    "        self.seg_size = int(segment_size)\n",
    "    #---------------------------------    \n",
    "    def visit(self):\n",
    "        ''' visit method for HDF5 file.'''\n",
    "        self.dataset.visit(lambda name: print(name))\n",
    "    #---------------------------------\n",
    "    def inspect(self):\n",
    "        ''' Information about content in the hdf5 file.'''\n",
    "        for key in self.ds_parts:\n",
    "            part = self.dataset[key]\n",
    "            info = f'Name {key},\\tType {type(part)}'\n",
    "            info +=f' Shape {part.shape}, DType {part.dtype}'\n",
    "            if isinstance(self.seg_size,int):\n",
    "                info +=f' N segments {part.shape[1]//self.seg_size}'    \n",
    "            print(info)\n",
    "    #---------------------------------\n",
    "    def get_source(self, part, source, label = None):\n",
    "        '''\n",
    "        Get source as time series for selected part and source number.\n",
    "        \n",
    "        Parameters:\n",
    "        -----------\n",
    "        part:   str, part name\n",
    "        source: int, source number\n",
    "        label:  int, label (class) of source\n",
    "        \n",
    "        Returns:\n",
    "        ---------\n",
    "        segment: 2d ndarray, time serices divided into segments\n",
    "        target:  1d ndarray, class label for each  segment\n",
    "        '''\n",
    "        if self.seg_size is None: raise ValueError\n",
    "        \n",
    "        source_data = self.dataset[part][source]\n",
    "        \n",
    "        segment = source_data.reshape(-1,self.seg_size)\n",
    "        \n",
    "        if label is None:\n",
    "            label = source\n",
    "        target  = label * np.ones(segment.shape[0])\n",
    "        return segment, target\n",
    "    \n",
    "    #---------------------------------\n",
    "    def part(self, part_name):\n",
    "        ''' return part of File by the part name'''\n",
    "        return self.dataset[part_name]\n",
    "    \n",
    "    #---------------------------------    \n",
    "    def get_range(self, part, sources = None, label = None):\n",
    "        ''' \n",
    "        Get full segemnts of HDF file data,\n",
    "        \n",
    "        Parameters:\n",
    "        -----------\n",
    "        part:     str, part name\n",
    "        source:   int, source number\n",
    "        label:    int, label (class) of source\n",
    "        \n",
    "        Returns:\n",
    "        ---------\n",
    "        segment: 2d ndarray, time serices divided into segments\n",
    "        target:  1d ndarray, class label for each  segment\n",
    "        \n",
    "        '''\n",
    "        if self.seg_size is None: raise ValueError\n",
    "        \n",
    "        data = self.dataset[part]\n",
    "        if sources is None:  sources  = (0,data.shape[0])\n",
    "        \n",
    "        segments = (0,data.shape[1]//self.seg_size) \n",
    "        \n",
    "        sources  = (max(0,int(sources[0])),min(data.shape[0],int(sources[1])))    \n",
    "        segments = (segments[0]*self.seg_size,segments[1]*self.seg_size)  \n",
    "        segments = (max(0,int(segments[0])),min(data.shape[1],int(segments[1])))\n",
    "\n",
    "        return data[sources[0]:sources[1],segments[0]:segments[1] ]\n",
    "        \n",
    "    "
   ]
  },
  {
   "cell_type": "code",
   "execution_count": 43,
   "id": "5c5fe2bb",
   "metadata": {
    "colab": {
     "base_uri": "https://localhost:8080/"
    },
    "id": "765bfda5",
    "outputId": "509a3fd7-0e86-4b41-b054-f0320dd89af9",
    "scrolled": true
   },
   "outputs": [
    {
     "name": "stdout",
     "output_type": "stream",
     "text": [
      "Name x_test_1,\tType <class 'h5py._hl.dataset.Dataset'> Shape (20, 12500000), DType float32 N segments 1250\n",
      "Name x_test_2,\tType <class 'h5py._hl.dataset.Dataset'> Shape (20, 12500000), DType float32 N segments 1250\n",
      "Name x_train_1,\tType <class 'h5py._hl.dataset.Dataset'> Shape (20, 12500000), DType float32 N segments 1250\n",
      "Name x_train_2,\tType <class 'h5py._hl.dataset.Dataset'> Shape (20, 12500000), DType float32 N segments 1250\n",
      "(20, 12500000)\n",
      "(2, 12500000)\n",
      "(1250, 10000) (1250,)\n"
     ]
    },
    {
     "data": {
      "image/png": "[encoded data removed]",
      "text/plain": [
       "<Figure size 500x250 with 1 Axes>"
      ]
     },
     "metadata": {
      "needs_background": "light"
     },
     "output_type": "display_data"
    }
   ],
   "source": [
    "hdf5_file_path = 'dataset_.hdf5'\n",
    "dataset = h5py.File(hdf5_file_path, 'r')\n",
    "ds = H5Dataset(dataset, segment_size=int(10e3))\n",
    "ds.inspect()\n",
    "# >> Name x_test_1,  Type <class 'h5py._hl.dataset.Dataset'> Shape (20, 12500000), DType float32 N segments 1250\n",
    "# >> Name x_test_2,  Type <class 'h5py._hl.dataset.Dataset'> Shape (20, 12500000), DType float32 N segments 1250\n",
    "# >> Name x_train_1, Type <class 'h5py._hl.dataset.Dataset'> Shape (20, 12500000), DType float32 N segments 1250\n",
    "# >> Name x_train_2, Type <class 'h5py._hl.dataset.Dataset'> Shape (20, 12500000), DType float32 N segments 1250\n",
    "\n",
    "range_ = ds.get_range('x_test_1')\n",
    "print(range_.shape)\n",
    "# >>  (20, 12500000) # Get all time series form the part \n",
    "\n",
    "range_ = ds.get_range('x_test_1',(0,2)) # Get specific time series form the part \n",
    "print(range_.shape)\n",
    "# >> (2, 12500000)\n",
    "\n",
    "source_no = 0 # Source Number\n",
    "x_,y_ = ds.get_source('x_test_1',0) # Get time series from specific source \n",
    "                                    # divided by segments \n",
    "                                    # and corresponding source number.\n",
    "print(x_.shape, y_.shape)\n",
    "# >> (1250, 10000) (1250,)\n",
    "\n",
    "# example of plot source\n",
    "segment_no = 0\n",
    "plt.figure(figsize = (4,2), dpi = 125)\n",
    "plt.plot(x_[segment_no],'k'); \n",
    "plt.title(f'segment № {segment_no} of source № {source_no}', fontsize = 18); \n",
    "plt.xlabel('n, (points)', fontsize = 18)\n",
    "plt.ylabel('Amplitude (A)', fontsize = 18)\n",
    "plt.show()"
   ]
  },
  {
   "cell_type": "code",
   "execution_count": 35,
   "id": "7bb159b3",
   "metadata": {},
   "outputs": [],
   "source": [
    "hdf5_file_path = 'dataset_.hdf5'\n",
    "dataset = h5py.File(hdf5_file_path, 'r')"
   ]
  },
  {
   "cell_type": "code",
   "execution_count": 13,
   "id": "9532b70a",
   "metadata": {
    "colab": {
     "base_uri": "https://localhost:8080/"
    },
    "id": "d61fa438",
    "outputId": "7f0fe0bd-0afb-4428-e7f2-580ada37a40f"
   },
   "outputs": [
    {
     "name": "stdout",
     "output_type": "stream",
     "text": [
      "(20, 12500000)\n"
     ]
    }
   ],
   "source": [
    "range_ = ds.get_range('x_test_1')\n",
    "print(range_.shape)"
   ]
  },
  {
   "cell_type": "code",
   "execution_count": 14,
   "id": "56ab855f",
   "metadata": {
    "colab": {
     "base_uri": "https://localhost:8080/"
    },
    "id": "f00b27b7",
    "outputId": "3bf9e5e9-818d-484a-8290-6d838c3cf36e",
    "scrolled": true
   },
   "outputs": [
    {
     "name": "stdout",
     "output_type": "stream",
     "text": [
      "(2, 12500000)\n"
     ]
    }
   ],
   "source": [
    "range_ = ds.get_range('x_test_1',(0,2))\n",
    "print(range_.shape)"
   ]
  },
  {
   "cell_type": "markdown",
   "id": "c203c4b9",
   "metadata": {
    "id": "960ac8d1"
   },
   "source": [
    "we have period about 1000 points"
   ]
  },
  {
   "cell_type": "code",
   "execution_count": 26,
   "id": "99260b1e",
   "metadata": {
    "id": "045a9353",
    "scrolled": true
   },
   "outputs": [
    {
     "name": "stdout",
     "output_type": "stream",
     "text": [
      "(1250, 10000) (1250,)\n"
     ]
    }
   ],
   "source": [
    "source_no = 0\n",
    "x_,y_ = ds.get_source('x_test_1',source_no)\n",
    "print(x_.shape, y_.shape)"
   ]
  },
  {
   "cell_type": "code",
   "execution_count": 29,
   "id": "7e2102c2",
   "metadata": {},
   "outputs": [
    {
     "data": {
      "image/png": "[encoded data removed]",
      "text/plain": [
       "<Figure size 500x250 with 1 Axes>"
      ]
     },
     "metadata": {
      "needs_background": "light"
     },
     "output_type": "display_data"
    }
   ],
   "source": [
    "segment_no = 0\n",
    "plt.figure(figsize = (4,2), dpi = 125)\n",
    "plt.plot(x_[segment_no],'k'); \n",
    "plt.title(f'segment № {segment_no} of source № {source_no}', fontsize = 18); \n",
    "plt.xlabel('n, (points)', fontsize = 18)\n",
    "plt.ylabel('Amplitude (A)', fontsize = 18)\n",
    "plt.show()"
   ]
  },
  {
   "cell_type": "code",
   "execution_count": null,
   "id": "fc7f5fc5",
   "metadata": {
    "id": "f2a0ebeb"
   },
   "outputs": [],
   "source": []
  }
 ],
 "metadata": {
  "accelerator": "GPU",
  "colab": {
   "collapsed_sections": [],
   "name": "EWT X20 DATASET.ipynb",
   "provenance": []
  },
  "gpuClass": "standard",
  "kernelspec": {
   "display_name": "Python 3",
   "language": "python",
   "name": "python3"
  },
  "language_info": {
   "codemirror_mode": {
    "name": "ipython",
    "version": 3
   },
   "file_extension": ".py",
   "mimetype": "text/x-python",
   "name": "python",
   "nbconvert_exporter": "python",
   "pygments_lexer": "ipython3",
   "version": "3.7.0"
  },
  "toc": {
   "base_numbering": 1,
   "nav_menu": {},
   "number_sections": true,
   "sideBar": true,
   "skip_h1_title": false,
   "title_cell": "Table of Contents",
   "title_sidebar": "Contents",
   "toc_cell": false,
   "toc_position": {},
   "toc_section_display": true,
   "toc_window_display": false
  },
  "widgets": {
   "application/vnd.jupyter.widget-state+json": {
    "1efebcc3d37646f294164085eaf4fc5a": {
     "model_module": "@jupyter-widgets/controls",
     "model_module_version": "1.5.0",
     "model_name": "DescriptionStyleModel",
     "state": {
      "_model_module": "@jupyter-widgets/controls",
      "_model_module_version": "1.5.0",
      "_model_name": "DescriptionStyleModel",
      "_view_count": null,
      "_view_module": "@jupyter-widgets/base",
      "_view_module_version": "1.2.0",
      "_view_name": "StyleView",
      "description_width": ""
     }
    },
    "1f9100f0a2f64672b44851cc3141b26b": {
     "model_module": "@jupyter-widgets/base",
     "model_module_version": "1.2.0",
     "model_name": "LayoutModel",
     "state": {
      "_model_module": "@jupyter-widgets/base",
      "_model_module_version": "1.2.0",
      "_model_name": "LayoutModel",
      "_view_count": null,
      "_view_module": "@jupyter-widgets/base",
      "_view_module_version": "1.2.0",
      "_view_name": "LayoutView",
      "align_content": null,
      "align_items": null,
      "align_self": null,
      "border": null,
      "bottom": null,
      "display": null,
      "flex": null,
      "flex_flow": null,
      "grid_area": null,
      "grid_auto_columns": null,
      "grid_auto_flow": null,
      "grid_auto_rows": null,
      "grid_column": null,
      "grid_gap": null,
      "grid_row": null,
      "grid_template_areas": null,
      "grid_template_columns": null,
      "grid_template_rows": null,
      "height": null,
      "justify_content": null,
      "justify_items": null,
      "left": null,
      "margin": null,
      "max_height": null,
      "max_width": null,
      "min_height": null,
      "min_width": null,
      "object_fit": null,
      "object_position": null,
      "order": null,
      "overflow": null,
      "overflow_x": null,
      "overflow_y": null,
      "padding": null,
      "right": null,
      "top": null,
      "visibility": null,
      "width": "20px"
     }
    },
    "355a084db19949538e89253286e379f7": {
     "model_module": "@jupyter-widgets/controls",
     "model_module_version": "1.5.0",
     "model_name": "HTMLModel",
     "state": {
      "_dom_classes": [],
      "_model_module": "@jupyter-widgets/controls",
      "_model_module_version": "1.5.0",
      "_model_name": "HTMLModel",
      "_view_count": null,
      "_view_module": "@jupyter-widgets/controls",
      "_view_module_version": "1.5.0",
      "_view_name": "HTMLView",
      "description": "",
      "description_tooltip": null,
      "layout": "IPY_MODEL_c10b096ef04841afb6ab19b6c6e74e6c",
      "placeholder": "​",
      "style": "IPY_MODEL_1efebcc3d37646f294164085eaf4fc5a",
      "value": " 40/? [11:50&lt;00:00, 17.97s/it]"
     }
    },
    "3778a6037f254cf8ac06d88dfc831021": {
     "model_module": "@jupyter-widgets/controls",
     "model_module_version": "1.5.0",
     "model_name": "HTMLModel",
     "state": {
      "_dom_classes": [],
      "_model_module": "@jupyter-widgets/controls",
      "_model_module_version": "1.5.0",
      "_model_name": "HTMLModel",
      "_view_count": null,
      "_view_module": "@jupyter-widgets/controls",
      "_view_module_version": "1.5.0",
      "_view_name": "HTMLView",
      "description": "",
      "description_tooltip": null,
      "layout": "IPY_MODEL_9f1413276ab8422f871dbbf5419dd4aa",
      "placeholder": "​",
      "style": "IPY_MODEL_a58d555a76c24b5f95201ea68901f51b",
      "value": ""
     }
    },
    "37c8c381a9d54e54957b89c0e02aada4": {
     "model_module": "@jupyter-widgets/controls",
     "model_module_version": "1.5.0",
     "model_name": "HTMLModel",
     "state": {
      "_dom_classes": [],
      "_model_module": "@jupyter-widgets/controls",
      "_model_module_version": "1.5.0",
      "_model_name": "HTMLModel",
      "_view_count": null,
      "_view_module": "@jupyter-widgets/controls",
      "_view_module_version": "1.5.0",
      "_view_name": "HTMLView",
      "description": "",
      "description_tooltip": null,
      "layout": "IPY_MODEL_9d70782783ab4b66923e364690e19f2f",
      "placeholder": "​",
      "style": "IPY_MODEL_8bdc51e6e9874ae6b480535862a8fa6d",
      "value": " 40/? [11:56&lt;00:00, 18.73s/it]"
     }
    },
    "476d251eaefa492b9ec4e8532a565719": {
     "model_module": "@jupyter-widgets/controls",
     "model_module_version": "1.5.0",
     "model_name": "HBoxModel",
     "state": {
      "_dom_classes": [],
      "_model_module": "@jupyter-widgets/controls",
      "_model_module_version": "1.5.0",
      "_model_name": "HBoxModel",
      "_view_count": null,
      "_view_module": "@jupyter-widgets/controls",
      "_view_module_version": "1.5.0",
      "_view_name": "HBoxView",
      "box_style": "",
      "children": [
       "IPY_MODEL_3778a6037f254cf8ac06d88dfc831021",
       "IPY_MODEL_d61def453e0248238f87a6743ac9017d",
       "IPY_MODEL_355a084db19949538e89253286e379f7"
      ],
      "layout": "IPY_MODEL_56ed246ce3b64952a35237de0d014be9"
     }
    },
    "56ed246ce3b64952a35237de0d014be9": {
     "model_module": "@jupyter-widgets/base",
     "model_module_version": "1.2.0",
     "model_name": "LayoutModel",
     "state": {
      "_model_module": "@jupyter-widgets/base",
      "_model_module_version": "1.2.0",
      "_model_name": "LayoutModel",
      "_view_count": null,
      "_view_module": "@jupyter-widgets/base",
      "_view_module_version": "1.2.0",
      "_view_name": "LayoutView",
      "align_content": null,
      "align_items": null,
      "align_self": null,
      "border": null,
      "bottom": null,
      "display": null,
      "flex": null,
      "flex_flow": null,
      "grid_area": null,
      "grid_auto_columns": null,
      "grid_auto_flow": null,
      "grid_auto_rows": null,
      "grid_column": null,
      "grid_gap": null,
      "grid_row": null,
      "grid_template_areas": null,
      "grid_template_columns": null,
      "grid_template_rows": null,
      "height": null,
      "justify_content": null,
      "justify_items": null,
      "left": null,
      "margin": null,
      "max_height": null,
      "max_width": null,
      "min_height": null,
      "min_width": null,
      "object_fit": null,
      "object_position": null,
      "order": null,
      "overflow": null,
      "overflow_x": null,
      "overflow_y": null,
      "padding": null,
      "right": null,
      "top": null,
      "visibility": null,
      "width": null
     }
    },
    "6c053fb180f04b348adab6aa8471b58a": {
     "model_module": "@jupyter-widgets/controls",
     "model_module_version": "1.5.0",
     "model_name": "HBoxModel",
     "state": {
      "_dom_classes": [],
      "_model_module": "@jupyter-widgets/controls",
      "_model_module_version": "1.5.0",
      "_model_name": "HBoxModel",
      "_view_count": null,
      "_view_module": "@jupyter-widgets/controls",
      "_view_module_version": "1.5.0",
      "_view_name": "HBoxView",
      "box_style": "",
      "children": [
       "IPY_MODEL_d3c00a65f81b49d092ae991ba2bd22c4",
       "IPY_MODEL_f51f96c91287478d832875b83a86d124",
       "IPY_MODEL_37c8c381a9d54e54957b89c0e02aada4"
      ],
      "layout": "IPY_MODEL_8fa3feb9013448b088a8003534ec6691"
     }
    },
    "6ed86a9ca4a540c09170859fa97ee133": {
     "model_module": "@jupyter-widgets/controls",
     "model_module_version": "1.5.0",
     "model_name": "ProgressStyleModel",
     "state": {
      "_model_module": "@jupyter-widgets/controls",
      "_model_module_version": "1.5.0",
      "_model_name": "ProgressStyleModel",
      "_view_count": null,
      "_view_module": "@jupyter-widgets/base",
      "_view_module_version": "1.2.0",
      "_view_name": "StyleView",
      "bar_color": null,
      "description_width": ""
     }
    },
    "7ad92d2940144bd2a7908e013da47c01": {
     "model_module": "@jupyter-widgets/base",
     "model_module_version": "1.2.0",
     "model_name": "LayoutModel",
     "state": {
      "_model_module": "@jupyter-widgets/base",
      "_model_module_version": "1.2.0",
      "_model_name": "LayoutModel",
      "_view_count": null,
      "_view_module": "@jupyter-widgets/base",
      "_view_module_version": "1.2.0",
      "_view_name": "LayoutView",
      "align_content": null,
      "align_items": null,
      "align_self": null,
      "border": null,
      "bottom": null,
      "display": null,
      "flex": null,
      "flex_flow": null,
      "grid_area": null,
      "grid_auto_columns": null,
      "grid_auto_flow": null,
      "grid_auto_rows": null,
      "grid_column": null,
      "grid_gap": null,
      "grid_row": null,
      "grid_template_areas": null,
      "grid_template_columns": null,
      "grid_template_rows": null,
      "height": null,
      "justify_content": null,
      "justify_items": null,
      "left": null,
      "margin": null,
      "max_height": null,
      "max_width": null,
      "min_height": null,
      "min_width": null,
      "object_fit": null,
      "object_position": null,
      "order": null,
      "overflow": null,
      "overflow_x": null,
      "overflow_y": null,
      "padding": null,
      "right": null,
      "top": null,
      "visibility": null,
      "width": "20px"
     }
    },
    "7f14bd3d15184ef8870a24a15a66f902": {
     "model_module": "@jupyter-widgets/base",
     "model_module_version": "1.2.0",
     "model_name": "LayoutModel",
     "state": {
      "_model_module": "@jupyter-widgets/base",
      "_model_module_version": "1.2.0",
      "_model_name": "LayoutModel",
      "_view_count": null,
      "_view_module": "@jupyter-widgets/base",
      "_view_module_version": "1.2.0",
      "_view_name": "LayoutView",
      "align_content": null,
      "align_items": null,
      "align_self": null,
      "border": null,
      "bottom": null,
      "display": null,
      "flex": null,
      "flex_flow": null,
      "grid_area": null,
      "grid_auto_columns": null,
      "grid_auto_flow": null,
      "grid_auto_rows": null,
      "grid_column": null,
      "grid_gap": null,
      "grid_row": null,
      "grid_template_areas": null,
      "grid_template_columns": null,
      "grid_template_rows": null,
      "height": null,
      "justify_content": null,
      "justify_items": null,
      "left": null,
      "margin": null,
      "max_height": null,
      "max_width": null,
      "min_height": null,
      "min_width": null,
      "object_fit": null,
      "object_position": null,
      "order": null,
      "overflow": null,
      "overflow_x": null,
      "overflow_y": null,
      "padding": null,
      "right": null,
      "top": null,
      "visibility": null,
      "width": null
     }
    },
    "8bdc51e6e9874ae6b480535862a8fa6d": {
     "model_module": "@jupyter-widgets/controls",
     "model_module_version": "1.5.0",
     "model_name": "DescriptionStyleModel",
     "state": {
      "_model_module": "@jupyter-widgets/controls",
      "_model_module_version": "1.5.0",
      "_model_name": "DescriptionStyleModel",
      "_view_count": null,
      "_view_module": "@jupyter-widgets/base",
      "_view_module_version": "1.2.0",
      "_view_name": "StyleView",
      "description_width": ""
     }
    },
    "8fa3feb9013448b088a8003534ec6691": {
     "model_module": "@jupyter-widgets/base",
     "model_module_version": "1.2.0",
     "model_name": "LayoutModel",
     "state": {
      "_model_module": "@jupyter-widgets/base",
      "_model_module_version": "1.2.0",
      "_model_name": "LayoutModel",
      "_view_count": null,
      "_view_module": "@jupyter-widgets/base",
      "_view_module_version": "1.2.0",
      "_view_name": "LayoutView",
      "align_content": null,
      "align_items": null,
      "align_self": null,
      "border": null,
      "bottom": null,
      "display": null,
      "flex": null,
      "flex_flow": null,
      "grid_area": null,
      "grid_auto_columns": null,
      "grid_auto_flow": null,
      "grid_auto_rows": null,
      "grid_column": null,
      "grid_gap": null,
      "grid_row": null,
      "grid_template_areas": null,
      "grid_template_columns": null,
      "grid_template_rows": null,
      "height": null,
      "justify_content": null,
      "justify_items": null,
      "left": null,
      "margin": null,
      "max_height": null,
      "max_width": null,
      "min_height": null,
      "min_width": null,
      "object_fit": null,
      "object_position": null,
      "order": null,
      "overflow": null,
      "overflow_x": null,
      "overflow_y": null,
      "padding": null,
      "right": null,
      "top": null,
      "visibility": null,
      "width": null
     }
    },
    "9d70782783ab4b66923e364690e19f2f": {
     "model_module": "@jupyter-widgets/base",
     "model_module_version": "1.2.0",
     "model_name": "LayoutModel",
     "state": {
      "_model_module": "@jupyter-widgets/base",
      "_model_module_version": "1.2.0",
      "_model_name": "LayoutModel",
      "_view_count": null,
      "_view_module": "@jupyter-widgets/base",
      "_view_module_version": "1.2.0",
      "_view_name": "LayoutView",
      "align_content": null,
      "align_items": null,
      "align_self": null,
      "border": null,
      "bottom": null,
      "display": null,
      "flex": null,
      "flex_flow": null,
      "grid_area": null,
      "grid_auto_columns": null,
      "grid_auto_flow": null,
      "grid_auto_rows": null,
      "grid_column": null,
      "grid_gap": null,
      "grid_row": null,
      "grid_template_areas": null,
      "grid_template_columns": null,
      "grid_template_rows": null,
      "height": null,
      "justify_content": null,
      "justify_items": null,
      "left": null,
      "margin": null,
      "max_height": null,
      "max_width": null,
      "min_height": null,
      "min_width": null,
      "object_fit": null,
      "object_position": null,
      "order": null,
      "overflow": null,
      "overflow_x": null,
      "overflow_y": null,
      "padding": null,
      "right": null,
      "top": null,
      "visibility": null,
      "width": null
     }
    },
    "9f1413276ab8422f871dbbf5419dd4aa": {
     "model_module": "@jupyter-widgets/base",
     "model_module_version": "1.2.0",
     "model_name": "LayoutModel",
     "state": {
      "_model_module": "@jupyter-widgets/base",
      "_model_module_version": "1.2.0",
      "_model_name": "LayoutModel",
      "_view_count": null,
      "_view_module": "@jupyter-widgets/base",
      "_view_module_version": "1.2.0",
      "_view_name": "LayoutView",
      "align_content": null,
      "align_items": null,
      "align_self": null,
      "border": null,
      "bottom": null,
      "display": null,
      "flex": null,
      "flex_flow": null,
      "grid_area": null,
      "grid_auto_columns": null,
      "grid_auto_flow": null,
      "grid_auto_rows": null,
      "grid_column": null,
      "grid_gap": null,
      "grid_row": null,
      "grid_template_areas": null,
      "grid_template_columns": null,
      "grid_template_rows": null,
      "height": null,
      "justify_content": null,
      "justify_items": null,
      "left": null,
      "margin": null,
      "max_height": null,
      "max_width": null,
      "min_height": null,
      "min_width": null,
      "object_fit": null,
      "object_position": null,
      "order": null,
      "overflow": null,
      "overflow_x": null,
      "overflow_y": null,
      "padding": null,
      "right": null,
      "top": null,
      "visibility": null,
      "width": null
     }
    },
    "a58d555a76c24b5f95201ea68901f51b": {
     "model_module": "@jupyter-widgets/controls",
     "model_module_version": "1.5.0",
     "model_name": "DescriptionStyleModel",
     "state": {
      "_model_module": "@jupyter-widgets/controls",
      "_model_module_version": "1.5.0",
      "_model_name": "DescriptionStyleModel",
      "_view_count": null,
      "_view_module": "@jupyter-widgets/base",
      "_view_module_version": "1.2.0",
      "_view_name": "StyleView",
      "description_width": ""
     }
    },
    "c10b096ef04841afb6ab19b6c6e74e6c": {
     "model_module": "@jupyter-widgets/base",
     "model_module_version": "1.2.0",
     "model_name": "LayoutModel",
     "state": {
      "_model_module": "@jupyter-widgets/base",
      "_model_module_version": "1.2.0",
      "_model_name": "LayoutModel",
      "_view_count": null,
      "_view_module": "@jupyter-widgets/base",
      "_view_module_version": "1.2.0",
      "_view_name": "LayoutView",
      "align_content": null,
      "align_items": null,
      "align_self": null,
      "border": null,
      "bottom": null,
      "display": null,
      "flex": null,
      "flex_flow": null,
      "grid_area": null,
      "grid_auto_columns": null,
      "grid_auto_flow": null,
      "grid_auto_rows": null,
      "grid_column": null,
      "grid_gap": null,
      "grid_row": null,
      "grid_template_areas": null,
      "grid_template_columns": null,
      "grid_template_rows": null,
      "height": null,
      "justify_content": null,
      "justify_items": null,
      "left": null,
      "margin": null,
      "max_height": null,
      "max_width": null,
      "min_height": null,
      "min_width": null,
      "object_fit": null,
      "object_position": null,
      "order": null,
      "overflow": null,
      "overflow_x": null,
      "overflow_y": null,
      "padding": null,
      "right": null,
      "top": null,
      "visibility": null,
      "width": null
     }
    },
    "d20aa6da5a6a42f9bccf4a69a7606662": {
     "model_module": "@jupyter-widgets/controls",
     "model_module_version": "1.5.0",
     "model_name": "ProgressStyleModel",
     "state": {
      "_model_module": "@jupyter-widgets/controls",
      "_model_module_version": "1.5.0",
      "_model_name": "ProgressStyleModel",
      "_view_count": null,
      "_view_module": "@jupyter-widgets/base",
      "_view_module_version": "1.2.0",
      "_view_name": "StyleView",
      "bar_color": null,
      "description_width": ""
     }
    },
    "d3c00a65f81b49d092ae991ba2bd22c4": {
     "model_module": "@jupyter-widgets/controls",
     "model_module_version": "1.5.0",
     "model_name": "HTMLModel",
     "state": {
      "_dom_classes": [],
      "_model_module": "@jupyter-widgets/controls",
      "_model_module_version": "1.5.0",
      "_model_name": "HTMLModel",
      "_view_count": null,
      "_view_module": "@jupyter-widgets/controls",
      "_view_module_version": "1.5.0",
      "_view_name": "HTMLView",
      "description": "",
      "description_tooltip": null,
      "layout": "IPY_MODEL_7f14bd3d15184ef8870a24a15a66f902",
      "placeholder": "​",
      "style": "IPY_MODEL_de047d063fe749a4809b7e3aef8f4df2",
      "value": ""
     }
    },
    "d61def453e0248238f87a6743ac9017d": {
     "model_module": "@jupyter-widgets/controls",
     "model_module_version": "1.5.0",
     "model_name": "FloatProgressModel",
     "state": {
      "_dom_classes": [],
      "_model_module": "@jupyter-widgets/controls",
      "_model_module_version": "1.5.0",
      "_model_name": "FloatProgressModel",
      "_view_count": null,
      "_view_module": "@jupyter-widgets/controls",
      "_view_module_version": "1.5.0",
      "_view_name": "ProgressView",
      "bar_style": "success",
      "description": "",
      "description_tooltip": null,
      "layout": "IPY_MODEL_1f9100f0a2f64672b44851cc3141b26b",
      "max": 1,
      "min": 0,
      "orientation": "horizontal",
      "style": "IPY_MODEL_6ed86a9ca4a540c09170859fa97ee133",
      "value": 1
     }
    },
    "de047d063fe749a4809b7e3aef8f4df2": {
     "model_module": "@jupyter-widgets/controls",
     "model_module_version": "1.5.0",
     "model_name": "DescriptionStyleModel",
     "state": {
      "_model_module": "@jupyter-widgets/controls",
      "_model_module_version": "1.5.0",
      "_model_name": "DescriptionStyleModel",
      "_view_count": null,
      "_view_module": "@jupyter-widgets/base",
      "_view_module_version": "1.2.0",
      "_view_name": "StyleView",
      "description_width": ""
     }
    },
    "f51f96c91287478d832875b83a86d124": {
     "model_module": "@jupyter-widgets/controls",
     "model_module_version": "1.5.0",
     "model_name": "FloatProgressModel",
     "state": {
      "_dom_classes": [],
      "_model_module": "@jupyter-widgets/controls",
      "_model_module_version": "1.5.0",
      "_model_name": "FloatProgressModel",
      "_view_count": null,
      "_view_module": "@jupyter-widgets/controls",
      "_view_module_version": "1.5.0",
      "_view_name": "ProgressView",
      "bar_style": "success",
      "description": "",
      "description_tooltip": null,
      "layout": "IPY_MODEL_7ad92d2940144bd2a7908e013da47c01",
      "max": 1,
      "min": 0,
      "orientation": "horizontal",
      "style": "IPY_MODEL_d20aa6da5a6a42f9bccf4a69a7606662",
      "value": 1
     }
    }
   }
  }
 },
 "nbformat": 4,
 "nbformat_minor": 5
}
