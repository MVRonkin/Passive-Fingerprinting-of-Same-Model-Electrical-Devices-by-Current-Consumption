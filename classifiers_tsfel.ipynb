{
 "cells": [
  {
   "cell_type": "code",
   "execution_count": 1,
   "id": "ab0026a5",
   "metadata": {},
   "outputs": [],
   "source": [
    "import matplotlib.pyplot as plt\n",
    "%matplotlib inline\n",
    "plt.style.use('seaborn-whitegrid')\n",
    "plt.rcParams.update({'font.size': 32})\n",
    "plt.rcParams[\"figure.figsize\"] = (12,8)\n",
    "import torch\n",
    "import numpy as np\n",
    "import scipy.signal\n",
    "import scipy.io\n",
    "import pandas as pd\n",
    "import itertools\n",
    "from itertools import product\n",
    "import os\n"
   ]
  },
  {
   "cell_type": "code",
   "execution_count": 2,
   "id": "f7226630",
   "metadata": {},
   "outputs": [],
   "source": [
    "from sklearn.model_selection import train_test_split\n",
    "from sklearn.metrics import mean_squared_error as MSE \n",
    "from sklearn.preprocessing import LabelEncoder, MinMaxScaler\n",
    "from sklearn.neighbors import KNeighborsClassifier\n",
    "from sklearn.svm import SVC\n",
    "from sklearn.ensemble import RandomForestClassifier, AdaBoostClassifier\n",
    "from sklearn.naive_bayes import GaussianNB\n",
    "from sklearn.discriminant_analysis import LinearDiscriminantAnalysis\n",
    "from sklearn.linear_model import RidgeClassifierCV, LogisticRegression, LogisticRegressionCV\n",
    "from sklearn.metrics import roc_curve, roc_auc_score, mean_squared_error as MSE, log_loss,r2_score\n",
    "import seaborn as sns\n",
    "import xgboost as xgb"
   ]
  },
  {
   "cell_type": "markdown",
   "id": "b97e1b48",
   "metadata": {},
   "source": [
    "## DATASET"
   ]
  },
  {
   "cell_type": "code",
   "execution_count": 35,
   "id": "dbd19c11",
   "metadata": {},
   "outputs": [
    {
     "data": {
      "text/plain": [
       "['102.csv',\n",
       " '103.csv',\n",
       " 'EWT_features_test.json',\n",
       " 'EWT_features_test_x.json',\n",
       " 'EWT_features_train.json',\n",
       " 'EWT_features_train_x.json',\n",
       " 'kernels (1).json',\n",
       " 'minirocket2000_Best_test.csv',\n",
       " 'minirocket2000_Best_train.csv',\n",
       " 'minirocket2000_test.csv',\n",
       " 'minirocket2000_train.csv',\n",
       " 'minirocket2500_test.csv',\n",
       " 'minirocket2500_train.csv',\n",
       " 'tsfel_test.csv',\n",
       " 'tsfel_train.csv']"
      ]
     },
     "execution_count": 35,
     "metadata": {},
     "output_type": "execute_result"
    }
   ],
   "source": [
    "storage_patrh = os.path.join(os.getcwd(),'feature_storage')\n",
    "listfiles = os.listdir(storage_patrh)\n",
    "list_featurestorage = [fname for fname in listfiles if fname.endswith(('csv','json')) ]\n",
    "list_featurestorage"
   ]
  },
  {
   "cell_type": "code",
   "execution_count": 36,
   "id": "fedca0b1",
   "metadata": {},
   "outputs": [],
   "source": [
    "train_features_path = os.path.join(storage_patrh, 'tsfel_train.csv')\n",
    "test_features_path  = os.path.join(storage_patrh, 'tsfel_test.csv')"
   ]
  },
  {
   "cell_type": "code",
   "execution_count": 37,
   "id": "808ef6a8",
   "metadata": {},
   "outputs": [],
   "source": [
    "df_train = pd.read_csv(train_features_path)\n",
    "df_test  = pd.read_csv(test_features_path )"
   ]
  },
  {
   "cell_type": "code",
   "execution_count": 38,
   "id": "8eead193",
   "metadata": {},
   "outputs": [
    {
     "data": {
      "text/html": [
       "<div>\n",
       "<style scoped>\n",
       "    .dataframe tbody tr th:only-of-type {\n",
       "        vertical-align: middle;\n",
       "    }\n",
       "\n",
       "    .dataframe tbody tr th {\n",
       "        vertical-align: top;\n",
       "    }\n",
       "\n",
       "    .dataframe thead th {\n",
       "        text-align: right;\n",
       "    }\n",
       "</style>\n",
       "<table border=\"1\" class=\"dataframe\">\n",
       "  <thead>\n",
       "    <tr style=\"text-align: right;\">\n",
       "      <th></th>\n",
       "      <th>0_Absolute energy</th>\n",
       "      <th>0_Area under the curve</th>\n",
       "      <th>0_Autocorrelation</th>\n",
       "      <th>0_Centroid</th>\n",
       "      <th>0_ECDF Percentile Count_0</th>\n",
       "      <th>0_ECDF Percentile Count_1</th>\n",
       "      <th>0_ECDF Percentile_0</th>\n",
       "      <th>0_ECDF Percentile_1</th>\n",
       "      <th>0_ECDF_0</th>\n",
       "      <th>0_ECDF_1</th>\n",
       "      <th>...</th>\n",
       "      <th>0_Wavelet variance_0</th>\n",
       "      <th>0_Wavelet variance_1</th>\n",
       "      <th>0_Wavelet variance_2</th>\n",
       "      <th>0_Wavelet variance_3</th>\n",
       "      <th>0_Wavelet variance_4</th>\n",
       "      <th>0_Wavelet variance_5</th>\n",
       "      <th>0_Wavelet variance_6</th>\n",
       "      <th>0_Wavelet variance_7</th>\n",
       "      <th>0_Wavelet variance_8</th>\n",
       "      <th>0_Zero crossing rate</th>\n",
       "    </tr>\n",
       "  </thead>\n",
       "  <tbody>\n",
       "    <tr>\n",
       "      <th>0</th>\n",
       "      <td>130.428717</td>\n",
       "      <td>0.011374</td>\n",
       "      <td>130.428717</td>\n",
       "      <td>0.100260</td>\n",
       "      <td>2000.0</td>\n",
       "      <td>8000.0</td>\n",
       "      <td>-0.020466</td>\n",
       "      <td>0.019981</td>\n",
       "      <td>0.0001</td>\n",
       "      <td>0.0002</td>\n",
       "      <td>...</td>\n",
       "      <td>0.000007</td>\n",
       "      <td>0.000045</td>\n",
       "      <td>0.000191</td>\n",
       "      <td>0.000544</td>\n",
       "      <td>0.001224</td>\n",
       "      <td>0.002379</td>\n",
       "      <td>0.004181</td>\n",
       "      <td>0.006796</td>\n",
       "      <td>0.010373</td>\n",
       "      <td>114.0</td>\n",
       "    </tr>\n",
       "    <tr>\n",
       "      <th>1</th>\n",
       "      <td>128.656804</td>\n",
       "      <td>0.011370</td>\n",
       "      <td>128.656804</td>\n",
       "      <td>0.099267</td>\n",
       "      <td>2000.0</td>\n",
       "      <td>8000.0</td>\n",
       "      <td>-0.020371</td>\n",
       "      <td>0.019940</td>\n",
       "      <td>0.0001</td>\n",
       "      <td>0.0002</td>\n",
       "      <td>...</td>\n",
       "      <td>0.000007</td>\n",
       "      <td>0.000042</td>\n",
       "      <td>0.000166</td>\n",
       "      <td>0.000463</td>\n",
       "      <td>0.001043</td>\n",
       "      <td>0.002055</td>\n",
       "      <td>0.003678</td>\n",
       "      <td>0.006086</td>\n",
       "      <td>0.009432</td>\n",
       "      <td>120.0</td>\n",
       "    </tr>\n",
       "    <tr>\n",
       "      <th>2</th>\n",
       "      <td>129.057859</td>\n",
       "      <td>0.011382</td>\n",
       "      <td>129.057859</td>\n",
       "      <td>0.099137</td>\n",
       "      <td>2000.0</td>\n",
       "      <td>8000.0</td>\n",
       "      <td>-0.020435</td>\n",
       "      <td>0.019949</td>\n",
       "      <td>0.0001</td>\n",
       "      <td>0.0002</td>\n",
       "      <td>...</td>\n",
       "      <td>0.000007</td>\n",
       "      <td>0.000045</td>\n",
       "      <td>0.000183</td>\n",
       "      <td>0.000509</td>\n",
       "      <td>0.001133</td>\n",
       "      <td>0.002200</td>\n",
       "      <td>0.003882</td>\n",
       "      <td>0.006344</td>\n",
       "      <td>0.009737</td>\n",
       "      <td>122.0</td>\n",
       "    </tr>\n",
       "    <tr>\n",
       "      <th>3</th>\n",
       "      <td>127.510723</td>\n",
       "      <td>0.011380</td>\n",
       "      <td>127.510723</td>\n",
       "      <td>0.099093</td>\n",
       "      <td>2000.0</td>\n",
       "      <td>8000.0</td>\n",
       "      <td>-0.020382</td>\n",
       "      <td>0.019990</td>\n",
       "      <td>0.0001</td>\n",
       "      <td>0.0002</td>\n",
       "      <td>...</td>\n",
       "      <td>0.000007</td>\n",
       "      <td>0.000049</td>\n",
       "      <td>0.000199</td>\n",
       "      <td>0.000547</td>\n",
       "      <td>0.001192</td>\n",
       "      <td>0.002255</td>\n",
       "      <td>0.003883</td>\n",
       "      <td>0.006226</td>\n",
       "      <td>0.009428</td>\n",
       "      <td>120.0</td>\n",
       "    </tr>\n",
       "    <tr>\n",
       "      <th>4</th>\n",
       "      <td>127.266456</td>\n",
       "      <td>0.011373</td>\n",
       "      <td>127.266456</td>\n",
       "      <td>0.099454</td>\n",
       "      <td>2000.0</td>\n",
       "      <td>8000.0</td>\n",
       "      <td>-0.020464</td>\n",
       "      <td>0.020051</td>\n",
       "      <td>0.0001</td>\n",
       "      <td>0.0002</td>\n",
       "      <td>...</td>\n",
       "      <td>0.000007</td>\n",
       "      <td>0.000046</td>\n",
       "      <td>0.000187</td>\n",
       "      <td>0.000507</td>\n",
       "      <td>0.001095</td>\n",
       "      <td>0.002072</td>\n",
       "      <td>0.003596</td>\n",
       "      <td>0.005837</td>\n",
       "      <td>0.008953</td>\n",
       "      <td>118.0</td>\n",
       "    </tr>\n",
       "    <tr>\n",
       "      <th>...</th>\n",
       "      <td>...</td>\n",
       "      <td>...</td>\n",
       "      <td>...</td>\n",
       "      <td>...</td>\n",
       "      <td>...</td>\n",
       "      <td>...</td>\n",
       "      <td>...</td>\n",
       "      <td>...</td>\n",
       "      <td>...</td>\n",
       "      <td>...</td>\n",
       "      <td>...</td>\n",
       "      <td>...</td>\n",
       "      <td>...</td>\n",
       "      <td>...</td>\n",
       "      <td>...</td>\n",
       "      <td>...</td>\n",
       "      <td>...</td>\n",
       "      <td>...</td>\n",
       "      <td>...</td>\n",
       "      <td>...</td>\n",
       "      <td>...</td>\n",
       "    </tr>\n",
       "    <tr>\n",
       "      <th>49995</th>\n",
       "      <td>85.247824</td>\n",
       "      <td>0.010444</td>\n",
       "      <td>85.247824</td>\n",
       "      <td>0.095801</td>\n",
       "      <td>2000.0</td>\n",
       "      <td>8000.0</td>\n",
       "      <td>-0.029375</td>\n",
       "      <td>0.028958</td>\n",
       "      <td>0.0001</td>\n",
       "      <td>0.0002</td>\n",
       "      <td>...</td>\n",
       "      <td>0.000042</td>\n",
       "      <td>0.000164</td>\n",
       "      <td>0.000387</td>\n",
       "      <td>0.000766</td>\n",
       "      <td>0.001359</td>\n",
       "      <td>0.002250</td>\n",
       "      <td>0.003583</td>\n",
       "      <td>0.005502</td>\n",
       "      <td>0.008120</td>\n",
       "      <td>256.0</td>\n",
       "    </tr>\n",
       "    <tr>\n",
       "      <th>49996</th>\n",
       "      <td>86.371070</td>\n",
       "      <td>0.010473</td>\n",
       "      <td>86.371070</td>\n",
       "      <td>0.096025</td>\n",
       "      <td>2000.0</td>\n",
       "      <td>8000.0</td>\n",
       "      <td>-0.029400</td>\n",
       "      <td>0.028967</td>\n",
       "      <td>0.0001</td>\n",
       "      <td>0.0002</td>\n",
       "      <td>...</td>\n",
       "      <td>0.000037</td>\n",
       "      <td>0.000138</td>\n",
       "      <td>0.000361</td>\n",
       "      <td>0.000745</td>\n",
       "      <td>0.001324</td>\n",
       "      <td>0.002198</td>\n",
       "      <td>0.003521</td>\n",
       "      <td>0.005450</td>\n",
       "      <td>0.008106</td>\n",
       "      <td>262.0</td>\n",
       "    </tr>\n",
       "    <tr>\n",
       "      <th>49997</th>\n",
       "      <td>85.957118</td>\n",
       "      <td>0.010456</td>\n",
       "      <td>85.957118</td>\n",
       "      <td>0.096566</td>\n",
       "      <td>2000.0</td>\n",
       "      <td>8000.0</td>\n",
       "      <td>-0.029372</td>\n",
       "      <td>0.028960</td>\n",
       "      <td>0.0001</td>\n",
       "      <td>0.0002</td>\n",
       "      <td>...</td>\n",
       "      <td>0.000044</td>\n",
       "      <td>0.000161</td>\n",
       "      <td>0.000379</td>\n",
       "      <td>0.000788</td>\n",
       "      <td>0.001448</td>\n",
       "      <td>0.002436</td>\n",
       "      <td>0.003880</td>\n",
       "      <td>0.005918</td>\n",
       "      <td>0.008668</td>\n",
       "      <td>296.0</td>\n",
       "    </tr>\n",
       "    <tr>\n",
       "      <th>49998</th>\n",
       "      <td>86.208173</td>\n",
       "      <td>0.010457</td>\n",
       "      <td>86.208173</td>\n",
       "      <td>0.097657</td>\n",
       "      <td>2000.0</td>\n",
       "      <td>8000.0</td>\n",
       "      <td>-0.029511</td>\n",
       "      <td>0.029065</td>\n",
       "      <td>0.0001</td>\n",
       "      <td>0.0002</td>\n",
       "      <td>...</td>\n",
       "      <td>0.000051</td>\n",
       "      <td>0.000186</td>\n",
       "      <td>0.000443</td>\n",
       "      <td>0.000888</td>\n",
       "      <td>0.001576</td>\n",
       "      <td>0.002579</td>\n",
       "      <td>0.004013</td>\n",
       "      <td>0.006013</td>\n",
       "      <td>0.008709</td>\n",
       "      <td>286.0</td>\n",
       "    </tr>\n",
       "    <tr>\n",
       "      <th>49999</th>\n",
       "      <td>87.754292</td>\n",
       "      <td>0.010507</td>\n",
       "      <td>87.754292</td>\n",
       "      <td>0.097580</td>\n",
       "      <td>2000.0</td>\n",
       "      <td>8000.0</td>\n",
       "      <td>-0.029446</td>\n",
       "      <td>0.028890</td>\n",
       "      <td>0.0001</td>\n",
       "      <td>0.0002</td>\n",
       "      <td>...</td>\n",
       "      <td>0.000046</td>\n",
       "      <td>0.000178</td>\n",
       "      <td>0.000425</td>\n",
       "      <td>0.000848</td>\n",
       "      <td>0.001530</td>\n",
       "      <td>0.002589</td>\n",
       "      <td>0.004168</td>\n",
       "      <td>0.006395</td>\n",
       "      <td>0.009373</td>\n",
       "      <td>274.0</td>\n",
       "    </tr>\n",
       "  </tbody>\n",
       "</table>\n",
       "<p>50000 rows × 390 columns</p>\n",
       "</div>"
      ],
      "text/plain": [
       "       0_Absolute energy  0_Area under the curve  0_Autocorrelation  \\\n",
       "0             130.428717                0.011374         130.428717   \n",
       "1             128.656804                0.011370         128.656804   \n",
       "2             129.057859                0.011382         129.057859   \n",
       "3             127.510723                0.011380         127.510723   \n",
       "4             127.266456                0.011373         127.266456   \n",
       "...                  ...                     ...                ...   \n",
       "49995          85.247824                0.010444          85.247824   \n",
       "49996          86.371070                0.010473          86.371070   \n",
       "49997          85.957118                0.010456          85.957118   \n",
       "49998          86.208173                0.010457          86.208173   \n",
       "49999          87.754292                0.010507          87.754292   \n",
       "\n",
       "       0_Centroid  0_ECDF Percentile Count_0  0_ECDF Percentile Count_1  \\\n",
       "0        0.100260                     2000.0                     8000.0   \n",
       "1        0.099267                     2000.0                     8000.0   \n",
       "2        0.099137                     2000.0                     8000.0   \n",
       "3        0.099093                     2000.0                     8000.0   \n",
       "4        0.099454                     2000.0                     8000.0   \n",
       "...           ...                        ...                        ...   \n",
       "49995    0.095801                     2000.0                     8000.0   \n",
       "49996    0.096025                     2000.0                     8000.0   \n",
       "49997    0.096566                     2000.0                     8000.0   \n",
       "49998    0.097657                     2000.0                     8000.0   \n",
       "49999    0.097580                     2000.0                     8000.0   \n",
       "\n",
       "       0_ECDF Percentile_0  0_ECDF Percentile_1  0_ECDF_0  0_ECDF_1  ...  \\\n",
       "0                -0.020466             0.019981    0.0001    0.0002  ...   \n",
       "1                -0.020371             0.019940    0.0001    0.0002  ...   \n",
       "2                -0.020435             0.019949    0.0001    0.0002  ...   \n",
       "3                -0.020382             0.019990    0.0001    0.0002  ...   \n",
       "4                -0.020464             0.020051    0.0001    0.0002  ...   \n",
       "...                    ...                  ...       ...       ...  ...   \n",
       "49995            -0.029375             0.028958    0.0001    0.0002  ...   \n",
       "49996            -0.029400             0.028967    0.0001    0.0002  ...   \n",
       "49997            -0.029372             0.028960    0.0001    0.0002  ...   \n",
       "49998            -0.029511             0.029065    0.0001    0.0002  ...   \n",
       "49999            -0.029446             0.028890    0.0001    0.0002  ...   \n",
       "\n",
       "       0_Wavelet variance_0  0_Wavelet variance_1  0_Wavelet variance_2  \\\n",
       "0                  0.000007              0.000045              0.000191   \n",
       "1                  0.000007              0.000042              0.000166   \n",
       "2                  0.000007              0.000045              0.000183   \n",
       "3                  0.000007              0.000049              0.000199   \n",
       "4                  0.000007              0.000046              0.000187   \n",
       "...                     ...                   ...                   ...   \n",
       "49995              0.000042              0.000164              0.000387   \n",
       "49996              0.000037              0.000138              0.000361   \n",
       "49997              0.000044              0.000161              0.000379   \n",
       "49998              0.000051              0.000186              0.000443   \n",
       "49999              0.000046              0.000178              0.000425   \n",
       "\n",
       "       0_Wavelet variance_3  0_Wavelet variance_4  0_Wavelet variance_5  \\\n",
       "0                  0.000544              0.001224              0.002379   \n",
       "1                  0.000463              0.001043              0.002055   \n",
       "2                  0.000509              0.001133              0.002200   \n",
       "3                  0.000547              0.001192              0.002255   \n",
       "4                  0.000507              0.001095              0.002072   \n",
       "...                     ...                   ...                   ...   \n",
       "49995              0.000766              0.001359              0.002250   \n",
       "49996              0.000745              0.001324              0.002198   \n",
       "49997              0.000788              0.001448              0.002436   \n",
       "49998              0.000888              0.001576              0.002579   \n",
       "49999              0.000848              0.001530              0.002589   \n",
       "\n",
       "       0_Wavelet variance_6  0_Wavelet variance_7  0_Wavelet variance_8  \\\n",
       "0                  0.004181              0.006796              0.010373   \n",
       "1                  0.003678              0.006086              0.009432   \n",
       "2                  0.003882              0.006344              0.009737   \n",
       "3                  0.003883              0.006226              0.009428   \n",
       "4                  0.003596              0.005837              0.008953   \n",
       "...                     ...                   ...                   ...   \n",
       "49995              0.003583              0.005502              0.008120   \n",
       "49996              0.003521              0.005450              0.008106   \n",
       "49997              0.003880              0.005918              0.008668   \n",
       "49998              0.004013              0.006013              0.008709   \n",
       "49999              0.004168              0.006395              0.009373   \n",
       "\n",
       "       0_Zero crossing rate  \n",
       "0                     114.0  \n",
       "1                     120.0  \n",
       "2                     122.0  \n",
       "3                     120.0  \n",
       "4                     118.0  \n",
       "...                     ...  \n",
       "49995                 256.0  \n",
       "49996                 262.0  \n",
       "49997                 296.0  \n",
       "49998                 286.0  \n",
       "49999                 274.0  \n",
       "\n",
       "[50000 rows x 390 columns]"
      ]
     },
     "execution_count": 38,
     "metadata": {},
     "output_type": "execute_result"
    }
   ],
   "source": [
    "df_test"
   ]
  },
  {
   "cell_type": "code",
   "execution_count": 39,
   "id": "7922129f",
   "metadata": {},
   "outputs": [],
   "source": [
    "X_train = df_train.astype('float32').values\n",
    "y_train = np.arange(40).repeat(1250)\n",
    "\n",
    "X_test = df_test.astype('float32').values\n",
    "y_test = np.arange(40).repeat(1250) "
   ]
  },
  {
   "cell_type": "code",
   "execution_count": 40,
   "id": "038d95cd",
   "metadata": {},
   "outputs": [],
   "source": [
    "scaler = MinMaxScaler()\n",
    "X_train = scaler.fit_transform(X_train)\n",
    "X_test  = scaler.transform(X_test)"
   ]
  },
  {
   "cell_type": "markdown",
   "id": "c40059e4",
   "metadata": {},
   "source": [
    "## LDA tol SELECTION"
   ]
  },
  {
   "cell_type": "code",
   "execution_count": 46,
   "id": "7ab7f474",
   "metadata": {
    "scrolled": true
   },
   "outputs": [
    {
     "data": {
      "text/plain": [
       "((15000, 390), (35000, 390), (15000,), (35000,))"
      ]
     },
     "execution_count": 46,
     "metadata": {},
     "output_type": "execute_result"
    }
   ],
   "source": [
    "def balanced_split(X,y,train_ratio = 0.1):\n",
    "    arg_idx = np.argsort(y)\n",
    "    y = np.atleast_2d(y[arg_idx]).T\n",
    "    X = X[arg_idx]\n",
    "    \n",
    "    clss, counts = np.unique(y, return_counts = True)\n",
    "    \n",
    "    n_vals  = (counts*(1-train_ratio)).astype(int)\n",
    "    n_tarin = (counts*train_ratio).astype(int)\n",
    "    \n",
    "    x_val   = np.zeros((np.sum(n_vals),  X.shape[1]))\n",
    "    x_train = np.zeros((np.sum(n_tarin), X.shape[1]))\n",
    "    y_val   = np.zeros((np.sum(n_vals),  y.shape[1]))\n",
    "    y_train = np.zeros((np.sum(n_tarin), y.shape[1]))    \n",
    "\n",
    "    counts_  = np.concatenate([[0], np.cumsum(counts)])\n",
    "    n_vals_  = np.concatenate([[0], np.cumsum(n_vals)])\n",
    "    n_tarin_ = np.concatenate([[0], np.cumsum(n_tarin)])\n",
    "\n",
    "    idxs_train = np.column_stack((counts_[:-1],\n",
    "                                  counts_[1:]-n_vals,\n",
    "                                  n_tarin_[:-1],\n",
    "                                  n_tarin_[1:]))\n",
    "    \n",
    "    idxs_val   = np.column_stack((counts_[:-1]+n_tarin,\n",
    "                                  counts_[1:],\n",
    "                                  n_vals_[:-1],\n",
    "                                  n_vals_[1:]))\n",
    "\n",
    "    for i in range(counts.size):\n",
    "        x_val  [idxs_val  [i,2]:idxs_val  [i,3],:] = X[idxs_val  [i,0]:idxs_val[i,1],:]\n",
    "        x_train[idxs_train[i,2]:idxs_train[i,3],:] = X[idxs_train[i,0]:idxs_train[i,1],:]\n",
    "        y_val  [idxs_val  [i,2]:idxs_val  [i,3],:] = y[idxs_val  [i,0]:idxs_val[i,1],:]\n",
    "        y_train[idxs_train[i,2]:idxs_train[i,3],:] = y[idxs_train[i,0]:idxs_train[i,1],:]        \n",
    "    \n",
    "    return x_train, x_val, y_train.squeeze(), y_val.squeeze()\n",
    "\n",
    "X_train_, X_val_, y_train_, y_val_ = balanced_split(X_train,y_train,train_ratio = 0.3)\n",
    "X_train_.shape, X_val_.shape, y_train_.shape, y_val_.shape\n"
   ]
  },
  {
   "cell_type": "code",
   "execution_count": 43,
   "id": "e0529c41",
   "metadata": {
    "scrolled": false
   },
   "outputs": [
    {
     "name": "stdout",
     "output_type": "stream",
     "text": [
      "tol=0.0000: Accuracy for test: 0.841,Accuracy for train_:0.931, val:0.8975, train:0.90750\n",
      "tol=0.0001: Accuracy for test: 0.915,Accuracy for train_:1.000, val:0.9669, train:0.97676\n",
      "tol=0.0002: Accuracy for test: 0.915,Accuracy for train_:1.000, val:0.9670, train:0.97684\n",
      "tol=0.0003: Accuracy for test: 0.915,Accuracy for train_:1.000, val:0.9667, train:0.97668\n",
      "tol=0.0004: Accuracy for test: 0.915,Accuracy for train_:1.000, val:0.9670, train:0.97688\n",
      "tol=0.0005: Accuracy for test: 0.915,Accuracy for train_:1.000, val:0.9670, train:0.97688\n",
      "tol=0.0006: Accuracy for test: 0.915,Accuracy for train_:1.000, val:0.9670, train:0.97688\n",
      "tol=0.0007: Accuracy for test: 0.915,Accuracy for train_:1.000, val:0.9670, train:0.97688\n",
      "tol=0.0008: Accuracy for test: 0.915,Accuracy for train_:1.000, val:0.9670, train:0.97688\n",
      "tol=0.0009: Accuracy for test: 0.915,Accuracy for train_:1.000, val:0.9670, train:0.97688\n",
      "tol=0.0010: Accuracy for test: 0.915,Accuracy for train_:1.000, val:0.9670, train:0.97688\n",
      "tol=0.0020: Accuracy for test: 0.914,Accuracy for train_:1.000, val:0.9659, train:0.97606\n",
      "tol=0.0030: Accuracy for test: 0.914,Accuracy for train_:1.000, val:0.9660, train:0.97614\n",
      "tol=0.0040: Accuracy for test: 0.915,Accuracy for train_:1.000, val:0.9658, train:0.97604\n",
      "tol=0.0050: Accuracy for test: 0.915,Accuracy for train_:1.000, val:0.9653, train:0.97570\n",
      "tol=0.0060: Accuracy for test: 0.914,Accuracy for train_:1.000, val:0.9655, train:0.97584\n",
      "tol=0.0070: Accuracy for test: 0.914,Accuracy for train_:1.000, val:0.9655, train:0.97584\n",
      "tol=0.0080: Accuracy for test: 0.914,Accuracy for train_:1.000, val:0.9651, train:0.97550\n",
      "tol=0.0090: Accuracy for test: 0.914,Accuracy for train_:1.000, val:0.9643, train:0.97500\n",
      "tol=0.0100: Accuracy for test: 0.915,Accuracy for train_:1.000, val:0.9631, train:0.97410\n",
      "tol=0.0200: Accuracy for test: 0.908,Accuracy for train_:1.000, val:0.9618, train:0.97322\n",
      "tol=0.0300: Accuracy for test: 0.925,Accuracy for train_:1.000, val:0.9593, train:0.97150\n",
      "tol=0.0400: Accuracy for test: 0.942,Accuracy for train_:1.000, val:0.9550, train:0.96848\n",
      "tol=0.0500: Accuracy for test: 0.945,Accuracy for train_:1.000, val:0.9848, train:0.98936\n",
      "tol=0.0600: Accuracy for test: 0.945,Accuracy for train_:1.000, val:0.9849, train:0.98942\n",
      "tol=0.0700: Accuracy for test: 0.944,Accuracy for train_:1.000, val:0.9848, train:0.98930\n",
      "tol=0.0800: Accuracy for test: 0.928,Accuracy for train_:1.000, val:0.9883, train:0.99170\n",
      "tol=0.0900: Accuracy for test: 0.930,Accuracy for train_:1.000, val:0.9922, train:0.99444\n",
      "tol=0.1000: Accuracy for test: 0.930,Accuracy for train_:1.000, val:0.9911, train:0.99364\n",
      "tol=0.1500: Accuracy for test: 0.897,Accuracy for train_:0.999, val:0.9847, train:0.98890\n",
      "tol=0.2000: Accuracy for test: 0.914,Accuracy for train_:0.997, val:0.9863, train:0.98964\n",
      "tol=0.2500: Accuracy for test: 0.910,Accuracy for train_:0.997, val:0.9864, train:0.98952\n",
      "tol=0.3000: Accuracy for test: 0.887,Accuracy for train_:0.996, val:0.9828, train:0.98660\n",
      "tol=0.3500: Accuracy for test: 0.878,Accuracy for train_:0.990, val:0.9770, train:0.98102\n",
      "tol=0.4000: Accuracy for test: 0.902,Accuracy for train_:0.989, val:0.9752, train:0.97924\n",
      "tol=0.4500: Accuracy for test: 0.911,Accuracy for train_:0.990, val:0.9782, train:0.98172\n",
      "tol=0.5000: Accuracy for test: 0.897,Accuracy for train_:0.991, val:0.9822, train:0.98470\n",
      "tol=0.5500: Accuracy for test: 0.873,Accuracy for train_:0.988, val:0.9661, train:0.97274\n",
      "tol=0.6000: Accuracy for test: 0.702,Accuracy for train_:0.833, val:0.8105, train:0.81732\n",
      "tol=0.6500: Accuracy for test: 0.791,Accuracy for train_:0.904, val:0.8922, train:0.89568\n",
      "tol=0.7000: Accuracy for test: 0.754,Accuracy for train_:0.873, val:0.8713, train:0.87196\n",
      "tol=0.7500: Accuracy for test: 0.774,Accuracy for train_:0.903, val:0.8775, train:0.88506\n",
      "tol=0.8000: Accuracy for test: 0.785,Accuracy for train_:0.916, val:0.8947, train:0.90110\n",
      "tol=0.8500: Accuracy for test: 0.760,Accuracy for train_:0.886, val:0.8723, train:0.87626\n",
      "tol=0.9000: Accuracy for test: 0.735,Accuracy for train_:0.889, val:0.8639, train:0.87130\n",
      "tol=0.9500: Accuracy for test: 0.746,Accuracy for train_:0.881, val:0.8696, train:0.87288\n",
      "max_val_score 0.9921714285714286, best tol = 0.09\n"
     ]
    }
   ],
   "source": [
    "tols = np.concatenate([np.arange(0,1e-3,1e-4), np.arange(1e-3,1e-2,1e-3), np.arange(1e-2,1e-1,1e-2), np.arange(1e-1,1e-0,0.5e-1)])\n",
    "val_score = np.zeros(tols.size)\n",
    "train_score = np.zeros(tols.size)\n",
    "train_1_score = np.zeros(tols.size)\n",
    "test_score = np.zeros(tols.size)\n",
    "\n",
    "for i,tol in enumerate(tols):\n",
    "    model = LinearDiscriminantAnalysis(solver='svd',\n",
    "                                       shrinkage=None,\n",
    "                                       priors=None,\n",
    "                                       n_components=None,\n",
    "                                       store_covariance=100,\n",
    "                                       tol=tol,\n",
    "                                       covariance_estimator=None,)\n",
    "    model.fit(X_train_,y_train_)\n",
    "    val_score[i]     = model.score(X_val_,y_val_)\n",
    "    train_score[i]   = model.score(X_train_,y_train_)\n",
    "    train_1_score[i] = model.score(X_train,y_train)\n",
    "    test_score[i]    = model.score(X_test,y_test)\n",
    "    \n",
    "    print(f\"tol={tol:.4f}: Accuracy for test: {test_score[i]:.3f},Accuracy for train_:{train_score[i]:.3f}, val:{val_score[i]:.4f}, train:{train_1_score[i]:.5f}\")\n",
    "    \n",
    "    \n",
    "tol = tols[np.argmax(val_score)]\n",
    "print(f'max_val_score {val_score[np.argmax(val_score)]}, best tol = {tol}')"
   ]
  },
  {
   "cell_type": "code",
   "execution_count": 44,
   "id": "a4d1e3dc",
   "metadata": {},
   "outputs": [
    {
     "name": "stdout",
     "output_type": "stream",
     "text": [
      "max_val_score 0.9921714285714286, best tol = 0.09\n"
     ]
    }
   ],
   "source": [
    "tol = tols[np.argmax(val_score)]\n",
    "print(f'max_val_score {val_score[np.argmax(val_score)]}, best tol = {tol}')"
   ]
  },
  {
   "cell_type": "code",
   "execution_count": 50,
   "id": "04bbf129",
   "metadata": {},
   "outputs": [],
   "source": [
    "knn     = KNeighborsClassifier(n_neighbors=1)\n",
    "randomForest  = RandomForestClassifier(random_state=42,n_estimators=100,max_depth=None,)\n",
    "lda = LinearDiscriminantAnalysis(tol  = tol)\n",
    "nb       = GaussianNB()\n",
    "logreg = LogisticRegression()\n",
    "\n",
    "models =  ((lda,\"Linear Discriminant Analysis\"),\n",
    "           (randomForest,\"Random Forest Classifier\"),\n",
    "           (logreg,\"Logistic Regression\"),\n",
    "           (nb,\"Naive Bayes Classifier\"))"
   ]
  },
  {
   "cell_type": "markdown",
   "id": "4b2d0fef",
   "metadata": {},
   "source": [
    "## FULL MODELS"
   ]
  },
  {
   "cell_type": "code",
   "execution_count": 51,
   "id": "601b831b",
   "metadata": {},
   "outputs": [
    {
     "name": "stdout",
     "output_type": "stream",
     "text": [
      "Linear Discriminant Analysis\n",
      "Accuracy for test: Linear Discriminant Analysis:\t 0.91814,Accuracy for train: 0.99738\n",
      "Random Forest Classifier\n",
      "Accuracy for test: Random Forest Classifier:\t 0.84482,Accuracy for train: 1.0\n",
      "Logistic Regression\n"
     ]
    },
    {
     "name": "stderr",
     "output_type": "stream",
     "text": [
      "c:\\users\\ronkin\\appdata\\local\\programs\\python\\python37\\lib\\site-packages\\sklearn\\linear_model\\_logistic.py:818: ConvergenceWarning: lbfgs failed to converge (status=1):\n",
      "STOP: TOTAL NO. of ITERATIONS REACHED LIMIT.\n",
      "\n",
      "Increase the number of iterations (max_iter) or scale the data as shown in:\n",
      "    https://scikit-learn.org/stable/modules/preprocessing.html\n",
      "Please also refer to the documentation for alternative solver options:\n",
      "    https://scikit-learn.org/stable/modules/linear_model.html#logistic-regression\n",
      "  extra_warning_msg=_LOGISTIC_SOLVER_CONVERGENCE_MSG,\n"
     ]
    },
    {
     "name": "stdout",
     "output_type": "stream",
     "text": [
      "Accuracy for test: Logistic Regression:\t 0.64784,Accuracy for train: 0.98334\n",
      "Naive Bayes Classifier\n",
      "Accuracy for test: Naive Bayes Classifier:\t 0.8377,Accuracy for train: 0.99236\n"
     ]
    }
   ],
   "source": [
    "for model,name in models:\n",
    "    print(name)\n",
    "    model.fit(X_train,y_train)\n",
    "    print(f\"Accuracy for test: {name}:\\t {model.score(X_test,y_test)},Accuracy for train: {model.score(X_train,y_train)}\")"
   ]
  },
  {
   "cell_type": "code",
   "execution_count": 66,
   "id": "5b711ecd",
   "metadata": {},
   "outputs": [
    {
     "name": "stdout",
     "output_type": "stream",
     "text": [
      "Accuracy of Linear Discriminant Analysis:\t 0.91814\n"
     ]
    },
    {
     "data": {
      "image/png": "[encoded data removed]",
      "text/plain": [
       "<Figure size 864x576 with 1 Axes>"
      ]
     },
     "metadata": {},
     "output_type": "display_data"
    }
   ],
   "source": [
    "clf_id = 0\n",
    "predicts = models[clf_id][0].predict(X_test)\n",
    "plt.plot(y_test)\n",
    "plt.plot(predicts)\n",
    "print(f\"Accuracy of {models[clf_id][1]}:\\t {models[clf_id][0].score(X_test,y_test)}\")"
   ]
  },
  {
   "cell_type": "code",
   "execution_count": 69,
   "id": "d54d2e70",
   "metadata": {},
   "outputs": [],
   "source": [
    "df_lda_tsfel = pd.DataFrame(predicts)\n",
    "df_lda_tsfel.to_csv('LDA_TSFEL_FULL.csv')"
   ]
  },
  {
   "cell_type": "code",
   "execution_count": 53,
   "id": "d5058435",
   "metadata": {
    "scrolled": false
   },
   "outputs": [
    {
     "data": {
      "text/plain": [
       "[<matplotlib.lines.Line2D at 0x23e80790ac8>]"
      ]
     },
     "execution_count": 53,
     "metadata": {},
     "output_type": "execute_result"
    },
    {
     "data": {
      "image/png": "[encoded data removed]",
      "text/plain": [
       "<Figure size 864x576 with 1 Axes>"
      ]
     },
     "metadata": {},
     "output_type": "display_data"
    }
   ],
   "source": [
    "predicts = models[0][0].predict(X_train)\n",
    "plt.plot(y_train)\n",
    "plt.plot(predicts)"
   ]
  },
  {
   "cell_type": "markdown",
   "id": "966a33c7",
   "metadata": {},
   "source": [
    "## CORELATION-BASED FS"
   ]
  },
  {
   "cell_type": "code",
   "execution_count": 54,
   "id": "6cfda585",
   "metadata": {
    "scrolled": false
   },
   "outputs": [
    {
     "name": "stdout",
     "output_type": "stream",
     "text": [
      "(50000, 390)\n"
     ]
    },
    {
     "name": "stderr",
     "output_type": "stream",
     "text": [
      "c:\\users\\ronkin\\appdata\\local\\programs\\python\\python37\\lib\\site-packages\\ipykernel_launcher.py:10: DeprecationWarning: `np.bool` is a deprecated alias for the builtin `bool`. To silence this warning, use `bool` by itself. Doing this will not modify any behavior and is safe. If you specifically wanted the numpy scalar type, use `np.bool_` here.\n",
      "Deprecated in NumPy 1.20; for more details and guidance: https://numpy.org/devdocs/release/1.20.0-notes.html#deprecations\n",
      "  # Remove the CWD from sys.path while we load stuff.\n"
     ]
    },
    {
     "name": "stdout",
     "output_type": "stream",
     "text": [
      "(50000, 248) (50000, 248)\n"
     ]
    }
   ],
   "source": [
    "df_all = df_train.copy()\n",
    "print(df_all.shape)\n",
    "\n",
    "if 'source' in df_all.columns:\n",
    "    df_all = df_all.drop(columns='source')\n",
    "\n",
    "# Create correlation matrix\n",
    "corr_matrix = df_all.corr().abs()\n",
    "# Select upper triangle of correlation matrix\n",
    "upper = corr_matrix.where(np.triu(np.ones(corr_matrix.shape), k=1).astype(np.bool))\n",
    "# Find features with correlation greater than 0.95\n",
    "to_drop = [column for column in upper.columns if any(upper[column] > 0.95)]\n",
    "# Drop features \n",
    "df_train.drop(to_drop, axis=1, inplace=True)\n",
    "df_test.drop(to_drop, axis=1, inplace=True)\n",
    "print(df_train.shape, df_test.shape,)"
   ]
  },
  {
   "cell_type": "code",
   "execution_count": 55,
   "id": "e6d3a868",
   "metadata": {},
   "outputs": [],
   "source": [
    "X_train_ = df_train.astype('float32').values\n",
    "X_test_ = df_test.astype('float32').values\n",
    "scaler = MinMaxScaler()\n",
    "X_train_ = scaler.fit_transform(X_train_)\n",
    "X_test_  = scaler.transform(X_test_)"
   ]
  },
  {
   "cell_type": "code",
   "execution_count": 56,
   "id": "619607ad",
   "metadata": {
    "scrolled": true
   },
   "outputs": [
    {
     "name": "stdout",
     "output_type": "stream",
     "text": [
      "Linear Discriminant Analysis\n",
      "Accuracy for test: Linear Discriminant Analysis:\t 0.90642,Accuracy for train: 0.99602\n",
      "Random Forest Classifier\n",
      "Accuracy for test: Random Forest Classifier:\t 0.804,Accuracy for train: 1.0\n",
      "Logistic Regression\n"
     ]
    },
    {
     "name": "stderr",
     "output_type": "stream",
     "text": [
      "c:\\users\\ronkin\\appdata\\local\\programs\\python\\python37\\lib\\site-packages\\sklearn\\linear_model\\_logistic.py:818: ConvergenceWarning: lbfgs failed to converge (status=1):\n",
      "STOP: TOTAL NO. of ITERATIONS REACHED LIMIT.\n",
      "\n",
      "Increase the number of iterations (max_iter) or scale the data as shown in:\n",
      "    https://scikit-learn.org/stable/modules/preprocessing.html\n",
      "Please also refer to the documentation for alternative solver options:\n",
      "    https://scikit-learn.org/stable/modules/linear_model.html#logistic-regression\n",
      "  extra_warning_msg=_LOGISTIC_SOLVER_CONVERGENCE_MSG,\n"
     ]
    },
    {
     "name": "stdout",
     "output_type": "stream",
     "text": [
      "Accuracy for test: Logistic Regression:\t 0.59752,Accuracy for train: 0.9721\n",
      "Naive Bayes Classifier\n",
      "Accuracy for test: Naive Bayes Classifier:\t 0.83124,Accuracy for train: 0.99298\n"
     ]
    }
   ],
   "source": [
    "from copy import deepcopy\n",
    "models_ = deepcopy(models)\n",
    "\n",
    "for model,name in models_:\n",
    "    print(name)\n",
    "    model.fit(X_train_,y_train)\n",
    "    print(f\"Accuracy for test: {name}:\\t {model.score(X_test_,y_test)},Accuracy for train: {model.score(X_train_,y_train)}\")"
   ]
  },
  {
   "cell_type": "markdown",
   "id": "b4e5213f",
   "metadata": {},
   "source": [
    "## CORRELATION + RANDOM FOREST BASED FEATURE SELECTION"
   ]
  },
  {
   "cell_type": "code",
   "execution_count": 58,
   "id": "5fef6fc9",
   "metadata": {},
   "outputs": [
    {
     "name": "stdout",
     "output_type": "stream",
     "text": [
      "(248,)\n"
     ]
    }
   ],
   "source": [
    "featuresrf = models_[1][0].feature_importances_\n",
    "print(featuresrf.shape)"
   ]
  },
  {
   "cell_type": "code",
   "execution_count": 60,
   "id": "5a4c4591",
   "metadata": {},
   "outputs": [
    {
     "name": "stdout",
     "output_type": "stream",
     "text": [
      "(248,)\n",
      "(50000, 26)\n"
     ]
    }
   ],
   "source": [
    "featuresrf = models_[1][0].feature_importances_\n",
    "print(featuresrf.shape)\n",
    "idx4rest = np.where(featuresrf>0.2*featuresrf.max())#0.023=0.32\n",
    "# print(df_train.columns[:-1][idx4rest])\n",
    "X_train__ = X_train_[:,idx4rest[0]]\n",
    "X_test__  = X_test_ [:,idx4rest[0]]\n",
    "print(X_train__.shape)"
   ]
  },
  {
   "cell_type": "code",
   "execution_count": 61,
   "id": "7692b207",
   "metadata": {
    "scrolled": true
   },
   "outputs": [
    {
     "name": "stdout",
     "output_type": "stream",
     "text": [
      "Linear Discriminant Analysis\n",
      "Accuracy for test: Linear Discriminant Analysis:\t 0.90824,Accuracy for train: 0.9867\n",
      "Random Forest Classifier\n",
      "Accuracy for test: Random Forest Classifier:\t 0.8589,Accuracy for train: 1.0\n",
      "Logistic Regression\n"
     ]
    },
    {
     "name": "stderr",
     "output_type": "stream",
     "text": [
      "c:\\users\\ronkin\\appdata\\local\\programs\\python\\python37\\lib\\site-packages\\sklearn\\linear_model\\_logistic.py:818: ConvergenceWarning: lbfgs failed to converge (status=1):\n",
      "STOP: TOTAL NO. of ITERATIONS REACHED LIMIT.\n",
      "\n",
      "Increase the number of iterations (max_iter) or scale the data as shown in:\n",
      "    https://scikit-learn.org/stable/modules/preprocessing.html\n",
      "Please also refer to the documentation for alternative solver options:\n",
      "    https://scikit-learn.org/stable/modules/linear_model.html#logistic-regression\n",
      "  extra_warning_msg=_LOGISTIC_SOLVER_CONVERGENCE_MSG,\n"
     ]
    },
    {
     "name": "stdout",
     "output_type": "stream",
     "text": [
      "Accuracy for test: Logistic Regression:\t 0.65192,Accuracy for train: 0.9634\n",
      "Naive Bayes Classifier\n",
      "Accuracy for test: Naive Bayes Classifier:\t 0.8481,Accuracy for train: 0.99424\n"
     ]
    }
   ],
   "source": [
    "models__ = deepcopy(models)\n",
    "\n",
    "for model,name in models__:\n",
    "    print(name)\n",
    "    model.fit(X_train__,y_train)\n",
    "    print(f\"Accuracy for test: {name}:\\t {model.score(X_test__,y_test)},Accuracy for train: {model.score(X_train__,y_train)}\")"
   ]
  },
  {
   "cell_type": "markdown",
   "id": "4b786a36",
   "metadata": {},
   "source": [
    "## RANDOM FOREST BASED FEATURE SELECTION"
   ]
  },
  {
   "cell_type": "code",
   "execution_count": 62,
   "id": "71acaf7b",
   "metadata": {},
   "outputs": [
    {
     "name": "stdout",
     "output_type": "stream",
     "text": [
      "(390,)\n",
      "(50000, 23)\n"
     ]
    }
   ],
   "source": [
    "featuresrf = models[1][0].feature_importances_\n",
    "print(featuresrf.shape)\n",
    "idx4rest = np.where(featuresrf>0.2*featuresrf.max())#0.023=0.32\n",
    "# print(df_train.columns[:-1][idx4rest])\n",
    "X_train__ = X_train[:,idx4rest[0]]\n",
    "X_test__  = X_test[:,idx4rest[0]]\n",
    "print(X_train__.shape)"
   ]
  },
  {
   "cell_type": "code",
   "execution_count": 63,
   "id": "a9e79949",
   "metadata": {},
   "outputs": [
    {
     "name": "stdout",
     "output_type": "stream",
     "text": [
      "Linear Discriminant Analysis\n",
      "Accuracy for test: Linear Discriminant Analysis:\t 0.86386,Accuracy for train: 0.98656\n",
      "Random Forest Classifier\n",
      "Accuracy for test: Random Forest Classifier:\t 0.92882,Accuracy for train: 1.0\n",
      "Logistic Regression\n"
     ]
    },
    {
     "name": "stderr",
     "output_type": "stream",
     "text": [
      "c:\\users\\ronkin\\appdata\\local\\programs\\python\\python37\\lib\\site-packages\\sklearn\\linear_model\\_logistic.py:818: ConvergenceWarning: lbfgs failed to converge (status=1):\n",
      "STOP: TOTAL NO. of ITERATIONS REACHED LIMIT.\n",
      "\n",
      "Increase the number of iterations (max_iter) or scale the data as shown in:\n",
      "    https://scikit-learn.org/stable/modules/preprocessing.html\n",
      "Please also refer to the documentation for alternative solver options:\n",
      "    https://scikit-learn.org/stable/modules/linear_model.html#logistic-regression\n",
      "  extra_warning_msg=_LOGISTIC_SOLVER_CONVERGENCE_MSG,\n"
     ]
    },
    {
     "name": "stdout",
     "output_type": "stream",
     "text": [
      "Accuracy for test: Logistic Regression:\t 0.71584,Accuracy for train: 0.95226\n",
      "Naive Bayes Classifier\n",
      "Accuracy for test: Naive Bayes Classifier:\t 0.91126,Accuracy for train: 0.9932\n"
     ]
    }
   ],
   "source": [
    "models__ = deepcopy(models)\n",
    "\n",
    "for model,name in models__:\n",
    "    print(name)\n",
    "    model.fit(X_train__,y_train)\n",
    "    print(f\"Accuracy for test: {name}:\\t {model.score(X_test__,y_test)},Accuracy for train: {model.score(X_train__,y_train)}\")"
   ]
  },
  {
   "cell_type": "code",
   "execution_count": 70,
   "id": "f2cf3a3d",
   "metadata": {},
   "outputs": [
    {
     "name": "stdout",
     "output_type": "stream",
     "text": [
      "Accuracy of Random Forest Classifier:\t 0.92882\n"
     ]
    },
    {
     "data": {
      "image/png": "[encoded data removed]",
      "text/plain": [
       "<Figure size 864x576 with 1 Axes>"
      ]
     },
     "metadata": {},
     "output_type": "display_data"
    }
   ],
   "source": [
    "clf_id = 1\n",
    "predicts = models__[clf_id][0].predict(X_test__)\n",
    "plt.plot(y_test)\n",
    "plt.plot(predicts)\n",
    "print(f\"Accuracy of {models[clf_id][1]}:\\t {models__[clf_id][0].score(X_test__,y_test)}\")"
   ]
  },
  {
   "cell_type": "code",
   "execution_count": 71,
   "id": "10b9e2ef",
   "metadata": {},
   "outputs": [],
   "source": [
    "df_tsfel_rf = pd.DataFrame(predicts)\n",
    "df_tsfel_rf.to_csv('tsfel_rf_fs.csv')"
   ]
  },
  {
   "cell_type": "markdown",
   "id": "fc9c2ce7",
   "metadata": {},
   "source": [
    "## ANOVA"
   ]
  },
  {
   "cell_type": "code",
   "execution_count": 65,
   "id": "a374de90",
   "metadata": {},
   "outputs": [
    {
     "ename": "ValueError",
     "evalue": "k should be >=0, <= n_features = 390; got 10000.0. Use k='all' to return all features.",
     "output_type": "error",
     "traceback": [
      "\u001b[1;31m---------------------------------------------------------------------------\u001b[0m",
      "\u001b[1;31mValueError\u001b[0m                                Traceback (most recent call last)",
      "\u001b[1;32m<ipython-input-65-079c2beaeb62>\u001b[0m in \u001b[0;36m<module>\u001b[1;34m\u001b[0m\n\u001b[0;32m     12\u001b[0m \u001b[1;33m\u001b[0m\u001b[0m\n\u001b[0;32m     13\u001b[0m \u001b[1;31m# Apply the SelectKBest object to the features and target\u001b[0m\u001b[1;33m\u001b[0m\u001b[1;33m\u001b[0m\u001b[0m\n\u001b[1;32m---> 14\u001b[1;33m \u001b[0mfselector\u001b[0m\u001b[1;33m.\u001b[0m\u001b[0mfit\u001b[0m\u001b[1;33m(\u001b[0m\u001b[0mX_train\u001b[0m\u001b[1;33m,\u001b[0m \u001b[0my_train\u001b[0m\u001b[1;33m)\u001b[0m\u001b[1;33m\u001b[0m\u001b[0m\n\u001b[0m",
      "\u001b[1;32mc:\\users\\ronkin\\appdata\\local\\programs\\python\\python37\\lib\\site-packages\\sklearn\\feature_selection\\_univariate_selection.py\u001b[0m in \u001b[0;36mfit\u001b[1;34m(self, X, y)\u001b[0m\n\u001b[0;32m    405\u001b[0m             )\n\u001b[0;32m    406\u001b[0m \u001b[1;33m\u001b[0m\u001b[0m\n\u001b[1;32m--> 407\u001b[1;33m         \u001b[0mself\u001b[0m\u001b[1;33m.\u001b[0m\u001b[0m_check_params\u001b[0m\u001b[1;33m(\u001b[0m\u001b[0mX\u001b[0m\u001b[1;33m,\u001b[0m \u001b[0my\u001b[0m\u001b[1;33m)\u001b[0m\u001b[1;33m\u001b[0m\u001b[0m\n\u001b[0m\u001b[0;32m    408\u001b[0m         \u001b[0mscore_func_ret\u001b[0m \u001b[1;33m=\u001b[0m \u001b[0mself\u001b[0m\u001b[1;33m.\u001b[0m\u001b[0mscore_func\u001b[0m\u001b[1;33m(\u001b[0m\u001b[0mX\u001b[0m\u001b[1;33m,\u001b[0m \u001b[0my\u001b[0m\u001b[1;33m)\u001b[0m\u001b[1;33m\u001b[0m\u001b[0m\n\u001b[0;32m    409\u001b[0m         \u001b[1;32mif\u001b[0m \u001b[0misinstance\u001b[0m\u001b[1;33m(\u001b[0m\u001b[0mscore_func_ret\u001b[0m\u001b[1;33m,\u001b[0m \u001b[1;33m(\u001b[0m\u001b[0mlist\u001b[0m\u001b[1;33m,\u001b[0m \u001b[0mtuple\u001b[0m\u001b[1;33m)\u001b[0m\u001b[1;33m)\u001b[0m\u001b[1;33m:\u001b[0m\u001b[1;33m\u001b[0m\u001b[0m\n",
      "\u001b[1;32mc:\\users\\ronkin\\appdata\\local\\programs\\python\\python37\\lib\\site-packages\\sklearn\\feature_selection\\_univariate_selection.py\u001b[0m in \u001b[0;36m_check_params\u001b[1;34m(self, X, y)\u001b[0m\n\u001b[0;32m    604\u001b[0m             raise ValueError(\n\u001b[0;32m    605\u001b[0m                 \u001b[1;34m\"k should be >=0, <= n_features = %d; got %r. \"\u001b[0m\u001b[1;33m\u001b[0m\u001b[0m\n\u001b[1;32m--> 606\u001b[1;33m                 \u001b[1;34m\"Use k='all' to return all features.\"\u001b[0m \u001b[1;33m%\u001b[0m \u001b[1;33m(\u001b[0m\u001b[0mX\u001b[0m\u001b[1;33m.\u001b[0m\u001b[0mshape\u001b[0m\u001b[1;33m[\u001b[0m\u001b[1;36m1\u001b[0m\u001b[1;33m]\u001b[0m\u001b[1;33m,\u001b[0m \u001b[0mself\u001b[0m\u001b[1;33m.\u001b[0m\u001b[0mk\u001b[0m\u001b[1;33m)\u001b[0m\u001b[1;33m\u001b[0m\u001b[0m\n\u001b[0m\u001b[0;32m    607\u001b[0m             )\n\u001b[0;32m    608\u001b[0m \u001b[1;33m\u001b[0m\u001b[0m\n",
      "\u001b[1;31mValueError\u001b[0m: k should be >=0, <= n_features = 390; got 10000.0. Use k='all' to return all features."
     ]
    }
   ],
   "source": [
    "from sklearn.feature_selection import SelectKBest, RFECV,RFE, VarianceThreshold, SelectFromModel\n",
    "from sklearn.feature_selection import f_classif,  chi2,  mutual_info_classif \n",
    "\n",
    "# Create an SelectKBest object to select features with two best ANOVA F-Values\n",
    "fselector = SelectKBest(chi2, k=10)\n",
    "fselector = SelectKBest(f_classif, k=X_train.shape[0]*0.2)\n",
    "# fselector = SelectKBest(mutual_info_classif, k=18)\n",
    "# fselector = VarianceThreshold(threshold=.034)\n",
    "# fselector = RFECV(estimator=models[0][0], step=1, scoring='neg_mean_squared_error')\n",
    "# fselector = RFE(estimator=models[0][0], step=1)\n",
    "# fselector = SelectFromModel(estimator=models[0][0],norm_order=1)\n",
    "\n",
    "# Apply the SelectKBest object to the features and target\n",
    "fselector.fit(X_train, y_train)\n"
   ]
  },
  {
   "cell_type": "code",
   "execution_count": null,
   "id": "4b83c9ab",
   "metadata": {},
   "outputs": [],
   "source": [
    "X_train_1 = fselector.transform(X_train)\n",
    "X_test_1  = fselector.transform(X_test)\n",
    "X_train_1.shape"
   ]
  },
  {
   "cell_type": "code",
   "execution_count": null,
   "id": "c3b4af80",
   "metadata": {},
   "outputs": [],
   "source": [
    "models_1 = deepcopy(models)\n",
    "\n",
    "for model,name in models_1:\n",
    "    print(name)\n",
    "    model.fit(X_train_1,y_train)\n",
    "    print(f\"Accuracy for test: {name}:\\t {model.score(X_test_1,y_test)},Accuracy for train: {model.score(X_train_1,y_train)}\")"
   ]
  },
  {
   "cell_type": "code",
   "execution_count": null,
   "id": "f47f2dbb",
   "metadata": {},
   "outputs": [],
   "source": []
  },
  {
   "cell_type": "code",
   "execution_count": null,
   "id": "521eac99",
   "metadata": {},
   "outputs": [],
   "source": []
  }
 ],
 "metadata": {
  "kernelspec": {
   "display_name": "Python 3",
   "language": "python",
   "name": "python3"
  },
  "language_info": {
   "codemirror_mode": {
    "name": "ipython",
    "version": 3
   },
   "file_extension": ".py",
   "mimetype": "text/x-python",
   "name": "python",
   "nbconvert_exporter": "python",
   "pygments_lexer": "ipython3",
   "version": "3.7.0"
  },
  "toc": {
   "base_numbering": 1,
   "nav_menu": {},
   "number_sections": true,
   "sideBar": true,
   "skip_h1_title": false,
   "title_cell": "Table of Contents",
   "title_sidebar": "Contents",
   "toc_cell": false,
   "toc_position": {},
   "toc_section_display": true,
   "toc_window_display": false
  }
 },
 "nbformat": 4,
 "nbformat_minor": 5
}
