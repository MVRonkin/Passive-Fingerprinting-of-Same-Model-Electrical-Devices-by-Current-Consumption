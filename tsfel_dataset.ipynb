{
 "cells": [
  {
   "cell_type": "markdown",
   "id": "43bcec12",
   "metadata": {},
   "source": [
    "## Import"
   ]
  },
  {
   "cell_type": "code",
   "execution_count": 1,
   "id": "d753b079",
   "metadata": {},
   "outputs": [],
   "source": [
    "import matplotlib.pyplot as plt\n",
    "%matplotlib inline\n",
    "plt.style.use('seaborn-whitegrid')\n",
    "plt.rcParams.update({'font.size': 32})\n",
    "plt.rcParams[\"figure.figsize\"] = (12,8)\n",
    "import torch\n",
    "import numpy as np\n",
    "import scipy.signal\n",
    "import scipy.io\n",
    "import pandas as pd\n",
    "import itertools\n",
    "from itertools import product\n",
    "\n",
    "from tqdm.notebook import tqdm, trange"
   ]
  },
  {
   "cell_type": "code",
   "execution_count": 4,
   "id": "3b84ef58",
   "metadata": {},
   "outputs": [],
   "source": [
    "import warnings\n",
    "warnings.filterwarnings('ignore')"
   ]
  },
  {
   "cell_type": "code",
   "execution_count": 5,
   "id": "e5ceef3e",
   "metadata": {},
   "outputs": [],
   "source": [
    "import random"
   ]
  },
  {
   "cell_type": "code",
   "execution_count": 6,
   "id": "3ae490bd",
   "metadata": {},
   "outputs": [],
   "source": [
    "import h5py"
   ]
  },
  {
   "cell_type": "markdown",
   "id": "6d1ad311",
   "metadata": {},
   "source": [
    "## Data import"
   ]
  },
  {
   "cell_type": "code",
   "execution_count": 15,
   "id": "dcfa412d",
   "metadata": {},
   "outputs": [],
   "source": [
    "fs = 50e3"
   ]
  },
  {
   "cell_type": "code",
   "execution_count": 16,
   "id": "0fb30a54",
   "metadata": {},
   "outputs": [],
   "source": [
    "dataset = h5py.File('dataset_.hdf5', 'r')"
   ]
  },
  {
   "cell_type": "code",
   "execution_count": 18,
   "id": "a73d237e",
   "metadata": {},
   "outputs": [],
   "source": [
    "class H5Dataset:\n",
    "    \n",
    "    def __init__(self, h5dataset, segment_size = 1):\n",
    "        self.dataset  = h5dataset\n",
    "        self.ds_parts = list(self.dataset.keys())\n",
    "        self.seg_size = int(segment_size)\n",
    "\n",
    "    def visit(self):\n",
    "        self.dataset.visit(lambda name: print(name))\n",
    "            \n",
    "    def inspect(self):\n",
    "        for key in self.ds_parts:\n",
    "            part = self.dataset[key]\n",
    "            info = f'Name {key},\\tType {type(part)}'\n",
    "            info +=f' Shape {part.shape}, DType {part.dtype}'\n",
    "            if isinstance(self.seg_size,int):\n",
    "                info +=f' N segments {part.shape[1]//self.seg_size}'    \n",
    "            print(info)\n",
    "    \n",
    "    def __len__(self):\n",
    "        return self.length\n",
    "    \n",
    "    def get_source(self, part, source, label = None):\n",
    "        if self.seg_size is None: raise ValueError\n",
    "        \n",
    "        source_data = self.dataset[part][source]\n",
    "        \n",
    "        segment = source_data.reshape(-1,self.seg_size)\n",
    "        \n",
    "        if label is None:\n",
    "            label = source\n",
    "        target  = label * np.ones(segment.shape[0])\n",
    "        return segment, target\n",
    "\n",
    "    def part(self, part_name):\n",
    "        return self.dataset[part_name]\n",
    "    \n",
    "#     def get_batches_idxs \n",
    "    \n",
    "    def get_range(self, part, sources = None, segments = None, label = None):\n",
    "        if self.seg_size is None: raise ValueError\n",
    "        \n",
    "        data = self.dataset[part]\n",
    "        if sources is None:  sources  = (0,data.shape[0])\n",
    "        if segments is None: segments = (0,data.shape[1]//self.seg_size) \n",
    "        sources  = (max(0,int(sources[0])),min(data.shape[0],int(sources[1])))    \n",
    "        segments = (segments[0]*self.seg_size,segments[1]*self.seg_size)  \n",
    "        segments = (max(0,int(segments[0])),min(data.shape[1],int(segments[1])))\n",
    "\n",
    "        return data[sources[0]:sources[1],segments[0]:segments[1] ]\n",
    "        \n",
    "    "
   ]
  },
  {
   "cell_type": "code",
   "execution_count": 19,
   "id": "2cae94a6",
   "metadata": {},
   "outputs": [
    {
     "name": "stdout",
     "output_type": "stream",
     "text": [
      "Name x_test_1,\tType <class 'h5py._hl.dataset.Dataset'> Shape (20, 12500000), DType float32 N segments 1250\n",
      "Name x_test_2,\tType <class 'h5py._hl.dataset.Dataset'> Shape (20, 12500000), DType float32 N segments 1250\n",
      "Name x_train_1,\tType <class 'h5py._hl.dataset.Dataset'> Shape (20, 12500000), DType float32 N segments 1250\n",
      "Name x_train_2,\tType <class 'h5py._hl.dataset.Dataset'> Shape (20, 12500000), DType float32 N segments 1250\n"
     ]
    }
   ],
   "source": [
    "ds = H5Dataset(dataset, segment_size=int(10e3))\n",
    "ds.inspect()"
   ]
  },
  {
   "cell_type": "code",
   "execution_count": 20,
   "id": "160ebed4",
   "metadata": {},
   "outputs": [],
   "source": [
    "part = ds.part('x_test_1')"
   ]
  },
  {
   "cell_type": "code",
   "execution_count": 21,
   "id": "31c4954c",
   "metadata": {},
   "outputs": [
    {
     "name": "stdout",
     "output_type": "stream",
     "text": [
      "(20, 12500000)\n"
     ]
    }
   ],
   "source": [
    "range_ = ds.get_range('x_test_1')\n",
    "print(range_.shape)"
   ]
  },
  {
   "cell_type": "code",
   "execution_count": 22,
   "id": "f31e6506",
   "metadata": {
    "scrolled": true
   },
   "outputs": [
    {
     "name": "stdout",
     "output_type": "stream",
     "text": [
      "(2, 12500000)\n"
     ]
    }
   ],
   "source": [
    "range_ = ds.get_range('x_test_1',(0,2))\n",
    "print(range_.shape)"
   ]
  },
  {
   "cell_type": "code",
   "execution_count": 30,
   "id": "9a4b238f",
   "metadata": {},
   "outputs": [],
   "source": [
    "import tsfel\n",
    "\n",
    "cfg_file = tsfel.get_features_by_domain()\n",
    "\n",
    "CLASSES_PER_PART = 20"
   ]
  },
  {
   "cell_type": "code",
   "execution_count": 31,
   "id": "22974c36",
   "metadata": {},
   "outputs": [],
   "source": [
    "def get_features(ds, parts, fs, cfg_file):\n",
    "    parts = sum([],parts)\n",
    "    df = pd.DataFrame([])    \n",
    "    for  (cntpart,part),i in tqdm( product(enumerate(parts), range(CLASSES_PER_PART)  ) ):\n",
    "\n",
    "        x_,y_ = ds.get_source(part,i)\n",
    "        \n",
    "        y_ = (cntpart*CLASSES_PER_PART+i)*np.ones(x_.shape[0])\n",
    "        \n",
    "        df_ = tsfel.time_series_features_extractor(cfg_file, x_, fs=fs)\n",
    "        \n",
    "        df = pd.concat([df,df_ ],axis=0, ignore_index=True)\n",
    "    \n",
    "    return df\n"
   ]
  },
  {
   "cell_type": "code",
   "execution_count": 40,
   "id": "7f996405",
   "metadata": {
    "scrolled": true
   },
   "outputs": [
    {
     "data": {
      "application/vnd.jupyter.widget-view+json": {
       "model_id": "5c0161cab7624a36bb4d654e045f0462",
       "version_major": 2,
       "version_minor": 0
      },
      "text/plain": [
       "0it [00:00, ?it/s]"
      ]
     },
     "metadata": {},
     "output_type": "display_data"
    },
    {
     "name": "stdout",
     "output_type": "stream",
     "text": [
      "*** Feature extraction started ***\n"
     ]
    },
    {
     "data": {
      "text/html": [
       "\n",
       "              <p>\n",
       "                  Progress: 100% Complete\n",
       "              <p/>            \n",
       "              <progress\n",
       "                  value='1250'\n",
       "                  max='1250',\n",
       "                  style='width: 25%',\n",
       "              >\n",
       "                  1250\n",
       "              </progress>\n",
       "\n",
       "    "
      ],
      "text/plain": [
       "<IPython.core.display.HTML object>"
      ]
     },
     "metadata": {},
     "output_type": "display_data"
    },
    {
     "name": "stdout",
     "output_type": "stream",
     "text": [
      "\n",
      "*** Feature extraction finished ***\n",
      "*** Feature extraction started ***\n"
     ]
    },
    {
     "data": {
      "text/html": [
       "\n",
       "              <p>\n",
       "                  Progress: 100% Complete\n",
       "              <p/>            \n",
       "              <progress\n",
       "                  value='1250'\n",
       "                  max='1250',\n",
       "                  style='width: 25%',\n",
       "              >\n",
       "                  1250\n",
       "              </progress>\n",
       "\n",
       "    "
      ],
      "text/plain": [
       "<IPython.core.display.HTML object>"
      ]
     },
     "metadata": {},
     "output_type": "display_data"
    },
    {
     "name": "stdout",
     "output_type": "stream",
     "text": [
      "\n",
      "*** Feature extraction finished ***\n",
      "*** Feature extraction started ***\n"
     ]
    },
    {
     "data": {
      "text/html": [
       "\n",
       "              <p>\n",
       "                  Progress: 100% Complete\n",
       "              <p/>            \n",
       "              <progress\n",
       "                  value='1250'\n",
       "                  max='1250',\n",
       "                  style='width: 25%',\n",
       "              >\n",
       "                  1250\n",
       "              </progress>\n",
       "\n",
       "    "
      ],
      "text/plain": [
       "<IPython.core.display.HTML object>"
      ]
     },
     "metadata": {},
     "output_type": "display_data"
    },
    {
     "name": "stdout",
     "output_type": "stream",
     "text": [
      "\n",
      "*** Feature extraction finished ***\n",
      "*** Feature extraction started ***\n"
     ]
    },
    {
     "data": {
      "text/html": [
       "\n",
       "              <p>\n",
       "                  Progress: 100% Complete\n",
       "              <p/>            \n",
       "              <progress\n",
       "                  value='1250'\n",
       "                  max='1250',\n",
       "                  style='width: 25%',\n",
       "              >\n",
       "                  1250\n",
       "              </progress>\n",
       "\n",
       "    "
      ],
      "text/plain": [
       "<IPython.core.display.HTML object>"
      ]
     },
     "metadata": {},
     "output_type": "display_data"
    },
    {
     "name": "stdout",
     "output_type": "stream",
     "text": [
      "\n",
      "*** Feature extraction finished ***\n",
      "*** Feature extraction started ***\n"
     ]
    },
    {
     "data": {
      "text/html": [
       "\n",
       "              <p>\n",
       "                  Progress: 100% Complete\n",
       "              <p/>            \n",
       "              <progress\n",
       "                  value='1250'\n",
       "                  max='1250',\n",
       "                  style='width: 25%',\n",
       "              >\n",
       "                  1250\n",
       "              </progress>\n",
       "\n",
       "    "
      ],
      "text/plain": [
       "<IPython.core.display.HTML object>"
      ]
     },
     "metadata": {},
     "output_type": "display_data"
    },
    {
     "name": "stdout",
     "output_type": "stream",
     "text": [
      "\n",
      "*** Feature extraction finished ***\n",
      "*** Feature extraction started ***\n"
     ]
    },
    {
     "data": {
      "text/html": [
       "\n",
       "              <p>\n",
       "                  Progress: 100% Complete\n",
       "              <p/>            \n",
       "              <progress\n",
       "                  value='1250'\n",
       "                  max='1250',\n",
       "                  style='width: 25%',\n",
       "              >\n",
       "                  1250\n",
       "              </progress>\n",
       "\n",
       "    "
      ],
      "text/plain": [
       "<IPython.core.display.HTML object>"
      ]
     },
     "metadata": {},
     "output_type": "display_data"
    },
    {
     "name": "stdout",
     "output_type": "stream",
     "text": [
      "\n",
      "*** Feature extraction finished ***\n",
      "*** Feature extraction started ***\n"
     ]
    },
    {
     "data": {
      "text/html": [
       "\n",
       "              <p>\n",
       "                  Progress: 100% Complete\n",
       "              <p/>            \n",
       "              <progress\n",
       "                  value='1250'\n",
       "                  max='1250',\n",
       "                  style='width: 25%',\n",
       "              >\n",
       "                  1250\n",
       "              </progress>\n",
       "\n",
       "    "
      ],
      "text/plain": [
       "<IPython.core.display.HTML object>"
      ]
     },
     "metadata": {},
     "output_type": "display_data"
    },
    {
     "name": "stdout",
     "output_type": "stream",
     "text": [
      "\n",
      "*** Feature extraction finished ***\n",
      "*** Feature extraction started ***\n"
     ]
    },
    {
     "data": {
      "text/html": [
       "\n",
       "              <p>\n",
       "                  Progress: 100% Complete\n",
       "              <p/>            \n",
       "              <progress\n",
       "                  value='1250'\n",
       "                  max='1250',\n",
       "                  style='width: 25%',\n",
       "              >\n",
       "                  1250\n",
       "              </progress>\n",
       "\n",
       "    "
      ],
      "text/plain": [
       "<IPython.core.display.HTML object>"
      ]
     },
     "metadata": {},
     "output_type": "display_data"
    },
    {
     "name": "stdout",
     "output_type": "stream",
     "text": [
      "\n",
      "*** Feature extraction finished ***\n",
      "*** Feature extraction started ***\n"
     ]
    },
    {
     "data": {
      "text/html": [
       "\n",
       "              <p>\n",
       "                  Progress: 12% Complete\n",
       "              <p/>            \n",
       "              <progress\n",
       "                  value='160'\n",
       "                  max='1250',\n",
       "                  style='width: 25%',\n",
       "              >\n",
       "                  160\n",
       "              </progress>\n",
       "\n",
       "    "
      ],
      "text/plain": [
       "<IPython.core.display.HTML object>"
      ]
     },
     "metadata": {},
     "output_type": "display_data"
    },
    {
     "name": "stderr",
     "output_type": "stream",
     "text": [
      "Process SpawnPoolWorker-392:\n",
      "Process SpawnPoolWorker-385:\n",
      "Traceback (most recent call last):\n",
      "  File \"/opt/anaconda3/lib/python3.9/multiprocessing/process.py\", line 315, in _bootstrap\n",
      "    self.run()\n",
      "  File \"/opt/anaconda3/lib/python3.9/multiprocessing/process.py\", line 108, in run\n",
      "    self._target(*self._args, **self._kwargs)\n",
      "  File \"/opt/anaconda3/lib/python3.9/multiprocessing/pool.py\", line 125, in worker\n",
      "    result = (True, func(*args, **kwds))\n",
      "  File \"/opt/anaconda3/lib/python3.9/site-packages/tsfel/feature_extraction/calc_features.py\", line 185, in calc_features\n",
      "    feat_val = calc_window_features(dict_features, wind_sig, fs, features_path=features_path, header_names=names)\n",
      "  File \"/opt/anaconda3/lib/python3.9/site-packages/tsfel/feature_extraction/calc_features.py\", line 462, in calc_window_features\n",
      "    eval_result = eval(execf, locals())\n",
      "  File \"<string>\", line 1, in <module>\n",
      "  File \"/opt/anaconda3/lib/python3.9/site-packages/tsfel/feature_extraction/features.py\", line 450, in neighbourhood_peaks\n",
      "    peaks &= (subsequence > np.roll(signal, -i)[n:-n])\n",
      "KeyboardInterrupt\n",
      "Traceback (most recent call last):\n",
      "  File \"/opt/anaconda3/lib/python3.9/multiprocessing/process.py\", line 315, in _bootstrap\n",
      "    self.run()\n",
      "  File \"/opt/anaconda3/lib/python3.9/multiprocessing/process.py\", line 108, in run\n",
      "    self._target(*self._args, **self._kwargs)\n",
      "  File \"/opt/anaconda3/lib/python3.9/multiprocessing/pool.py\", line 125, in worker\n",
      "    result = (True, func(*args, **kwds))\n",
      "  File \"/opt/anaconda3/lib/python3.9/site-packages/tsfel/feature_extraction/calc_features.py\", line 185, in calc_features\n",
      "    feat_val = calc_window_features(dict_features, wind_sig, fs, features_path=features_path, header_names=names)\n",
      "  File \"/opt/anaconda3/lib/python3.9/site-packages/tsfel/feature_extraction/calc_features.py\", line 462, in calc_window_features\n",
      "    eval_result = eval(execf, locals())\n",
      "  File \"<string>\", line 1, in <module>\n",
      "  File \"/opt/anaconda3/lib/python3.9/site-packages/tsfel/feature_extraction/features.py\", line 310, in slope\n",
      "    return np.polyfit(t, signal, 1)[0]\n",
      "  File \"<__array_function__ internals>\", line 5, in polyfit\n",
      "  File \"/opt/anaconda3/lib/python3.9/site-packages/numpy/lib/polynomial.py\", line 660, in polyfit\n",
      "    c, resids, rank, s = lstsq(lhs, rhs, rcond)\n",
      "  File \"<__array_function__ internals>\", line 5, in lstsq\n",
      "  File \"/opt/anaconda3/lib/python3.9/site-packages/numpy/linalg/linalg.py\", line 2306, in lstsq\n",
      "    x, resids, rank, s = gufunc(a, b, rcond, signature=signature, extobj=extobj)\n",
      "KeyboardInterrupt\n",
      "Process SpawnPoolWorker-389:\n",
      "Process SpawnPoolWorker-388:\n",
      "Traceback (most recent call last):\n",
      "  File \"/opt/anaconda3/lib/python3.9/multiprocessing/process.py\", line 315, in _bootstrap\n",
      "    self.run()\n",
      "  File \"/opt/anaconda3/lib/python3.9/multiprocessing/process.py\", line 108, in run\n",
      "    self._target(*self._args, **self._kwargs)\n",
      "  File \"/opt/anaconda3/lib/python3.9/multiprocessing/pool.py\", line 125, in worker\n",
      "    result = (True, func(*args, **kwds))\n",
      "  File \"/opt/anaconda3/lib/python3.9/site-packages/tsfel/feature_extraction/calc_features.py\", line 185, in calc_features\n",
      "    feat_val = calc_window_features(dict_features, wind_sig, fs, features_path=features_path, header_names=names)\n",
      "  File \"/opt/anaconda3/lib/python3.9/site-packages/tsfel/feature_extraction/calc_features.py\", line 462, in calc_window_features\n",
      "    eval_result = eval(execf, locals())\n",
      "  File \"<string>\", line 1, in <module>\n",
      "  File \"/opt/anaconda3/lib/python3.9/site-packages/tsfel/feature_extraction/features.py\", line 1687, in wavelet_var\n",
      "    return tuple((np.var(wavelet(signal, function, widths), axis=1)))\n",
      "  File \"/opt/anaconda3/lib/python3.9/site-packages/tsfel/feature_extraction/features_utils.py\", line 345, in wavelet\n",
      "    cwt = scipy.signal.cwt(signal, function, widths)\n",
      "  File \"/opt/anaconda3/lib/python3.9/site-packages/scipy/signal/wavelets.py\", line 480, in cwt\n",
      "    output[ind] = convolve(data, wavelet_data, mode='same')\n",
      "  File \"/opt/anaconda3/lib/python3.9/site-packages/scipy/signal/signaltools.py\", line 1408, in convolve\n",
      "    return np.convolve(volume, kernel, mode)\n",
      "  File \"<__array_function__ internals>\", line 5, in convolve\n",
      "  File \"/opt/anaconda3/lib/python3.9/site-packages/numpy/core/numeric.py\", line 844, in convolve\n",
      "    return multiarray.correlate(a, v[::-1], mode)\n",
      "KeyboardInterrupt\n",
      "Process SpawnPoolWorker-390:\n",
      "Process SpawnPoolWorker-386:\n",
      "Traceback (most recent call last):\n",
      "  File \"/opt/anaconda3/lib/python3.9/multiprocessing/process.py\", line 315, in _bootstrap\n",
      "    self.run()\n",
      "  File \"/opt/anaconda3/lib/python3.9/multiprocessing/process.py\", line 108, in run\n",
      "    self._target(*self._args, **self._kwargs)\n",
      "  File \"/opt/anaconda3/lib/python3.9/multiprocessing/pool.py\", line 125, in worker\n",
      "    result = (True, func(*args, **kwds))\n",
      "  File \"/opt/anaconda3/lib/python3.9/site-packages/tsfel/feature_extraction/calc_features.py\", line 185, in calc_features\n",
      "    feat_val = calc_window_features(dict_features, wind_sig, fs, features_path=features_path, header_names=names)\n",
      "  File \"/opt/anaconda3/lib/python3.9/site-packages/tsfel/feature_extraction/calc_features.py\", line 462, in calc_window_features\n",
      "    eval_result = eval(execf, locals())\n",
      "  File \"<string>\", line 1, in <module>\n",
      "  File \"/opt/anaconda3/lib/python3.9/site-packages/tsfel/feature_extraction/features.py\", line 500, in interq_range\n",
      "    return np.percentile(signal, 75) - np.percentile(signal, 25)\n",
      "  File \"<__array_function__ internals>\", line 5, in percentile\n",
      "  File \"/opt/anaconda3/lib/python3.9/site-packages/numpy/lib/function_base.py\", line 3865, in percentile\n",
      "    if not _quantile_is_valid(q):\n",
      "  File \"/opt/anaconda3/lib/python3.9/site-packages/numpy/lib/function_base.py\", line 4002, in _quantile_is_valid\n",
      "    if not (np.all(0 <= q) and np.all(q <= 1)):\n",
      "KeyboardInterrupt\n",
      "Traceback (most recent call last):\n",
      "  File \"/opt/anaconda3/lib/python3.9/multiprocessing/process.py\", line 315, in _bootstrap\n",
      "    self.run()\n",
      "  File \"/opt/anaconda3/lib/python3.9/multiprocessing/process.py\", line 108, in run\n",
      "    self._target(*self._args, **s"
     ]
    },
    {
     "ename": "KeyboardInterrupt",
     "evalue": "",
     "output_type": "error",
     "traceback": [
      "\u001b[0;31m---------------------------------------------------------------------------\u001b[0m",
      "\u001b[0;31mIndexError\u001b[0m                                Traceback (most recent call last)",
      "\u001b[0;32m/opt/anaconda3/lib/python3.9/multiprocessing/pool.py\u001b[0m in \u001b[0;36mnext\u001b[0;34m(self, timeout)\u001b[0m\n\u001b[1;32m    852\u001b[0m             \u001b[0;32mtry\u001b[0m\u001b[0;34m:\u001b[0m\u001b[0;34m\u001b[0m\u001b[0;34m\u001b[0m\u001b[0m\n\u001b[0;32m--> 853\u001b[0;31m                 \u001b[0mitem\u001b[0m \u001b[0;34m=\u001b[0m \u001b[0mself\u001b[0m\u001b[0;34m.\u001b[0m\u001b[0m_items\u001b[0m\u001b[0;34m.\u001b[0m\u001b[0mpopleft\u001b[0m\u001b[0;34m(\u001b[0m\u001b[0;34m)\u001b[0m\u001b[0;34m\u001b[0m\u001b[0;34m\u001b[0m\u001b[0m\n\u001b[0m\u001b[1;32m    854\u001b[0m             \u001b[0;32mexcept\u001b[0m \u001b[0mIndexError\u001b[0m\u001b[0;34m:\u001b[0m\u001b[0;34m\u001b[0m\u001b[0;34m\u001b[0m\u001b[0m\n",
      "\u001b[0;31mIndexError\u001b[0m: pop from an empty deque",
      "\nDuring handling of the above exception, another exception occurred:\n",
      "\u001b[0;31mKeyboardInterrupt\u001b[0m                         Traceback (most recent call last)",
      "\u001b[0;32m/var/folders/dh/w_5f2j092jx9x__dkcvvrpw80000gn/T/ipykernel_10091/3616101342.py\u001b[0m in \u001b[0;36m<module>\u001b[0;34m\u001b[0m\n\u001b[0;32m----> 1\u001b[0;31m \u001b[0mdf_train\u001b[0m \u001b[0;34m=\u001b[0m \u001b[0mget_features\u001b[0m\u001b[0;34m(\u001b[0m\u001b[0mds\u001b[0m\u001b[0;34m,\u001b[0m \u001b[0;34m[\u001b[0m\u001b[0;34m'x_train_1'\u001b[0m\u001b[0;34m,\u001b[0m\u001b[0;34m'x_train_2'\u001b[0m\u001b[0;34m]\u001b[0m\u001b[0;34m,\u001b[0m \u001b[0mfs\u001b[0m \u001b[0;34m=\u001b[0m \u001b[0mfs\u001b[0m\u001b[0;34m,\u001b[0m \u001b[0mcfg_file\u001b[0m \u001b[0;34m=\u001b[0m \u001b[0mcfg_file\u001b[0m\u001b[0;34m)\u001b[0m\u001b[0;34m\u001b[0m\u001b[0;34m\u001b[0m\u001b[0m\n\u001b[0m\u001b[1;32m      2\u001b[0m \u001b[0;31m# df_test  = get_features(ds, ['x_test_1','x_test_2'], fs = fs, cfg_file = cfg_file)\u001b[0m\u001b[0;34m\u001b[0m\u001b[0;34m\u001b[0m\u001b[0m\n",
      "\u001b[0;32m/var/folders/dh/w_5f2j092jx9x__dkcvvrpw80000gn/T/ipykernel_10091/706620960.py\u001b[0m in \u001b[0;36mget_features\u001b[0;34m(ds, parts, fs, cfg_file)\u001b[0m\n\u001b[1;32m      8\u001b[0m         \u001b[0my_\u001b[0m \u001b[0;34m=\u001b[0m \u001b[0;34m(\u001b[0m\u001b[0mcntpart\u001b[0m\u001b[0;34m*\u001b[0m\u001b[0mCLASSES_PER_PART\u001b[0m\u001b[0;34m+\u001b[0m\u001b[0mi\u001b[0m\u001b[0;34m)\u001b[0m\u001b[0;34m*\u001b[0m\u001b[0mnp\u001b[0m\u001b[0;34m.\u001b[0m\u001b[0mones\u001b[0m\u001b[0;34m(\u001b[0m\u001b[0mx_\u001b[0m\u001b[0;34m.\u001b[0m\u001b[0mshape\u001b[0m\u001b[0;34m[\u001b[0m\u001b[0;36m0\u001b[0m\u001b[0;34m]\u001b[0m\u001b[0;34m)\u001b[0m\u001b[0;34m\u001b[0m\u001b[0;34m\u001b[0m\u001b[0m\n\u001b[1;32m      9\u001b[0m \u001b[0;34m\u001b[0m\u001b[0m\n\u001b[0;32m---> 10\u001b[0;31m         \u001b[0mdf_\u001b[0m \u001b[0;34m=\u001b[0m \u001b[0mtsfel\u001b[0m\u001b[0;34m.\u001b[0m\u001b[0mtime_series_features_extractor\u001b[0m\u001b[0;34m(\u001b[0m\u001b[0mcfg_file\u001b[0m\u001b[0;34m,\u001b[0m \u001b[0mx_\u001b[0m\u001b[0;34m,\u001b[0m \u001b[0mfs\u001b[0m\u001b[0;34m=\u001b[0m\u001b[0mfs\u001b[0m\u001b[0;34m)\u001b[0m\u001b[0;34m\u001b[0m\u001b[0;34m\u001b[0m\u001b[0m\n\u001b[0m\u001b[1;32m     11\u001b[0m \u001b[0;34m\u001b[0m\u001b[0m\n\u001b[1;32m     12\u001b[0m         \u001b[0mdf\u001b[0m \u001b[0;34m=\u001b[0m \u001b[0mpd\u001b[0m\u001b[0;34m.\u001b[0m\u001b[0mconcat\u001b[0m\u001b[0;34m(\u001b[0m\u001b[0;34m[\u001b[0m\u001b[0mdf\u001b[0m\u001b[0;34m,\u001b[0m\u001b[0mdf_\u001b[0m \u001b[0;34m]\u001b[0m\u001b[0;34m,\u001b[0m\u001b[0maxis\u001b[0m\u001b[0;34m=\u001b[0m\u001b[0;36m0\u001b[0m\u001b[0;34m,\u001b[0m \u001b[0mignore_index\u001b[0m\u001b[0;34m=\u001b[0m\u001b[0;32mTrue\u001b[0m\u001b[0;34m)\u001b[0m\u001b[0;34m\u001b[0m\u001b[0;34m\u001b[0m\u001b[0m\n",
      "\u001b[0;32m/opt/anaconda3/lib/python3.9/site-packages/tsfel/feature_extraction/calc_features.py\u001b[0m in \u001b[0;36mtime_series_features_extractor\u001b[0;34m(dict_features, signal_windows, fs, verbose, **kwargs)\u001b[0m\n\u001b[1;32m    295\u001b[0m                 features = pool.imap(partial(calc_features, dict_features=dict_features, fs=fs,\n\u001b[1;32m    296\u001b[0m                                              features_path=features_path, header_names=names), signal_windows)\n\u001b[0;32m--> 297\u001b[0;31m                 \u001b[0;32mfor\u001b[0m \u001b[0mi\u001b[0m\u001b[0;34m,\u001b[0m \u001b[0mfeat\u001b[0m \u001b[0;32min\u001b[0m \u001b[0menumerate\u001b[0m\u001b[0;34m(\u001b[0m\u001b[0mfeatures\u001b[0m\u001b[0;34m)\u001b[0m\u001b[0;34m:\u001b[0m\u001b[0;34m\u001b[0m\u001b[0;34m\u001b[0m\u001b[0m\n\u001b[0m\u001b[1;32m    298\u001b[0m                     \u001b[0;32mif\u001b[0m \u001b[0mverbose\u001b[0m \u001b[0;34m==\u001b[0m \u001b[0;36m1\u001b[0m\u001b[0;34m:\u001b[0m\u001b[0;34m\u001b[0m\u001b[0;34m\u001b[0m\u001b[0m\n\u001b[1;32m    299\u001b[0m                         \u001b[0mdisplay_progress_bar\u001b[0m\u001b[0;34m(\u001b[0m\u001b[0mi\u001b[0m\u001b[0;34m,\u001b[0m \u001b[0msignal_windows\u001b[0m\u001b[0;34m,\u001b[0m \u001b[0mout\u001b[0m\u001b[0;34m)\u001b[0m\u001b[0;34m\u001b[0m\u001b[0;34m\u001b[0m\u001b[0m\n",
      "\u001b[0;32m/opt/anaconda3/lib/python3.9/multiprocessing/pool.py\u001b[0m in \u001b[0;36mnext\u001b[0;34m(self, timeout)\u001b[0m\n\u001b[1;32m    856\u001b[0m                     \u001b[0mself\u001b[0m\u001b[0;34m.\u001b[0m\u001b[0m_pool\u001b[0m \u001b[0;34m=\u001b[0m \u001b[0;32mNone\u001b[0m\u001b[0;34m\u001b[0m\u001b[0;34m\u001b[0m\u001b[0m\n\u001b[1;32m    857\u001b[0m                     \u001b[0;32mraise\u001b[0m \u001b[0mStopIteration\u001b[0m \u001b[0;32mfrom\u001b[0m \u001b[0;32mNone\u001b[0m\u001b[0;34m\u001b[0m\u001b[0;34m\u001b[0m\u001b[0m\n\u001b[0;32m--> 858\u001b[0;31m                 \u001b[0mself\u001b[0m\u001b[0;34m.\u001b[0m\u001b[0m_cond\u001b[0m\u001b[0;34m.\u001b[0m\u001b[0mwait\u001b[0m\u001b[0;34m(\u001b[0m\u001b[0mtimeout\u001b[0m\u001b[0;34m)\u001b[0m\u001b[0;34m\u001b[0m\u001b[0;34m\u001b[0m\u001b[0m\n\u001b[0m\u001b[1;32m    859\u001b[0m                 \u001b[0;32mtry\u001b[0m\u001b[0;34m:\u001b[0m\u001b[0;34m\u001b[0m\u001b[0;34m\u001b[0m\u001b[0m\n\u001b[1;32m    860\u001b[0m                     \u001b[0mitem\u001b[0m \u001b[0;34m=\u001b[0m \u001b[0mself\u001b[0m\u001b[0;34m.\u001b[0m\u001b[0m_items\u001b[0m\u001b[0;34m.\u001b[0m\u001b[0mpopleft\u001b[0m\u001b[0;34m(\u001b[0m\u001b[0;34m)\u001b[0m\u001b[0;34m\u001b[0m\u001b[0;34m\u001b[0m\u001b[0m\n",
      "\u001b[0;32m/opt/anaconda3/lib/python3.9/threading.py\u001b[0m in \u001b[0;36mwait\u001b[0;34m(self, timeout)\u001b[0m\n\u001b[1;32m    310\u001b[0m         \u001b[0;32mtry\u001b[0m\u001b[0;34m:\u001b[0m    \u001b[0;31m# restore state no matter what (e.g., KeyboardInterrupt)\u001b[0m\u001b[0;34m\u001b[0m\u001b[0;34m\u001b[0m\u001b[0m\n\u001b[1;32m    311\u001b[0m             \u001b[0;32mif\u001b[0m \u001b[0mtimeout\u001b[0m \u001b[0;32mis\u001b[0m \u001b[0;32mNone\u001b[0m\u001b[0;34m:\u001b[0m\u001b[0;34m\u001b[0m\u001b[0;34m\u001b[0m\u001b[0m\n\u001b[0;32m--> 312\u001b[0;31m                 \u001b[0mwaiter\u001b[0m\u001b[0;34m.\u001b[0m\u001b[0macquire\u001b[0m\u001b[0;34m(\u001b[0m\u001b[0;34m)\u001b[0m\u001b[0;34m\u001b[0m\u001b[0;34m\u001b[0m\u001b[0m\n\u001b[0m\u001b[1;32m    313\u001b[0m                 \u001b[0mgotit\u001b[0m \u001b[0;34m=\u001b[0m \u001b[0;32mTrue\u001b[0m\u001b[0;34m\u001b[0m\u001b[0;34m\u001b[0m\u001b[0m\n\u001b[1;32m    314\u001b[0m             \u001b[0;32melse\u001b[0m\u001b[0;34m:\u001b[0m\u001b[0;34m\u001b[0m\u001b[0;34m\u001b[0m\u001b[0m\n",
      "\u001b[0;31mKeyboardInterrupt\u001b[0m: "
     ]
    },
    {
     "name": "stderr",
     "output_type": "stream",
     "text": [
      "elf._kwargs)\n",
      "  File \"/opt/anaconda3/lib/python3.9/multiprocessing/pool.py\", line 125, in worker\n",
      "    result = (True, func(*args, **kwds))\n",
      "  File \"/opt/anaconda3/lib/python3.9/site-packages/tsfel/feature_extraction/calc_features.py\", line 185, in calc_features\n",
      "    feat_val = calc_window_features(dict_features, wind_sig, fs, features_path=features_path, header_names=names)\n",
      "  File \"/opt/anaconda3/lib/python3.9/site-packages/tsfel/feature_extraction/calc_features.py\", line 462, in calc_window_features\n",
      "    eval_result = eval(execf, locals())\n",
      "  File \"<string>\", line 1, in <module>\n",
      "  File \"/opt/anaconda3/lib/python3.9/site-packages/tsfel/feature_extraction/features.py\", line 1603, in wavelet_entropy\n",
      "    cwt = wavelet(signal, function, widths)\n",
      "  File \"/opt/anaconda3/lib/python3.9/site-packages/tsfel/feature_extraction/features_utils.py\", line 345, in wavelet\n",
      "    cwt = scipy.signal.cwt(signal, function, widths)\n",
      "  File \"/opt/anaconda3/lib/python3.9/site-packages/scipy/signal/wavelets.py\", line 480, in cwt\n",
      "    output[ind] = convolve(data, wavelet_data, mode='same')\n",
      "  File \"/opt/anaconda3/lib/python3.9/site-packages/scipy/signal/signaltools.py\", line 1408, in convolve\n",
      "    return np.convolve(volume, kernel, mode)\n",
      "  File \"<__array_function__ internals>\", line 5, in convolve\n",
      "  File \"/opt/anaconda3/lib/python3.9/site-packages/numpy/core/numeric.py\", line 844, in convolve\n",
      "    return multiarray.correlate(a, v[::-1], mode)\n",
      "KeyboardInterrupt\n",
      "Process SpawnPoolWorker-391:\n",
      "Process SpawnPoolWorker-387:\n",
      "Traceback (most recent call last):\n",
      "  File \"/opt/anaconda3/lib/python3.9/multiprocessing/process.py\", line 315, in _bootstrap\n",
      "    self.run()\n",
      "  File \"/opt/anaconda3/lib/python3.9/multiprocessing/process.py\", line 108, in run\n",
      "    self._target(*self._args, **self._kwargs)\n",
      "  File \"/opt/anaconda3/lib/python3.9/multiprocessing/pool.py\", line 125, in worker\n",
      "    result = (True, func(*args, **kwds))\n",
      "  File \"/opt/anaconda3/lib/python3.9/site-packages/tsfel/feature_extraction/calc_features.py\", line 185, in calc_features\n",
      "    feat_val = calc_window_features(dict_features, wind_sig, fs, features_path=features_path, header_names=names)\n",
      "  File \"/opt/anaconda3/lib/python3.9/site-packages/tsfel/feature_extraction/calc_features.py\", line 462, in calc_window_features\n",
      "    eval_result = eval(execf, locals())\n",
      "  File \"<string>\", line 1, in <module>\n",
      "  File \"/opt/anaconda3/lib/python3.9/site-packages/tsfel/feature_extraction/features.py\", line 310, in slope\n",
      "    return np.polyfit(t, signal, 1)[0]\n",
      "  File \"<__array_function__ internals>\", line 5, in polyfit\n",
      "  File \"/opt/anaconda3/lib/python3.9/site-packages/numpy/lib/polynomial.py\", line 660, in polyfit\n",
      "    c, resids, rank, s = lstsq(lhs, rhs, rcond)\n",
      "  File \"<__array_function__ internals>\", line 5, in lstsq\n",
      "Traceback (most recent call last):\n",
      "  File \"/opt/anaconda3/lib/python3.9/site-packages/numpy/linalg/linalg.py\", line 2306, in lstsq\n",
      "    x, resids, rank, s = gufunc(a, b, rcond, signature=signature, extobj=extobj)\n",
      "  File \"/opt/anaconda3/lib/python3.9"
     ]
    }
   ],
   "source": [
    "df_train = get_features(ds, ['x_train_1','x_train_2'], fs = fs, cfg_file = cfg_file)\n",
    "# df_test  = get_features(ds, ['x_test_1','x_test_2'], fs = fs, cfg_file = cfg_file)"
   ]
  },
  {
   "cell_type": "code",
   "execution_count": 67,
   "id": "9b88bb24",
   "metadata": {},
   "outputs": [],
   "source": [
    "df_train.to_csv('tsfel_train.csv')\n",
    "df_train = pd.read_csv('tsfel_train.csv')"
   ]
  },
  {
   "cell_type": "code",
   "execution_count": 32,
   "id": "c47ff161",
   "metadata": {
    "scrolled": true
   },
   "outputs": [
    {
     "data": {
      "application/vnd.jupyter.widget-view+json": {
       "model_id": "1dd817c72eff4700879e57cd2ee3d0b7",
       "version_major": 2,
       "version_minor": 0
      },
      "text/plain": [
       "0it [00:00, ?it/s]"
      ]
     },
     "metadata": {},
     "output_type": "display_data"
    },
    {
     "name": "stdout",
     "output_type": "stream",
     "text": [
      "*** Feature extraction started ***\n"
     ]
    },
    {
     "data": {
      "text/html": [
       "\n",
       "              <p>\n",
       "                  Progress: 100% Complete\n",
       "              <p/>            \n",
       "              <progress\n",
       "                  value='1250'\n",
       "                  max='1250',\n",
       "                  style='width: 25%',\n",
       "              >\n",
       "                  1250\n",
       "              </progress>\n",
       "\n",
       "    "
      ],
      "text/plain": [
       "<IPython.core.display.HTML object>"
      ]
     },
     "metadata": {},
     "output_type": "display_data"
    },
    {
     "name": "stdout",
     "output_type": "stream",
     "text": [
      "\n",
      "*** Feature extraction finished ***\n",
      "*** Feature extraction started ***\n"
     ]
    },
    {
     "data": {
      "text/html": [
       "\n",
       "              <p>\n",
       "                  Progress: 100% Complete\n",
       "              <p/>            \n",
       "              <progress\n",
       "                  value='1250'\n",
       "                  max='1250',\n",
       "                  style='width: 25%',\n",
       "              >\n",
       "                  1250\n",
       "              </progress>\n",
       "\n",
       "    "
      ],
      "text/plain": [
       "<IPython.core.display.HTML object>"
      ]
     },
     "metadata": {},
     "output_type": "display_data"
    },
    {
     "name": "stdout",
     "output_type": "stream",
     "text": [
      "\n",
      "*** Feature extraction finished ***\n",
      "*** Feature extraction started ***\n"
     ]
    },
    {
     "data": {
      "text/html": [
       "\n",
       "              <p>\n",
       "                  Progress: 100% Complete\n",
       "              <p/>            \n",
       "              <progress\n",
       "                  value='1250'\n",
       "                  max='1250',\n",
       "                  style='width: 25%',\n",
       "              >\n",
       "                  1250\n",
       "              </progress>\n",
       "\n",
       "    "
      ],
      "text/plain": [
       "<IPython.core.display.HTML object>"
      ]
     },
     "metadata": {},
     "output_type": "display_data"
    },
    {
     "name": "stdout",
     "output_type": "stream",
     "text": [
      "\n",
      "*** Feature extraction finished ***\n",
      "*** Feature extraction started ***\n"
     ]
    },
    {
     "data": {
      "text/html": [
       "\n",
       "              <p>\n",
       "                  Progress: 100% Complete\n",
       "              <p/>            \n",
       "              <progress\n",
       "                  value='1250'\n",
       "                  max='1250',\n",
       "                  style='width: 25%',\n",
       "              >\n",
       "                  1250\n",
       "              </progress>\n",
       "\n",
       "    "
      ],
      "text/plain": [
       "<IPython.core.display.HTML object>"
      ]
     },
     "metadata": {},
     "output_type": "display_data"
    },
    {
     "name": "stdout",
     "output_type": "stream",
     "text": [
      "\n",
      "*** Feature extraction finished ***\n",
      "*** Feature extraction started ***\n"
     ]
    },
    {
     "data": {
      "text/html": [
       "\n",
       "              <p>\n",
       "                  Progress: 100% Complete\n",
       "              <p/>            \n",
       "              <progress\n",
       "                  value='1250'\n",
       "                  max='1250',\n",
       "                  style='width: 25%',\n",
       "              >\n",
       "                  1250\n",
       "              </progress>\n",
       "\n",
       "    "
      ],
      "text/plain": [
       "<IPython.core.display.HTML object>"
      ]
     },
     "metadata": {},
     "output_type": "display_data"
    },
    {
     "name": "stdout",
     "output_type": "stream",
     "text": [
      "\n",
      "*** Feature extraction finished ***\n",
      "*** Feature extraction started ***\n"
     ]
    },
    {
     "data": {
      "text/html": [
       "\n",
       "              <p>\n",
       "                  Progress: 100% Complete\n",
       "              <p/>            \n",
       "              <progress\n",
       "                  value='1250'\n",
       "                  max='1250',\n",
       "                  style='width: 25%',\n",
       "              >\n",
       "                  1250\n",
       "              </progress>\n",
       "\n",
       "    "
      ],
      "text/plain": [
       "<IPython.core.display.HTML object>"
      ]
     },
     "metadata": {},
     "output_type": "display_data"
    },
    {
     "name": "stdout",
     "output_type": "stream",
     "text": [
      "\n",
      "*** Feature extraction finished ***\n",
      "*** Feature extraction started ***\n"
     ]
    },
    {
     "data": {
      "text/html": [
       "\n",
       "              <p>\n",
       "                  Progress: 100% Complete\n",
       "              <p/>            \n",
       "              <progress\n",
       "                  value='1250'\n",
       "                  max='1250',\n",
       "                  style='width: 25%',\n",
       "              >\n",
       "                  1250\n",
       "              </progress>\n",
       "\n",
       "    "
      ],
      "text/plain": [
       "<IPython.core.display.HTML object>"
      ]
     },
     "metadata": {},
     "output_type": "display_data"
    },
    {
     "name": "stdout",
     "output_type": "stream",
     "text": [
      "\n",
      "*** Feature extraction finished ***\n",
      "*** Feature extraction started ***\n"
     ]
    },
    {
     "data": {
      "text/html": [
       "\n",
       "              <p>\n",
       "                  Progress: 100% Complete\n",
       "              <p/>            \n",
       "              <progress\n",
       "                  value='1250'\n",
       "                  max='1250',\n",
       "                  style='width: 25%',\n",
       "              >\n",
       "                  1250\n",
       "              </progress>\n",
       "\n",
       "    "
      ],
      "text/plain": [
       "<IPython.core.display.HTML object>"
      ]
     },
     "metadata": {},
     "output_type": "display_data"
    },
    {
     "name": "stdout",
     "output_type": "stream",
     "text": [
      "\n",
      "*** Feature extraction finished ***\n",
      "*** Feature extraction started ***\n"
     ]
    },
    {
     "data": {
      "text/html": [
       "\n",
       "              <p>\n",
       "                  Progress: 100% Complete\n",
       "              <p/>            \n",
       "              <progress\n",
       "                  value='1250'\n",
       "                  max='1250',\n",
       "                  style='width: 25%',\n",
       "              >\n",
       "                  1250\n",
       "              </progress>\n",
       "\n",
       "    "
      ],
      "text/plain": [
       "<IPython.core.display.HTML object>"
      ]
     },
     "metadata": {},
     "output_type": "display_data"
    },
    {
     "name": "stdout",
     "output_type": "stream",
     "text": [
      "\n",
      "*** Feature extraction finished ***\n",
      "*** Feature extraction started ***\n"
     ]
    },
    {
     "data": {
      "text/html": [
       "\n",
       "              <p>\n",
       "                  Progress: 100% Complete\n",
       "              <p/>            \n",
       "              <progress\n",
       "                  value='1250'\n",
       "                  max='1250',\n",
       "                  style='width: 25%',\n",
       "              >\n",
       "                  1250\n",
       "              </progress>\n",
       "\n",
       "    "
      ],
      "text/plain": [
       "<IPython.core.display.HTML object>"
      ]
     },
     "metadata": {},
     "output_type": "display_data"
    },
    {
     "name": "stdout",
     "output_type": "stream",
     "text": [
      "\n",
      "*** Feature extraction finished ***\n",
      "*** Feature extraction started ***\n"
     ]
    },
    {
     "data": {
      "text/html": [
       "\n",
       "              <p>\n",
       "                  Progress: 100% Complete\n",
       "              <p/>            \n",
       "              <progress\n",
       "                  value='1250'\n",
       "                  max='1250',\n",
       "                  style='width: 25%',\n",
       "              >\n",
       "                  1250\n",
       "              </progress>\n",
       "\n",
       "    "
      ],
      "text/plain": [
       "<IPython.core.display.HTML object>"
      ]
     },
     "metadata": {},
     "output_type": "display_data"
    },
    {
     "name": "stdout",
     "output_type": "stream",
     "text": [
      "\n",
      "*** Feature extraction finished ***\n",
      "*** Feature extraction started ***\n"
     ]
    },
    {
     "data": {
      "text/html": [
       "\n",
       "              <p>\n",
       "                  Progress: 100% Complete\n",
       "              <p/>            \n",
       "              <progress\n",
       "                  value='1250'\n",
       "                  max='1250',\n",
       "                  style='width: 25%',\n",
       "              >\n",
       "                  1250\n",
       "              </progress>\n",
       "\n",
       "    "
      ],
      "text/plain": [
       "<IPython.core.display.HTML object>"
      ]
     },
     "metadata": {},
     "output_type": "display_data"
    },
    {
     "name": "stdout",
     "output_type": "stream",
     "text": [
      "\n",
      "*** Feature extraction finished ***\n",
      "*** Feature extraction started ***\n"
     ]
    },
    {
     "data": {
      "text/html": [
       "\n",
       "              <p>\n",
       "                  Progress: 100% Complete\n",
       "              <p/>            \n",
       "              <progress\n",
       "                  value='1250'\n",
       "                  max='1250',\n",
       "                  style='width: 25%',\n",
       "              >\n",
       "                  1250\n",
       "              </progress>\n",
       "\n",
       "    "
      ],
      "text/plain": [
       "<IPython.core.display.HTML object>"
      ]
     },
     "metadata": {},
     "output_type": "display_data"
    },
    {
     "name": "stdout",
     "output_type": "stream",
     "text": [
      "\n",
      "*** Feature extraction finished ***\n",
      "*** Feature extraction started ***\n"
     ]
    },
    {
     "data": {
      "text/html": [
       "\n",
       "              <p>\n",
       "                  Progress: 100% Complete\n",
       "              <p/>            \n",
       "              <progress\n",
       "                  value='1250'\n",
       "                  max='1250',\n",
       "                  style='width: 25%',\n",
       "              >\n",
       "                  1250\n",
       "              </progress>\n",
       "\n",
       "    "
      ],
      "text/plain": [
       "<IPython.core.display.HTML object>"
      ]
     },
     "metadata": {},
     "output_type": "display_data"
    },
    {
     "name": "stdout",
     "output_type": "stream",
     "text": [
      "\n",
      "*** Feature extraction finished ***\n",
      "*** Feature extraction started ***\n"
     ]
    },
    {
     "data": {
      "text/html": [
       "\n",
       "              <p>\n",
       "                  Progress: 100% Complete\n",
       "              <p/>            \n",
       "              <progress\n",
       "                  value='1250'\n",
       "                  max='1250',\n",
       "                  style='width: 25%',\n",
       "              >\n",
       "                  1250\n",
       "              </progress>\n",
       "\n",
       "    "
      ],
      "text/plain": [
       "<IPython.core.display.HTML object>"
      ]
     },
     "metadata": {},
     "output_type": "display_data"
    },
    {
     "name": "stdout",
     "output_type": "stream",
     "text": [
      "\n",
      "*** Feature extraction finished ***\n",
      "*** Feature extraction started ***\n"
     ]
    },
    {
     "data": {
      "text/html": [
       "\n",
       "              <p>\n",
       "                  Progress: 100% Complete\n",
       "              <p/>            \n",
       "              <progress\n",
       "                  value='1250'\n",
       "                  max='1250',\n",
       "                  style='width: 25%',\n",
       "              >\n",
       "                  1250\n",
       "              </progress>\n",
       "\n",
       "    "
      ],
      "text/plain": [
       "<IPython.core.display.HTML object>"
      ]
     },
     "metadata": {},
     "output_type": "display_data"
    },
    {
     "name": "stdout",
     "output_type": "stream",
     "text": [
      "\n",
      "*** Feature extraction finished ***\n",
      "*** Feature extraction started ***\n"
     ]
    },
    {
     "data": {
      "text/html": [
       "\n",
       "              <p>\n",
       "                  Progress: 100% Complete\n",
       "              <p/>            \n",
       "              <progress\n",
       "                  value='1250'\n",
       "                  max='1250',\n",
       "                  style='width: 25%',\n",
       "              >\n",
       "                  1250\n",
       "              </progress>\n",
       "\n",
       "    "
      ],
      "text/plain": [
       "<IPython.core.display.HTML object>"
      ]
     },
     "metadata": {},
     "output_type": "display_data"
    },
    {
     "name": "stdout",
     "output_type": "stream",
     "text": [
      "\n",
      "*** Feature extraction finished ***\n",
      "*** Feature extraction started ***\n"
     ]
    },
    {
     "data": {
      "text/html": [
       "\n",
       "              <p>\n",
       "                  Progress: 100% Complete\n",
       "              <p/>            \n",
       "              <progress\n",
       "                  value='1250'\n",
       "                  max='1250',\n",
       "                  style='width: 25%',\n",
       "              >\n",
       "                  1250\n",
       "              </progress>\n",
       "\n",
       "    "
      ],
      "text/plain": [
       "<IPython.core.display.HTML object>"
      ]
     },
     "metadata": {},
     "output_type": "display_data"
    },
    {
     "name": "stdout",
     "output_type": "stream",
     "text": [
      "\n",
      "*** Feature extraction finished ***\n",
      "*** Feature extraction started ***\n"
     ]
    },
    {
     "data": {
      "text/html": [
       "\n",
       "              <p>\n",
       "                  Progress: 100% Complete\n",
       "              <p/>            \n",
       "              <progress\n",
       "                  value='1250'\n",
       "                  max='1250',\n",
       "                  style='width: 25%',\n",
       "              >\n",
       "                  1250\n",
       "              </progress>\n",
       "\n",
       "    "
      ],
      "text/plain": [
       "<IPython.core.display.HTML object>"
      ]
     },
     "metadata": {},
     "output_type": "display_data"
    },
    {
     "name": "stdout",
     "output_type": "stream",
     "text": [
      "\n",
      "*** Feature extraction finished ***\n",
      "*** Feature extraction started ***\n"
     ]
    },
    {
     "data": {
      "text/html": [
       "\n",
       "              <p>\n",
       "                  Progress: 100% Complete\n",
       "              <p/>            \n",
       "              <progress\n",
       "                  value='1250'\n",
       "                  max='1250',\n",
       "                  style='width: 25%',\n",
       "              >\n",
       "                  1250\n",
       "              </progress>\n",
       "\n",
       "    "
      ],
      "text/plain": [
       "<IPython.core.display.HTML object>"
      ]
     },
     "metadata": {},
     "output_type": "display_data"
    },
    {
     "name": "stdout",
     "output_type": "stream",
     "text": [
      "\n",
      "*** Feature extraction finished ***\n",
      "*** Feature extraction started ***\n"
     ]
    },
    {
     "data": {
      "text/html": [
       "\n",
       "              <p>\n",
       "                  Progress: 100% Complete\n",
       "              <p/>            \n",
       "              <progress\n",
       "                  value='1250'\n",
       "                  max='1250',\n",
       "                  style='width: 25%',\n",
       "              >\n",
       "                  1250\n",
       "              </progress>\n",
       "\n",
       "    "
      ],
      "text/plain": [
       "<IPython.core.display.HTML object>"
      ]
     },
     "metadata": {},
     "output_type": "display_data"
    },
    {
     "name": "stdout",
     "output_type": "stream",
     "text": [
      "\n",
      "*** Feature extraction finished ***\n",
      "*** Feature extraction started ***\n"
     ]
    },
    {
     "data": {
      "text/html": [
       "\n",
       "              <p>\n",
       "                  Progress: 100% Complete\n",
       "              <p/>            \n",
       "              <progress\n",
       "                  value='1250'\n",
       "                  max='1250',\n",
       "                  style='width: 25%',\n",
       "              >\n",
       "                  1250\n",
       "              </progress>\n",
       "\n",
       "    "
      ],
      "text/plain": [
       "<IPython.core.display.HTML object>"
      ]
     },
     "metadata": {},
     "output_type": "display_data"
    },
    {
     "name": "stdout",
     "output_type": "stream",
     "text": [
      "\n",
      "*** Feature extraction finished ***\n",
      "*** Feature extraction started ***\n"
     ]
    },
    {
     "data": {
      "text/html": [
       "\n",
       "              <p>\n",
       "                  Progress: 100% Complete\n",
       "              <p/>            \n",
       "              <progress\n",
       "                  value='1250'\n",
       "                  max='1250',\n",
       "                  style='width: 25%',\n",
       "              >\n",
       "                  1250\n",
       "              </progress>\n",
       "\n",
       "    "
      ],
      "text/plain": [
       "<IPython.core.display.HTML object>"
      ]
     },
     "metadata": {},
     "output_type": "display_data"
    },
    {
     "name": "stdout",
     "output_type": "stream",
     "text": [
      "\n",
      "*** Feature extraction finished ***\n",
      "*** Feature extraction started ***\n"
     ]
    },
    {
     "data": {
      "text/html": [
       "\n",
       "              <p>\n",
       "                  Progress: 100% Complete\n",
       "              <p/>            \n",
       "              <progress\n",
       "                  value='1250'\n",
       "                  max='1250',\n",
       "                  style='width: 25%',\n",
       "              >\n",
       "                  1250\n",
       "              </progress>\n",
       "\n",
       "    "
      ],
      "text/plain": [
       "<IPython.core.display.HTML object>"
      ]
     },
     "metadata": {},
     "output_type": "display_data"
    },
    {
     "name": "stdout",
     "output_type": "stream",
     "text": [
      "\n",
      "*** Feature extraction finished ***\n",
      "*** Feature extraction started ***\n"
     ]
    },
    {
     "data": {
      "text/html": [
       "\n",
       "              <p>\n",
       "                  Progress: 100% Complete\n",
       "              <p/>            \n",
       "              <progress\n",
       "                  value='1250'\n",
       "                  max='1250',\n",
       "                  style='width: 25%',\n",
       "              >\n",
       "                  1250\n",
       "              </progress>\n",
       "\n",
       "    "
      ],
      "text/plain": [
       "<IPython.core.display.HTML object>"
      ]
     },
     "metadata": {},
     "output_type": "display_data"
    },
    {
     "name": "stdout",
     "output_type": "stream",
     "text": [
      "\n",
      "*** Feature extraction finished ***\n",
      "*** Feature extraction started ***\n"
     ]
    },
    {
     "data": {
      "text/html": [
       "\n",
       "              <p>\n",
       "                  Progress: 100% Complete\n",
       "              <p/>            \n",
       "              <progress\n",
       "                  value='1250'\n",
       "                  max='1250',\n",
       "                  style='width: 25%',\n",
       "              >\n",
       "                  1250\n",
       "              </progress>\n",
       "\n",
       "    "
      ],
      "text/plain": [
       "<IPython.core.display.HTML object>"
      ]
     },
     "metadata": {},
     "output_type": "display_data"
    },
    {
     "name": "stdout",
     "output_type": "stream",
     "text": [
      "\n",
      "*** Feature extraction finished ***\n",
      "*** Feature extraction started ***\n"
     ]
    },
    {
     "data": {
      "text/html": [
       "\n",
       "              <p>\n",
       "                  Progress: 100% Complete\n",
       "              <p/>            \n",
       "              <progress\n",
       "                  value='1250'\n",
       "                  max='1250',\n",
       "                  style='width: 25%',\n",
       "              >\n",
       "                  1250\n",
       "              </progress>\n",
       "\n",
       "    "
      ],
      "text/plain": [
       "<IPython.core.display.HTML object>"
      ]
     },
     "metadata": {},
     "output_type": "display_data"
    },
    {
     "name": "stdout",
     "output_type": "stream",
     "text": [
      "\n",
      "*** Feature extraction finished ***\n",
      "*** Feature extraction started ***\n"
     ]
    },
    {
     "data": {
      "text/html": [
       "\n",
       "              <p>\n",
       "                  Progress: 100% Complete\n",
       "              <p/>            \n",
       "              <progress\n",
       "                  value='1250'\n",
       "                  max='1250',\n",
       "                  style='width: 25%',\n",
       "              >\n",
       "                  1250\n",
       "              </progress>\n",
       "\n",
       "    "
      ],
      "text/plain": [
       "<IPython.core.display.HTML object>"
      ]
     },
     "metadata": {},
     "output_type": "display_data"
    },
    {
     "name": "stdout",
     "output_type": "stream",
     "text": [
      "\n",
      "*** Feature extraction finished ***\n",
      "*** Feature extraction started ***\n"
     ]
    },
    {
     "data": {
      "text/html": [
       "\n",
       "              <p>\n",
       "                  Progress: 100% Complete\n",
       "              <p/>            \n",
       "              <progress\n",
       "                  value='1250'\n",
       "                  max='1250',\n",
       "                  style='width: 25%',\n",
       "              >\n",
       "                  1250\n",
       "              </progress>\n",
       "\n",
       "    "
      ],
      "text/plain": [
       "<IPython.core.display.HTML object>"
      ]
     },
     "metadata": {},
     "output_type": "display_data"
    },
    {
     "name": "stdout",
     "output_type": "stream",
     "text": [
      "\n",
      "*** Feature extraction finished ***\n",
      "*** Feature extraction started ***\n"
     ]
    },
    {
     "data": {
      "text/html": [
       "\n",
       "              <p>\n",
       "                  Progress: 100% Complete\n",
       "              <p/>            \n",
       "              <progress\n",
       "                  value='1250'\n",
       "                  max='1250',\n",
       "                  style='width: 25%',\n",
       "              >\n",
       "                  1250\n",
       "              </progress>\n",
       "\n",
       "    "
      ],
      "text/plain": [
       "<IPython.core.display.HTML object>"
      ]
     },
     "metadata": {},
     "output_type": "display_data"
    },
    {
     "name": "stdout",
     "output_type": "stream",
     "text": [
      "\n",
      "*** Feature extraction finished ***\n",
      "*** Feature extraction started ***\n"
     ]
    },
    {
     "data": {
      "text/html": [
       "\n",
       "              <p>\n",
       "                  Progress: 100% Complete\n",
       "              <p/>            \n",
       "              <progress\n",
       "                  value='1250'\n",
       "                  max='1250',\n",
       "                  style='width: 25%',\n",
       "              >\n",
       "                  1250\n",
       "              </progress>\n",
       "\n",
       "    "
      ],
      "text/plain": [
       "<IPython.core.display.HTML object>"
      ]
     },
     "metadata": {},
     "output_type": "display_data"
    },
    {
     "name": "stdout",
     "output_type": "stream",
     "text": [
      "\n",
      "*** Feature extraction finished ***\n",
      "*** Feature extraction started ***\n"
     ]
    },
    {
     "data": {
      "text/html": [
       "\n",
       "              <p>\n",
       "                  Progress: 100% Complete\n",
       "              <p/>            \n",
       "              <progress\n",
       "                  value='1250'\n",
       "                  max='1250',\n",
       "                  style='width: 25%',\n",
       "              >\n",
       "                  1250\n",
       "              </progress>\n",
       "\n",
       "    "
      ],
      "text/plain": [
       "<IPython.core.display.HTML object>"
      ]
     },
     "metadata": {},
     "output_type": "display_data"
    },
    {
     "name": "stdout",
     "output_type": "stream",
     "text": [
      "\n",
      "*** Feature extraction finished ***\n",
      "*** Feature extraction started ***\n"
     ]
    },
    {
     "data": {
      "text/html": [
       "\n",
       "              <p>\n",
       "                  Progress: 100% Complete\n",
       "              <p/>            \n",
       "              <progress\n",
       "                  value='1250'\n",
       "                  max='1250',\n",
       "                  style='width: 25%',\n",
       "              >\n",
       "                  1250\n",
       "              </progress>\n",
       "\n",
       "    "
      ],
      "text/plain": [
       "<IPython.core.display.HTML object>"
      ]
     },
     "metadata": {},
     "output_type": "display_data"
    },
    {
     "name": "stdout",
     "output_type": "stream",
     "text": [
      "\n",
      "*** Feature extraction finished ***\n",
      "*** Feature extraction started ***\n"
     ]
    },
    {
     "data": {
      "text/html": [
       "\n",
       "              <p>\n",
       "                  Progress: 100% Complete\n",
       "              <p/>            \n",
       "              <progress\n",
       "                  value='1250'\n",
       "                  max='1250',\n",
       "                  style='width: 25%',\n",
       "              >\n",
       "                  1250\n",
       "              </progress>\n",
       "\n",
       "    "
      ],
      "text/plain": [
       "<IPython.core.display.HTML object>"
      ]
     },
     "metadata": {},
     "output_type": "display_data"
    },
    {
     "name": "stdout",
     "output_type": "stream",
     "text": [
      "\n",
      "*** Feature extraction finished ***\n",
      "*** Feature extraction started ***\n"
     ]
    },
    {
     "data": {
      "text/html": [
       "\n",
       "              <p>\n",
       "                  Progress: 100% Complete\n",
       "              <p/>            \n",
       "              <progress\n",
       "                  value='1250'\n",
       "                  max='1250',\n",
       "                  style='width: 25%',\n",
       "              >\n",
       "                  1250\n",
       "              </progress>\n",
       "\n",
       "    "
      ],
      "text/plain": [
       "<IPython.core.display.HTML object>"
      ]
     },
     "metadata": {},
     "output_type": "display_data"
    },
    {
     "name": "stdout",
     "output_type": "stream",
     "text": [
      "\n",
      "*** Feature extraction finished ***\n",
      "*** Feature extraction started ***\n"
     ]
    },
    {
     "data": {
      "text/html": [
       "\n",
       "              <p>\n",
       "                  Progress: 100% Complete\n",
       "              <p/>            \n",
       "              <progress\n",
       "                  value='1250'\n",
       "                  max='1250',\n",
       "                  style='width: 25%',\n",
       "              >\n",
       "                  1250\n",
       "              </progress>\n",
       "\n",
       "    "
      ],
      "text/plain": [
       "<IPython.core.display.HTML object>"
      ]
     },
     "metadata": {},
     "output_type": "display_data"
    },
    {
     "name": "stdout",
     "output_type": "stream",
     "text": [
      "\n",
      "*** Feature extraction finished ***\n",
      "*** Feature extraction started ***\n"
     ]
    },
    {
     "data": {
      "text/html": [
       "\n",
       "              <p>\n",
       "                  Progress: 100% Complete\n",
       "              <p/>            \n",
       "              <progress\n",
       "                  value='1250'\n",
       "                  max='1250',\n",
       "                  style='width: 25%',\n",
       "              >\n",
       "                  1250\n",
       "              </progress>\n",
       "\n",
       "    "
      ],
      "text/plain": [
       "<IPython.core.display.HTML object>"
      ]
     },
     "metadata": {},
     "output_type": "display_data"
    },
    {
     "name": "stdout",
     "output_type": "stream",
     "text": [
      "\n",
      "*** Feature extraction finished ***\n",
      "*** Feature extraction started ***\n"
     ]
    },
    {
     "data": {
      "text/html": [
       "\n",
       "              <p>\n",
       "                  Progress: 100% Complete\n",
       "              <p/>            \n",
       "              <progress\n",
       "                  value='1250'\n",
       "                  max='1250',\n",
       "                  style='width: 25%',\n",
       "              >\n",
       "                  1250\n",
       "              </progress>\n",
       "\n",
       "    "
      ],
      "text/plain": [
       "<IPython.core.display.HTML object>"
      ]
     },
     "metadata": {},
     "output_type": "display_data"
    },
    {
     "name": "stdout",
     "output_type": "stream",
     "text": [
      "\n",
      "*** Feature extraction finished ***\n",
      "*** Feature extraction started ***\n"
     ]
    },
    {
     "data": {
      "text/html": [
       "\n",
       "              <p>\n",
       "                  Progress: 100% Complete\n",
       "              <p/>            \n",
       "              <progress\n",
       "                  value='1250'\n",
       "                  max='1250',\n",
       "                  style='width: 25%',\n",
       "              >\n",
       "                  1250\n",
       "              </progress>\n",
       "\n",
       "    "
      ],
      "text/plain": [
       "<IPython.core.display.HTML object>"
      ]
     },
     "metadata": {},
     "output_type": "display_data"
    },
    {
     "name": "stdout",
     "output_type": "stream",
     "text": [
      "\n",
      "*** Feature extraction finished ***\n",
      "*** Feature extraction started ***\n"
     ]
    },
    {
     "data": {
      "text/html": [
       "\n",
       "              <p>\n",
       "                  Progress: 100% Complete\n",
       "              <p/>            \n",
       "              <progress\n",
       "                  value='1250'\n",
       "                  max='1250',\n",
       "                  style='width: 25%',\n",
       "              >\n",
       "                  1250\n",
       "              </progress>\n",
       "\n",
       "    "
      ],
      "text/plain": [
       "<IPython.core.display.HTML object>"
      ]
     },
     "metadata": {},
     "output_type": "display_data"
    },
    {
     "name": "stdout",
     "output_type": "stream",
     "text": [
      "\n",
      "*** Feature extraction finished ***\n"
     ]
    }
   ],
   "source": [
    "df_test  = get_features(ds, ['x_test_1','x_test_2'], fs = fs, cfg_file = cfg_file)"
   ]
  },
  {
   "cell_type": "code",
   "execution_count": null,
   "id": "6f8d0efb",
   "metadata": {},
   "outputs": [],
   "source": [
    "df_test.to_csv('tsfel_train.csv')\n",
    "df_test = pd.read_csv('tsfel_train.csv')"
   ]
  },
  {
   "cell_type": "code",
   "execution_count": 42,
   "id": "59df8513",
   "metadata": {
    "scrolled": true
   },
   "outputs": [
    {
     "data": {
      "text/html": [
       "<div>\n",
       "<style scoped>\n",
       "    .dataframe tbody tr th:only-of-type {\n",
       "        vertical-align: middle;\n",
       "    }\n",
       "\n",
       "    .dataframe tbody tr th {\n",
       "        vertical-align: top;\n",
       "    }\n",
       "\n",
       "    .dataframe thead th {\n",
       "        text-align: right;\n",
       "    }\n",
       "</style>\n",
       "<table border=\"1\" class=\"dataframe\">\n",
       "  <thead>\n",
       "    <tr style=\"text-align: right;\">\n",
       "      <th></th>\n",
       "      <th>Unnamed: 0</th>\n",
       "      <th>0_Absolute energy</th>\n",
       "      <th>0_Area under the curve</th>\n",
       "      <th>0_Autocorrelation</th>\n",
       "      <th>0_Centroid</th>\n",
       "      <th>0_ECDF Percentile Count_0</th>\n",
       "      <th>0_ECDF Percentile Count_1</th>\n",
       "      <th>0_ECDF Percentile_0</th>\n",
       "      <th>0_ECDF Percentile_1</th>\n",
       "      <th>0_ECDF_0</th>\n",
       "      <th>...</th>\n",
       "      <th>0_Wavelet variance_0</th>\n",
       "      <th>0_Wavelet variance_1</th>\n",
       "      <th>0_Wavelet variance_2</th>\n",
       "      <th>0_Wavelet variance_3</th>\n",
       "      <th>0_Wavelet variance_4</th>\n",
       "      <th>0_Wavelet variance_5</th>\n",
       "      <th>0_Wavelet variance_6</th>\n",
       "      <th>0_Wavelet variance_7</th>\n",
       "      <th>0_Wavelet variance_8</th>\n",
       "      <th>0_Zero crossing rate</th>\n",
       "    </tr>\n",
       "  </thead>\n",
       "  <tbody>\n",
       "    <tr>\n",
       "      <th>45873</th>\n",
       "      <td>45873</td>\n",
       "      <td>109.719883</td>\n",
       "      <td>0.011695</td>\n",
       "      <td>109.719883</td>\n",
       "      <td>0.100577</td>\n",
       "      <td>2000.0</td>\n",
       "      <td>8000.0</td>\n",
       "      <td>-0.030530</td>\n",
       "      <td>0.030122</td>\n",
       "      <td>0.0001</td>\n",
       "      <td>...</td>\n",
       "      <td>0.000062</td>\n",
       "      <td>0.000239</td>\n",
       "      <td>0.000565</td>\n",
       "      <td>0.001077</td>\n",
       "      <td>0.001823</td>\n",
       "      <td>0.002913</td>\n",
       "      <td>0.004494</td>\n",
       "      <td>0.006706</td>\n",
       "      <td>0.009665</td>\n",
       "      <td>306.0</td>\n",
       "    </tr>\n",
       "    <tr>\n",
       "      <th>45287</th>\n",
       "      <td>45287</td>\n",
       "      <td>112.342696</td>\n",
       "      <td>0.011708</td>\n",
       "      <td>112.342696</td>\n",
       "      <td>0.099211</td>\n",
       "      <td>2000.0</td>\n",
       "      <td>8000.0</td>\n",
       "      <td>-0.030210</td>\n",
       "      <td>0.029893</td>\n",
       "      <td>0.0001</td>\n",
       "      <td>...</td>\n",
       "      <td>0.000077</td>\n",
       "      <td>0.000292</td>\n",
       "      <td>0.000685</td>\n",
       "      <td>0.001282</td>\n",
       "      <td>0.002142</td>\n",
       "      <td>0.003373</td>\n",
       "      <td>0.005116</td>\n",
       "      <td>0.007502</td>\n",
       "      <td>0.010645</td>\n",
       "      <td>334.0</td>\n",
       "    </tr>\n",
       "    <tr>\n",
       "      <th>13704</th>\n",
       "      <td>13704</td>\n",
       "      <td>174.123660</td>\n",
       "      <td>0.013007</td>\n",
       "      <td>174.123660</td>\n",
       "      <td>0.099319</td>\n",
       "      <td>2000.0</td>\n",
       "      <td>8000.0</td>\n",
       "      <td>-0.019830</td>\n",
       "      <td>0.019276</td>\n",
       "      <td>0.0001</td>\n",
       "      <td>...</td>\n",
       "      <td>0.000008</td>\n",
       "      <td>0.000063</td>\n",
       "      <td>0.000261</td>\n",
       "      <td>0.000707</td>\n",
       "      <td>0.001526</td>\n",
       "      <td>0.002877</td>\n",
       "      <td>0.004950</td>\n",
       "      <td>0.007930</td>\n",
       "      <td>0.011997</td>\n",
       "      <td>126.0</td>\n",
       "    </tr>\n",
       "    <tr>\n",
       "      <th>27653</th>\n",
       "      <td>27653</td>\n",
       "      <td>168.448411</td>\n",
       "      <td>0.013201</td>\n",
       "      <td>168.448411</td>\n",
       "      <td>0.097987</td>\n",
       "      <td>2000.0</td>\n",
       "      <td>8000.0</td>\n",
       "      <td>-0.029555</td>\n",
       "      <td>0.029097</td>\n",
       "      <td>0.0001</td>\n",
       "      <td>...</td>\n",
       "      <td>0.000053</td>\n",
       "      <td>0.000440</td>\n",
       "      <td>0.001459</td>\n",
       "      <td>0.003104</td>\n",
       "      <td>0.005356</td>\n",
       "      <td>0.008310</td>\n",
       "      <td>0.012171</td>\n",
       "      <td>0.017162</td>\n",
       "      <td>0.023435</td>\n",
       "      <td>278.0</td>\n",
       "    </tr>\n",
       "    <tr>\n",
       "      <th>21644</th>\n",
       "      <td>21644</td>\n",
       "      <td>156.093809</td>\n",
       "      <td>0.012224</td>\n",
       "      <td>156.093809</td>\n",
       "      <td>0.098297</td>\n",
       "      <td>2000.0</td>\n",
       "      <td>8000.0</td>\n",
       "      <td>-0.021126</td>\n",
       "      <td>0.020524</td>\n",
       "      <td>0.0001</td>\n",
       "      <td>...</td>\n",
       "      <td>0.000040</td>\n",
       "      <td>0.000304</td>\n",
       "      <td>0.000905</td>\n",
       "      <td>0.001813</td>\n",
       "      <td>0.003073</td>\n",
       "      <td>0.004877</td>\n",
       "      <td>0.007429</td>\n",
       "      <td>0.010895</td>\n",
       "      <td>0.015406</td>\n",
       "      <td>118.0</td>\n",
       "    </tr>\n",
       "    <tr>\n",
       "      <th>10960</th>\n",
       "      <td>10960</td>\n",
       "      <td>155.466106</td>\n",
       "      <td>0.012860</td>\n",
       "      <td>155.466106</td>\n",
       "      <td>0.098806</td>\n",
       "      <td>2000.0</td>\n",
       "      <td>8000.0</td>\n",
       "      <td>-0.020717</td>\n",
       "      <td>0.020163</td>\n",
       "      <td>0.0001</td>\n",
       "      <td>...</td>\n",
       "      <td>0.000016</td>\n",
       "      <td>0.000109</td>\n",
       "      <td>0.000362</td>\n",
       "      <td>0.000835</td>\n",
       "      <td>0.001578</td>\n",
       "      <td>0.002695</td>\n",
       "      <td>0.004331</td>\n",
       "      <td>0.006626</td>\n",
       "      <td>0.009695</td>\n",
       "      <td>100.0</td>\n",
       "    </tr>\n",
       "    <tr>\n",
       "      <th>43676</th>\n",
       "      <td>43676</td>\n",
       "      <td>110.349087</td>\n",
       "      <td>0.011242</td>\n",
       "      <td>110.349087</td>\n",
       "      <td>0.101873</td>\n",
       "      <td>2000.0</td>\n",
       "      <td>8000.0</td>\n",
       "      <td>-0.026964</td>\n",
       "      <td>0.026542</td>\n",
       "      <td>0.0001</td>\n",
       "      <td>...</td>\n",
       "      <td>0.000048</td>\n",
       "      <td>0.000207</td>\n",
       "      <td>0.000528</td>\n",
       "      <td>0.001067</td>\n",
       "      <td>0.001886</td>\n",
       "      <td>0.003104</td>\n",
       "      <td>0.004881</td>\n",
       "      <td>0.007356</td>\n",
       "      <td>0.010629</td>\n",
       "      <td>310.0</td>\n",
       "    </tr>\n",
       "    <tr>\n",
       "      <th>1352</th>\n",
       "      <td>1352</td>\n",
       "      <td>133.003346</td>\n",
       "      <td>0.011631</td>\n",
       "      <td>133.003346</td>\n",
       "      <td>0.097911</td>\n",
       "      <td>2000.0</td>\n",
       "      <td>8000.0</td>\n",
       "      <td>-0.020230</td>\n",
       "      <td>0.019874</td>\n",
       "      <td>0.0001</td>\n",
       "      <td>...</td>\n",
       "      <td>0.000006</td>\n",
       "      <td>0.000041</td>\n",
       "      <td>0.000171</td>\n",
       "      <td>0.000481</td>\n",
       "      <td>0.001075</td>\n",
       "      <td>0.002074</td>\n",
       "      <td>0.003617</td>\n",
       "      <td>0.005859</td>\n",
       "      <td>0.008957</td>\n",
       "      <td>106.0</td>\n",
       "    </tr>\n",
       "    <tr>\n",
       "      <th>35774</th>\n",
       "      <td>35774</td>\n",
       "      <td>103.687300</td>\n",
       "      <td>0.010146</td>\n",
       "      <td>103.687300</td>\n",
       "      <td>0.100609</td>\n",
       "      <td>2000.0</td>\n",
       "      <td>8000.0</td>\n",
       "      <td>-0.024351</td>\n",
       "      <td>0.024056</td>\n",
       "      <td>0.0001</td>\n",
       "      <td>...</td>\n",
       "      <td>0.000053</td>\n",
       "      <td>0.000359</td>\n",
       "      <td>0.001146</td>\n",
       "      <td>0.002476</td>\n",
       "      <td>0.004344</td>\n",
       "      <td>0.006775</td>\n",
       "      <td>0.009875</td>\n",
       "      <td>0.013794</td>\n",
       "      <td>0.018659</td>\n",
       "      <td>296.0</td>\n",
       "    </tr>\n",
       "    <tr>\n",
       "      <th>18208</th>\n",
       "      <td>18208</td>\n",
       "      <td>71.534575</td>\n",
       "      <td>0.008619</td>\n",
       "      <td>71.534575</td>\n",
       "      <td>0.098781</td>\n",
       "      <td>2000.0</td>\n",
       "      <td>8000.0</td>\n",
       "      <td>-0.018189</td>\n",
       "      <td>0.017904</td>\n",
       "      <td>0.0001</td>\n",
       "      <td>...</td>\n",
       "      <td>0.000039</td>\n",
       "      <td>0.000188</td>\n",
       "      <td>0.000456</td>\n",
       "      <td>0.000825</td>\n",
       "      <td>0.001315</td>\n",
       "      <td>0.002033</td>\n",
       "      <td>0.003097</td>\n",
       "      <td>0.004603</td>\n",
       "      <td>0.006634</td>\n",
       "      <td>138.0</td>\n",
       "    </tr>\n",
       "  </tbody>\n",
       "</table>\n",
       "<p>10 rows × 391 columns</p>\n",
       "</div>"
      ],
      "text/plain": [
       "       Unnamed: 0  0_Absolute energy  0_Area under the curve  \\\n",
       "45873       45873         109.719883                0.011695   \n",
       "45287       45287         112.342696                0.011708   \n",
       "13704       13704         174.123660                0.013007   \n",
       "27653       27653         168.448411                0.013201   \n",
       "21644       21644         156.093809                0.012224   \n",
       "10960       10960         155.466106                0.012860   \n",
       "43676       43676         110.349087                0.011242   \n",
       "1352         1352         133.003346                0.011631   \n",
       "35774       35774         103.687300                0.010146   \n",
       "18208       18208          71.534575                0.008619   \n",
       "\n",
       "       0_Autocorrelation  0_Centroid  0_ECDF Percentile Count_0  \\\n",
       "45873         109.719883    0.100577                     2000.0   \n",
       "45287         112.342696    0.099211                     2000.0   \n",
       "13704         174.123660    0.099319                     2000.0   \n",
       "27653         168.448411    0.097987                     2000.0   \n",
       "21644         156.093809    0.098297                     2000.0   \n",
       "10960         155.466106    0.098806                     2000.0   \n",
       "43676         110.349087    0.101873                     2000.0   \n",
       "1352          133.003346    0.097911                     2000.0   \n",
       "35774         103.687300    0.100609                     2000.0   \n",
       "18208          71.534575    0.098781                     2000.0   \n",
       "\n",
       "       0_ECDF Percentile Count_1  0_ECDF Percentile_0  0_ECDF Percentile_1  \\\n",
       "45873                     8000.0            -0.030530             0.030122   \n",
       "45287                     8000.0            -0.030210             0.029893   \n",
       "13704                     8000.0            -0.019830             0.019276   \n",
       "27653                     8000.0            -0.029555             0.029097   \n",
       "21644                     8000.0            -0.021126             0.020524   \n",
       "10960                     8000.0            -0.020717             0.020163   \n",
       "43676                     8000.0            -0.026964             0.026542   \n",
       "1352                      8000.0            -0.020230             0.019874   \n",
       "35774                     8000.0            -0.024351             0.024056   \n",
       "18208                     8000.0            -0.018189             0.017904   \n",
       "\n",
       "       0_ECDF_0  ...  0_Wavelet variance_0  0_Wavelet variance_1  \\\n",
       "45873    0.0001  ...              0.000062              0.000239   \n",
       "45287    0.0001  ...              0.000077              0.000292   \n",
       "13704    0.0001  ...              0.000008              0.000063   \n",
       "27653    0.0001  ...              0.000053              0.000440   \n",
       "21644    0.0001  ...              0.000040              0.000304   \n",
       "10960    0.0001  ...              0.000016              0.000109   \n",
       "43676    0.0001  ...              0.000048              0.000207   \n",
       "1352     0.0001  ...              0.000006              0.000041   \n",
       "35774    0.0001  ...              0.000053              0.000359   \n",
       "18208    0.0001  ...              0.000039              0.000188   \n",
       "\n",
       "       0_Wavelet variance_2  0_Wavelet variance_3  0_Wavelet variance_4  \\\n",
       "45873              0.000565              0.001077              0.001823   \n",
       "45287              0.000685              0.001282              0.002142   \n",
       "13704              0.000261              0.000707              0.001526   \n",
       "27653              0.001459              0.003104              0.005356   \n",
       "21644              0.000905              0.001813              0.003073   \n",
       "10960              0.000362              0.000835              0.001578   \n",
       "43676              0.000528              0.001067              0.001886   \n",
       "1352               0.000171              0.000481              0.001075   \n",
       "35774              0.001146              0.002476              0.004344   \n",
       "18208              0.000456              0.000825              0.001315   \n",
       "\n",
       "       0_Wavelet variance_5  0_Wavelet variance_6  0_Wavelet variance_7  \\\n",
       "45873              0.002913              0.004494              0.006706   \n",
       "45287              0.003373              0.005116              0.007502   \n",
       "13704              0.002877              0.004950              0.007930   \n",
       "27653              0.008310              0.012171              0.017162   \n",
       "21644              0.004877              0.007429              0.010895   \n",
       "10960              0.002695              0.004331              0.006626   \n",
       "43676              0.003104              0.004881              0.007356   \n",
       "1352               0.002074              0.003617              0.005859   \n",
       "35774              0.006775              0.009875              0.013794   \n",
       "18208              0.002033              0.003097              0.004603   \n",
       "\n",
       "       0_Wavelet variance_8  0_Zero crossing rate  \n",
       "45873              0.009665                 306.0  \n",
       "45287              0.010645                 334.0  \n",
       "13704              0.011997                 126.0  \n",
       "27653              0.023435                 278.0  \n",
       "21644              0.015406                 118.0  \n",
       "10960              0.009695                 100.0  \n",
       "43676              0.010629                 310.0  \n",
       "1352               0.008957                 106.0  \n",
       "35774              0.018659                 296.0  \n",
       "18208              0.006634                 138.0  \n",
       "\n",
       "[10 rows x 391 columns]"
      ]
     },
     "execution_count": 42,
     "metadata": {},
     "output_type": "execute_result"
    }
   ],
   "source": [
    "df_train.sample(10)"
   ]
  },
  {
   "cell_type": "code",
   "execution_count": 43,
   "id": "3b9df912",
   "metadata": {},
   "outputs": [],
   "source": [
    "df_train = df_train.drop(columns=['Unnamed: 0'])"
   ]
  },
  {
   "cell_type": "code",
   "execution_count": 35,
   "id": "ff4028da",
   "metadata": {
    "scrolled": false
   },
   "outputs": [
    {
     "data": {
      "text/html": [
       "<div>\n",
       "<style scoped>\n",
       "    .dataframe tbody tr th:only-of-type {\n",
       "        vertical-align: middle;\n",
       "    }\n",
       "\n",
       "    .dataframe tbody tr th {\n",
       "        vertical-align: top;\n",
       "    }\n",
       "\n",
       "    .dataframe thead th {\n",
       "        text-align: right;\n",
       "    }\n",
       "</style>\n",
       "<table border=\"1\" class=\"dataframe\">\n",
       "  <thead>\n",
       "    <tr style=\"text-align: right;\">\n",
       "      <th></th>\n",
       "      <th>0_Absolute energy</th>\n",
       "      <th>0_Area under the curve</th>\n",
       "      <th>0_Autocorrelation</th>\n",
       "      <th>0_Centroid</th>\n",
       "      <th>0_ECDF Percentile Count_0</th>\n",
       "      <th>0_ECDF Percentile Count_1</th>\n",
       "      <th>0_ECDF Percentile_0</th>\n",
       "      <th>0_ECDF Percentile_1</th>\n",
       "      <th>0_ECDF_0</th>\n",
       "      <th>0_ECDF_1</th>\n",
       "      <th>...</th>\n",
       "      <th>0_Wavelet variance_0</th>\n",
       "      <th>0_Wavelet variance_1</th>\n",
       "      <th>0_Wavelet variance_2</th>\n",
       "      <th>0_Wavelet variance_3</th>\n",
       "      <th>0_Wavelet variance_4</th>\n",
       "      <th>0_Wavelet variance_5</th>\n",
       "      <th>0_Wavelet variance_6</th>\n",
       "      <th>0_Wavelet variance_7</th>\n",
       "      <th>0_Wavelet variance_8</th>\n",
       "      <th>0_Zero crossing rate</th>\n",
       "    </tr>\n",
       "  </thead>\n",
       "  <tbody>\n",
       "    <tr>\n",
       "      <th>27673</th>\n",
       "      <td>166.738368</td>\n",
       "      <td>0.013199</td>\n",
       "      <td>166.738368</td>\n",
       "      <td>0.103006</td>\n",
       "      <td>2000.0</td>\n",
       "      <td>8000.0</td>\n",
       "      <td>-0.029471</td>\n",
       "      <td>0.029538</td>\n",
       "      <td>0.0001</td>\n",
       "      <td>0.0002</td>\n",
       "      <td>...</td>\n",
       "      <td>0.000076</td>\n",
       "      <td>0.000492</td>\n",
       "      <td>0.001354</td>\n",
       "      <td>0.002625</td>\n",
       "      <td>0.004309</td>\n",
       "      <td>0.006543</td>\n",
       "      <td>0.009541</td>\n",
       "      <td>0.013521</td>\n",
       "      <td>0.018690</td>\n",
       "      <td>338.0</td>\n",
       "    </tr>\n",
       "    <tr>\n",
       "      <th>8169</th>\n",
       "      <td>98.385407</td>\n",
       "      <td>0.009830</td>\n",
       "      <td>98.385407</td>\n",
       "      <td>0.099479</td>\n",
       "      <td>2000.0</td>\n",
       "      <td>8000.0</td>\n",
       "      <td>-0.017489</td>\n",
       "      <td>0.017024</td>\n",
       "      <td>0.0001</td>\n",
       "      <td>0.0002</td>\n",
       "      <td>...</td>\n",
       "      <td>0.000023</td>\n",
       "      <td>0.000147</td>\n",
       "      <td>0.000449</td>\n",
       "      <td>0.001010</td>\n",
       "      <td>0.001902</td>\n",
       "      <td>0.003212</td>\n",
       "      <td>0.005029</td>\n",
       "      <td>0.007426</td>\n",
       "      <td>0.010459</td>\n",
       "      <td>108.0</td>\n",
       "    </tr>\n",
       "    <tr>\n",
       "      <th>42227</th>\n",
       "      <td>63.075534</td>\n",
       "      <td>0.008609</td>\n",
       "      <td>63.075534</td>\n",
       "      <td>0.101160</td>\n",
       "      <td>2000.0</td>\n",
       "      <td>8000.0</td>\n",
       "      <td>-0.023214</td>\n",
       "      <td>0.022878</td>\n",
       "      <td>0.0001</td>\n",
       "      <td>0.0002</td>\n",
       "      <td>...</td>\n",
       "      <td>0.000040</td>\n",
       "      <td>0.000174</td>\n",
       "      <td>0.000421</td>\n",
       "      <td>0.000821</td>\n",
       "      <td>0.001422</td>\n",
       "      <td>0.002300</td>\n",
       "      <td>0.003556</td>\n",
       "      <td>0.005283</td>\n",
       "      <td>0.007563</td>\n",
       "      <td>298.0</td>\n",
       "    </tr>\n",
       "    <tr>\n",
       "      <th>16285</th>\n",
       "      <td>138.604059</td>\n",
       "      <td>0.011517</td>\n",
       "      <td>138.604059</td>\n",
       "      <td>0.096771</td>\n",
       "      <td>2000.0</td>\n",
       "      <td>8000.0</td>\n",
       "      <td>-0.019798</td>\n",
       "      <td>0.019174</td>\n",
       "      <td>0.0001</td>\n",
       "      <td>0.0002</td>\n",
       "      <td>...</td>\n",
       "      <td>0.000030</td>\n",
       "      <td>0.000252</td>\n",
       "      <td>0.000756</td>\n",
       "      <td>0.001505</td>\n",
       "      <td>0.002545</td>\n",
       "      <td>0.004051</td>\n",
       "      <td>0.006204</td>\n",
       "      <td>0.009150</td>\n",
       "      <td>0.013004</td>\n",
       "      <td>108.0</td>\n",
       "    </tr>\n",
       "    <tr>\n",
       "      <th>38742</th>\n",
       "      <td>65.700769</td>\n",
       "      <td>0.008416</td>\n",
       "      <td>65.700769</td>\n",
       "      <td>0.096826</td>\n",
       "      <td>2000.0</td>\n",
       "      <td>8000.0</td>\n",
       "      <td>-0.021910</td>\n",
       "      <td>0.021885</td>\n",
       "      <td>0.0001</td>\n",
       "      <td>0.0002</td>\n",
       "      <td>...</td>\n",
       "      <td>0.000057</td>\n",
       "      <td>0.000289</td>\n",
       "      <td>0.000693</td>\n",
       "      <td>0.001281</td>\n",
       "      <td>0.002078</td>\n",
       "      <td>0.003158</td>\n",
       "      <td>0.004641</td>\n",
       "      <td>0.006642</td>\n",
       "      <td>0.009267</td>\n",
       "      <td>366.0</td>\n",
       "    </tr>\n",
       "    <tr>\n",
       "      <th>1098</th>\n",
       "      <td>124.999009</td>\n",
       "      <td>0.011381</td>\n",
       "      <td>124.999009</td>\n",
       "      <td>0.097236</td>\n",
       "      <td>2000.0</td>\n",
       "      <td>8000.0</td>\n",
       "      <td>-0.020293</td>\n",
       "      <td>0.020027</td>\n",
       "      <td>0.0001</td>\n",
       "      <td>0.0002</td>\n",
       "      <td>...</td>\n",
       "      <td>0.000010</td>\n",
       "      <td>0.000072</td>\n",
       "      <td>0.000265</td>\n",
       "      <td>0.000678</td>\n",
       "      <td>0.001402</td>\n",
       "      <td>0.002544</td>\n",
       "      <td>0.004226</td>\n",
       "      <td>0.006565</td>\n",
       "      <td>0.009668</td>\n",
       "      <td>106.0</td>\n",
       "    </tr>\n",
       "    <tr>\n",
       "      <th>2466</th>\n",
       "      <td>129.943564</td>\n",
       "      <td>0.011629</td>\n",
       "      <td>129.943564</td>\n",
       "      <td>0.102655</td>\n",
       "      <td>2000.0</td>\n",
       "      <td>8000.0</td>\n",
       "      <td>-0.020505</td>\n",
       "      <td>0.020017</td>\n",
       "      <td>0.0001</td>\n",
       "      <td>0.0002</td>\n",
       "      <td>...</td>\n",
       "      <td>0.000011</td>\n",
       "      <td>0.000076</td>\n",
       "      <td>0.000275</td>\n",
       "      <td>0.000694</td>\n",
       "      <td>0.001425</td>\n",
       "      <td>0.002581</td>\n",
       "      <td>0.004289</td>\n",
       "      <td>0.006667</td>\n",
       "      <td>0.009824</td>\n",
       "      <td>114.0</td>\n",
       "    </tr>\n",
       "    <tr>\n",
       "      <th>8026</th>\n",
       "      <td>102.974663</td>\n",
       "      <td>0.009847</td>\n",
       "      <td>102.974663</td>\n",
       "      <td>0.101928</td>\n",
       "      <td>2000.0</td>\n",
       "      <td>8000.0</td>\n",
       "      <td>-0.017505</td>\n",
       "      <td>0.017167</td>\n",
       "      <td>0.0001</td>\n",
       "      <td>0.0002</td>\n",
       "      <td>...</td>\n",
       "      <td>0.000015</td>\n",
       "      <td>0.000102</td>\n",
       "      <td>0.000346</td>\n",
       "      <td>0.000848</td>\n",
       "      <td>0.001712</td>\n",
       "      <td>0.003052</td>\n",
       "      <td>0.004978</td>\n",
       "      <td>0.007581</td>\n",
       "      <td>0.010934</td>\n",
       "      <td>108.0</td>\n",
       "    </tr>\n",
       "    <tr>\n",
       "      <th>15794</th>\n",
       "      <td>210.540157</td>\n",
       "      <td>0.014279</td>\n",
       "      <td>210.540157</td>\n",
       "      <td>0.102334</td>\n",
       "      <td>2000.0</td>\n",
       "      <td>8000.0</td>\n",
       "      <td>-0.019822</td>\n",
       "      <td>0.019221</td>\n",
       "      <td>0.0001</td>\n",
       "      <td>0.0002</td>\n",
       "      <td>...</td>\n",
       "      <td>0.000024</td>\n",
       "      <td>0.000198</td>\n",
       "      <td>0.000668</td>\n",
       "      <td>0.001522</td>\n",
       "      <td>0.002862</td>\n",
       "      <td>0.004880</td>\n",
       "      <td>0.007787</td>\n",
       "      <td>0.011751</td>\n",
       "      <td>0.016892</td>\n",
       "      <td>106.0</td>\n",
       "    </tr>\n",
       "    <tr>\n",
       "      <th>10528</th>\n",
       "      <td>154.660699</td>\n",
       "      <td>0.012864</td>\n",
       "      <td>154.660699</td>\n",
       "      <td>0.099681</td>\n",
       "      <td>2000.0</td>\n",
       "      <td>8000.0</td>\n",
       "      <td>-0.020924</td>\n",
       "      <td>0.020315</td>\n",
       "      <td>0.0001</td>\n",
       "      <td>0.0002</td>\n",
       "      <td>...</td>\n",
       "      <td>0.000024</td>\n",
       "      <td>0.000141</td>\n",
       "      <td>0.000409</td>\n",
       "      <td>0.000881</td>\n",
       "      <td>0.001611</td>\n",
       "      <td>0.002707</td>\n",
       "      <td>0.004312</td>\n",
       "      <td>0.006554</td>\n",
       "      <td>0.009546</td>\n",
       "      <td>106.0</td>\n",
       "    </tr>\n",
       "  </tbody>\n",
       "</table>\n",
       "<p>10 rows × 390 columns</p>\n",
       "</div>"
      ],
      "text/plain": [
       "       0_Absolute energy  0_Area under the curve  0_Autocorrelation  \\\n",
       "27673         166.738368                0.013199         166.738368   \n",
       "8169           98.385407                0.009830          98.385407   \n",
       "42227          63.075534                0.008609          63.075534   \n",
       "16285         138.604059                0.011517         138.604059   \n",
       "38742          65.700769                0.008416          65.700769   \n",
       "1098          124.999009                0.011381         124.999009   \n",
       "2466          129.943564                0.011629         129.943564   \n",
       "8026          102.974663                0.009847         102.974663   \n",
       "15794         210.540157                0.014279         210.540157   \n",
       "10528         154.660699                0.012864         154.660699   \n",
       "\n",
       "       0_Centroid  0_ECDF Percentile Count_0  0_ECDF Percentile Count_1  \\\n",
       "27673    0.103006                     2000.0                     8000.0   \n",
       "8169     0.099479                     2000.0                     8000.0   \n",
       "42227    0.101160                     2000.0                     8000.0   \n",
       "16285    0.096771                     2000.0                     8000.0   \n",
       "38742    0.096826                     2000.0                     8000.0   \n",
       "1098     0.097236                     2000.0                     8000.0   \n",
       "2466     0.102655                     2000.0                     8000.0   \n",
       "8026     0.101928                     2000.0                     8000.0   \n",
       "15794    0.102334                     2000.0                     8000.0   \n",
       "10528    0.099681                     2000.0                     8000.0   \n",
       "\n",
       "       0_ECDF Percentile_0  0_ECDF Percentile_1  0_ECDF_0  0_ECDF_1  ...  \\\n",
       "27673            -0.029471             0.029538    0.0001    0.0002  ...   \n",
       "8169             -0.017489             0.017024    0.0001    0.0002  ...   \n",
       "42227            -0.023214             0.022878    0.0001    0.0002  ...   \n",
       "16285            -0.019798             0.019174    0.0001    0.0002  ...   \n",
       "38742            -0.021910             0.021885    0.0001    0.0002  ...   \n",
       "1098             -0.020293             0.020027    0.0001    0.0002  ...   \n",
       "2466             -0.020505             0.020017    0.0001    0.0002  ...   \n",
       "8026             -0.017505             0.017167    0.0001    0.0002  ...   \n",
       "15794            -0.019822             0.019221    0.0001    0.0002  ...   \n",
       "10528            -0.020924             0.020315    0.0001    0.0002  ...   \n",
       "\n",
       "       0_Wavelet variance_0  0_Wavelet variance_1  0_Wavelet variance_2  \\\n",
       "27673              0.000076              0.000492              0.001354   \n",
       "8169               0.000023              0.000147              0.000449   \n",
       "42227              0.000040              0.000174              0.000421   \n",
       "16285              0.000030              0.000252              0.000756   \n",
       "38742              0.000057              0.000289              0.000693   \n",
       "1098               0.000010              0.000072              0.000265   \n",
       "2466               0.000011              0.000076              0.000275   \n",
       "8026               0.000015              0.000102              0.000346   \n",
       "15794              0.000024              0.000198              0.000668   \n",
       "10528              0.000024              0.000141              0.000409   \n",
       "\n",
       "       0_Wavelet variance_3  0_Wavelet variance_4  0_Wavelet variance_5  \\\n",
       "27673              0.002625              0.004309              0.006543   \n",
       "8169               0.001010              0.001902              0.003212   \n",
       "42227              0.000821              0.001422              0.002300   \n",
       "16285              0.001505              0.002545              0.004051   \n",
       "38742              0.001281              0.002078              0.003158   \n",
       "1098               0.000678              0.001402              0.002544   \n",
       "2466               0.000694              0.001425              0.002581   \n",
       "8026               0.000848              0.001712              0.003052   \n",
       "15794              0.001522              0.002862              0.004880   \n",
       "10528              0.000881              0.001611              0.002707   \n",
       "\n",
       "       0_Wavelet variance_6  0_Wavelet variance_7  0_Wavelet variance_8  \\\n",
       "27673              0.009541              0.013521              0.018690   \n",
       "8169               0.005029              0.007426              0.010459   \n",
       "42227              0.003556              0.005283              0.007563   \n",
       "16285              0.006204              0.009150              0.013004   \n",
       "38742              0.004641              0.006642              0.009267   \n",
       "1098               0.004226              0.006565              0.009668   \n",
       "2466               0.004289              0.006667              0.009824   \n",
       "8026               0.004978              0.007581              0.010934   \n",
       "15794              0.007787              0.011751              0.016892   \n",
       "10528              0.004312              0.006554              0.009546   \n",
       "\n",
       "       0_Zero crossing rate  \n",
       "27673                 338.0  \n",
       "8169                  108.0  \n",
       "42227                 298.0  \n",
       "16285                 108.0  \n",
       "38742                 366.0  \n",
       "1098                  106.0  \n",
       "2466                  114.0  \n",
       "8026                  108.0  \n",
       "15794                 106.0  \n",
       "10528                 106.0  \n",
       "\n",
       "[10 rows x 390 columns]"
      ]
     },
     "execution_count": 35,
     "metadata": {},
     "output_type": "execute_result"
    }
   ],
   "source": [
    "df_test.sample(10)"
   ]
  },
  {
   "cell_type": "code",
   "execution_count": null,
   "id": "5cb5fedb",
   "metadata": {},
   "outputs": [],
   "source": []
  },
  {
   "cell_type": "code",
   "execution_count": null,
   "id": "9924566e",
   "metadata": {},
   "outputs": [],
   "source": []
  }
 ],
 "metadata": {
  "kernelspec": {
   "display_name": "Python 3",
   "language": "python",
   "name": "python3"
  },
  "language_info": {
   "codemirror_mode": {
    "name": "ipython",
    "version": 3
   },
   "file_extension": ".py",
   "mimetype": "text/x-python",
   "name": "python",
   "nbconvert_exporter": "python",
   "pygments_lexer": "ipython3",
   "version": "3.7.0"
  },
  "toc": {
   "base_numbering": 1,
   "nav_menu": {},
   "number_sections": true,
   "sideBar": true,
   "skip_h1_title": false,
   "title_cell": "Table of Contents",
   "title_sidebar": "Contents",
   "toc_cell": false,
   "toc_position": {},
   "toc_section_display": true,
   "toc_window_display": false
  }
 },
 "nbformat": 4,
 "nbformat_minor": 5
}
